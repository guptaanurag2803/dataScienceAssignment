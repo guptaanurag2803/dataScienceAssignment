{
 "cells": [
  {
   "cell_type": "markdown",
   "id": "f1317ea7",
   "metadata": {},
   "source": [
    "#3.\n",
    "\n",
    "When dealing with a dataset containing a significant number of outliers and employing an SVM model, the most appropriate regression metric is the Mean Absolute Error (MAE). Unlike the Mean Squared Error (MSE), which heavily penalizes outliers due to squaring, MAE provides a robust measure of the average magnitude of errors. This makes MAE less sensitive to extreme values, ensuring that the impact of outliers on the evaluation is mitigated. Given the presence of outliers, MAE's resistance to their influence enhances the model's ability to accurately reflect general trends in the data and provides a more reliable assessment of the model's predictive performance."
   ]
  },
  {
   "cell_type": "markdown",
   "id": "fd859a09",
   "metadata": {},
   "source": [
    "#4.\n",
    "\n",
    "When evaluating an SVM regression model with a polynomial kernel, if both the Mean Squared Error (MSE) and the Root Mean Squared Error (RMSE) values are very close, it is generally recommended to use RMSE as the evaluation metric. RMSE has the advantage of providing a measure of the error in the same units as the target variable, which can make it more interpretable in practical terms. Additionally, RMSE gives more weight to larger errors due to the squaring operation, which can help in emphasizing the significance of outliers or larger prediction errors. Therefore, when facing a situation where MSE and RMSE are comparable, RMSE is a preferred choice for its practical interpretability and sensitivity to larger errors."
   ]
  },
  {
   "cell_type": "markdown",
   "id": "2eb13fcf",
   "metadata": {},
   "source": [
    "#5.\n",
    "\n",
    "When our goal is to measure how well a regression model explains the variance in the target variable, the most appropriate evaluation metric is the Coefficient of Determination (R-squared). R-squared, often denoted as R^2, provides insight into the proportion of the variance in the dependent variable that is explained by the independent variables in the model. \n",
    "\n",
    "For the comparison of different SVM regression models with different kernels (linear, polynomial, and RBF), using R-squared will allow you to directly assess and compare their abilities to capture and explain the variability in the target variable. A higher R-squared value indicates a better fit, implying that the chosen model and kernel combination provides a better explanation of the variance in the data. Therefore, R-squared is the most appropriate metric when the goal is to measure how well the models explain the variance in the target variable."
   ]
  }
 ],
 "metadata": {
  "kernelspec": {
   "display_name": "Python 3 (ipykernel)",
   "language": "python",
   "name": "python3"
  },
  "language_info": {
   "codemirror_mode": {
    "name": "ipython",
    "version": 3
   },
   "file_extension": ".py",
   "mimetype": "text/x-python",
   "name": "python",
   "nbconvert_exporter": "python",
   "pygments_lexer": "ipython3",
   "version": "3.11.4"
  }
 },
 "nbformat": 4,
 "nbformat_minor": 5
}
