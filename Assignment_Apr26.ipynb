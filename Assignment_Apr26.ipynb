{
 "cells": [
  {
   "cell_type": "code",
   "execution_count": 1,
   "id": "199c7fd3",
   "metadata": {},
   "outputs": [],
   "source": [
    "import pandas as pd"
   ]
  },
  {
   "cell_type": "code",
   "execution_count": 2,
   "id": "9b1ec697",
   "metadata": {},
   "outputs": [],
   "source": [
    "column_names = ['Class', 'Alcohol', 'Malic Acid', 'Ash', 'Alcalinity of Ash', 'Magnesium',\n",
    "                'Total Phenols', 'Flavanoids', 'Nonflavanoid Phenols', 'Proanthocyanins',\n",
    "                'Color Intensity', 'Hue', 'OD280/OD315 of Diluted Wines', 'Proline']\n",
    "\n",
    "data = pd.read_csv('./wine.csv',names=column_names)"
   ]
  },
  {
   "cell_type": "code",
   "execution_count": 3,
   "id": "51e236c0",
   "metadata": {},
   "outputs": [],
   "source": [
    "df = pd.DataFrame(data)"
   ]
  },
  {
   "cell_type": "code",
   "execution_count": 4,
   "id": "2deb5d8f",
   "metadata": {},
   "outputs": [
    {
     "data": {
      "text/html": [
       "<div>\n",
       "<style scoped>\n",
       "    .dataframe tbody tr th:only-of-type {\n",
       "        vertical-align: middle;\n",
       "    }\n",
       "\n",
       "    .dataframe tbody tr th {\n",
       "        vertical-align: top;\n",
       "    }\n",
       "\n",
       "    .dataframe thead th {\n",
       "        text-align: right;\n",
       "    }\n",
       "</style>\n",
       "<table border=\"1\" class=\"dataframe\">\n",
       "  <thead>\n",
       "    <tr style=\"text-align: right;\">\n",
       "      <th></th>\n",
       "      <th>Class</th>\n",
       "      <th>Alcohol</th>\n",
       "      <th>Malic Acid</th>\n",
       "      <th>Ash</th>\n",
       "      <th>Alcalinity of Ash</th>\n",
       "      <th>Magnesium</th>\n",
       "      <th>Total Phenols</th>\n",
       "      <th>Flavanoids</th>\n",
       "      <th>Nonflavanoid Phenols</th>\n",
       "      <th>Proanthocyanins</th>\n",
       "      <th>Color Intensity</th>\n",
       "      <th>Hue</th>\n",
       "      <th>OD280/OD315 of Diluted Wines</th>\n",
       "      <th>Proline</th>\n",
       "    </tr>\n",
       "  </thead>\n",
       "  <tbody>\n",
       "    <tr>\n",
       "      <th>0</th>\n",
       "      <td>1</td>\n",
       "      <td>14.23</td>\n",
       "      <td>1.71</td>\n",
       "      <td>2.43</td>\n",
       "      <td>15.6</td>\n",
       "      <td>127</td>\n",
       "      <td>2.80</td>\n",
       "      <td>3.06</td>\n",
       "      <td>0.28</td>\n",
       "      <td>2.29</td>\n",
       "      <td>5.64</td>\n",
       "      <td>1.04</td>\n",
       "      <td>3.92</td>\n",
       "      <td>1065</td>\n",
       "    </tr>\n",
       "    <tr>\n",
       "      <th>1</th>\n",
       "      <td>1</td>\n",
       "      <td>13.20</td>\n",
       "      <td>1.78</td>\n",
       "      <td>2.14</td>\n",
       "      <td>11.2</td>\n",
       "      <td>100</td>\n",
       "      <td>2.65</td>\n",
       "      <td>2.76</td>\n",
       "      <td>0.26</td>\n",
       "      <td>1.28</td>\n",
       "      <td>4.38</td>\n",
       "      <td>1.05</td>\n",
       "      <td>3.40</td>\n",
       "      <td>1050</td>\n",
       "    </tr>\n",
       "    <tr>\n",
       "      <th>2</th>\n",
       "      <td>1</td>\n",
       "      <td>13.16</td>\n",
       "      <td>2.36</td>\n",
       "      <td>2.67</td>\n",
       "      <td>18.6</td>\n",
       "      <td>101</td>\n",
       "      <td>2.80</td>\n",
       "      <td>3.24</td>\n",
       "      <td>0.30</td>\n",
       "      <td>2.81</td>\n",
       "      <td>5.68</td>\n",
       "      <td>1.03</td>\n",
       "      <td>3.17</td>\n",
       "      <td>1185</td>\n",
       "    </tr>\n",
       "    <tr>\n",
       "      <th>3</th>\n",
       "      <td>1</td>\n",
       "      <td>14.37</td>\n",
       "      <td>1.95</td>\n",
       "      <td>2.50</td>\n",
       "      <td>16.8</td>\n",
       "      <td>113</td>\n",
       "      <td>3.85</td>\n",
       "      <td>3.49</td>\n",
       "      <td>0.24</td>\n",
       "      <td>2.18</td>\n",
       "      <td>7.80</td>\n",
       "      <td>0.86</td>\n",
       "      <td>3.45</td>\n",
       "      <td>1480</td>\n",
       "    </tr>\n",
       "    <tr>\n",
       "      <th>4</th>\n",
       "      <td>1</td>\n",
       "      <td>13.24</td>\n",
       "      <td>2.59</td>\n",
       "      <td>2.87</td>\n",
       "      <td>21.0</td>\n",
       "      <td>118</td>\n",
       "      <td>2.80</td>\n",
       "      <td>2.69</td>\n",
       "      <td>0.39</td>\n",
       "      <td>1.82</td>\n",
       "      <td>4.32</td>\n",
       "      <td>1.04</td>\n",
       "      <td>2.93</td>\n",
       "      <td>735</td>\n",
       "    </tr>\n",
       "  </tbody>\n",
       "</table>\n",
       "</div>"
      ],
      "text/plain": [
       "   Class  Alcohol  Malic Acid   Ash  Alcalinity of Ash  Magnesium  \\\n",
       "0      1    14.23        1.71  2.43               15.6        127   \n",
       "1      1    13.20        1.78  2.14               11.2        100   \n",
       "2      1    13.16        2.36  2.67               18.6        101   \n",
       "3      1    14.37        1.95  2.50               16.8        113   \n",
       "4      1    13.24        2.59  2.87               21.0        118   \n",
       "\n",
       "   Total Phenols  Flavanoids  Nonflavanoid Phenols  Proanthocyanins  \\\n",
       "0           2.80        3.06                  0.28             2.29   \n",
       "1           2.65        2.76                  0.26             1.28   \n",
       "2           2.80        3.24                  0.30             2.81   \n",
       "3           3.85        3.49                  0.24             2.18   \n",
       "4           2.80        2.69                  0.39             1.82   \n",
       "\n",
       "   Color Intensity   Hue  OD280/OD315 of Diluted Wines  Proline  \n",
       "0             5.64  1.04                          3.92     1065  \n",
       "1             4.38  1.05                          3.40     1050  \n",
       "2             5.68  1.03                          3.17     1185  \n",
       "3             7.80  0.86                          3.45     1480  \n",
       "4             4.32  1.04                          2.93      735  "
      ]
     },
     "execution_count": 4,
     "metadata": {},
     "output_type": "execute_result"
    }
   ],
   "source": [
    "df.head()"
   ]
  },
  {
   "cell_type": "code",
   "execution_count": 5,
   "id": "50a780be",
   "metadata": {},
   "outputs": [
    {
     "name": "stdout",
     "output_type": "stream",
     "text": [
      "<class 'pandas.core.frame.DataFrame'>\n",
      "RangeIndex: 178 entries, 0 to 177\n",
      "Data columns (total 14 columns):\n",
      " #   Column                        Non-Null Count  Dtype  \n",
      "---  ------                        --------------  -----  \n",
      " 0   Class                         178 non-null    int64  \n",
      " 1   Alcohol                       178 non-null    float64\n",
      " 2   Malic Acid                    178 non-null    float64\n",
      " 3   Ash                           178 non-null    float64\n",
      " 4   Alcalinity of Ash             178 non-null    float64\n",
      " 5   Magnesium                     178 non-null    int64  \n",
      " 6   Total Phenols                 178 non-null    float64\n",
      " 7   Flavanoids                    178 non-null    float64\n",
      " 8   Nonflavanoid Phenols          178 non-null    float64\n",
      " 9   Proanthocyanins               178 non-null    float64\n",
      " 10  Color Intensity               178 non-null    float64\n",
      " 11  Hue                           178 non-null    float64\n",
      " 12  OD280/OD315 of Diluted Wines  178 non-null    float64\n",
      " 13  Proline                       178 non-null    int64  \n",
      "dtypes: float64(11), int64(3)\n",
      "memory usage: 19.6 KB\n"
     ]
    }
   ],
   "source": [
    "df.info()"
   ]
  },
  {
   "cell_type": "code",
   "execution_count": 6,
   "id": "89f2f6fd",
   "metadata": {},
   "outputs": [
    {
     "data": {
      "text/plain": [
       "Class                           0\n",
       "Alcohol                         0\n",
       "Malic Acid                      0\n",
       "Ash                             0\n",
       "Alcalinity of Ash               0\n",
       "Magnesium                       0\n",
       "Total Phenols                   0\n",
       "Flavanoids                      0\n",
       "Nonflavanoid Phenols            0\n",
       "Proanthocyanins                 0\n",
       "Color Intensity                 0\n",
       "Hue                             0\n",
       "OD280/OD315 of Diluted Wines    0\n",
       "Proline                         0\n",
       "dtype: int64"
      ]
     },
     "execution_count": 6,
     "metadata": {},
     "output_type": "execute_result"
    }
   ],
   "source": [
    "df.isna().sum()"
   ]
  },
  {
   "cell_type": "code",
   "execution_count": 7,
   "id": "017a8541",
   "metadata": {},
   "outputs": [],
   "source": [
    "X = df.iloc[:, 1:]\n",
    "y = df.iloc[:, :1].astype(int)"
   ]
  },
  {
   "cell_type": "code",
   "execution_count": 8,
   "id": "75fa6d44",
   "metadata": {},
   "outputs": [],
   "source": [
    "from sklearn.model_selection import train_test_split\n",
    "X_train, X_test, y_train, y_test = train_test_split(X, y, test_size=.33, random_state=42)"
   ]
  },
  {
   "cell_type": "code",
   "execution_count": 9,
   "id": "4ca24b3c",
   "metadata": {},
   "outputs": [],
   "source": [
    "from sklearn.preprocessing import StandardScaler\n",
    "scaler = StandardScaler()\n",
    "X_train = scaler.fit_transform(X_train)"
   ]
  },
  {
   "cell_type": "code",
   "execution_count": 10,
   "id": "aba9f6c0",
   "metadata": {},
   "outputs": [],
   "source": [
    "X_test = scaler.transform(X_test)"
   ]
  },
  {
   "cell_type": "code",
   "execution_count": 11,
   "id": "6592ca29",
   "metadata": {},
   "outputs": [
    {
     "data": {
      "text/plain": [
       "array([[ 2.52352277,  0.03836841, -0.30636923, ..., -0.13023856,\n",
       "         0.56298203, -0.09305255],\n",
       "       [-4.16020518, -0.74065951, -1.41069026, ..., -0.34466738,\n",
       "        -0.456598  ,  0.31318453],\n",
       "       [ 1.05621404,  2.43286949, -1.40498156, ..., -0.23819239,\n",
       "        -0.06871123, -0.00823639],\n",
       "       ...,\n",
       "       [ 4.25229838, -2.27210703, -1.03930487, ..., -0.2238914 ,\n",
       "        -0.13412847, -0.08813621],\n",
       "       [-1.75475749,  1.59003576, -0.17434373, ..., -0.65624332,\n",
       "        -0.37048363,  0.29147243],\n",
       "       [-0.10557028,  1.27121233,  0.78080784, ..., -0.18591201,\n",
       "        -0.01573722, -0.28815859]])"
      ]
     },
     "execution_count": 11,
     "metadata": {},
     "output_type": "execute_result"
    }
   ],
   "source": [
    "from sklearn.decomposition import PCA\n",
    "n_components = len(X.columns)\n",
    "pca = PCA(n_components=n_components)\n",
    "pca.fit_transform(X_train)"
   ]
  },
  {
   "cell_type": "code",
   "execution_count": 12,
   "id": "c962cd0f",
   "metadata": {},
   "outputs": [
    {
     "data": {
      "text/plain": [
       "array([[ 2.02765867e+00, -1.07964711e+00, -1.26952255e-01,\n",
       "         2.69155797e-01,  8.71917855e-01, -5.94676121e-01,\n",
       "         1.25625913e+00, -4.75486177e-01, -3.19654326e-01,\n",
       "        -3.22977035e-01, -7.14766370e-01,  2.41143458e-01,\n",
       "         5.37406061e-02],\n",
       "       [ 1.11727060e+00, -1.77432528e+00,  1.63261631e-01,\n",
       "         6.77775852e-01,  2.47553486e-02, -5.37837701e-01,\n",
       "         1.70402921e+00, -3.46251403e-01, -2.73684220e-01,\n",
       "         4.20374551e-01,  6.96971383e-01,  6.42340106e-02,\n",
       "         2.04100266e-01],\n",
       "       [-2.65120060e+00, -1.92792772e-01,  7.44040897e-01,\n",
       "        -6.59247539e-01, -7.52635314e-01, -2.20999636e-01,\n",
       "         6.76356102e-01, -5.59586165e-01,  2.93035664e-01,\n",
       "         4.28793311e-01, -5.08149902e-01, -4.81373890e-02,\n",
       "        -5.21066921e-01],\n",
       "       [ 2.50066977e+00, -1.06607273e+00,  1.41454606e+00,\n",
       "        -2.69716484e-01, -5.83168853e-01, -3.70223550e-01,\n",
       "        -7.14430216e-01,  1.04456689e+00,  7.69208634e-01,\n",
       "        -5.06823382e-01,  4.39184241e-01, -4.79389448e-01,\n",
       "         1.65758507e-01],\n",
       "       [ 2.08069679e-01,  2.24780568e+00, -1.34294193e+00,\n",
       "        -6.86059277e-04, -5.10700683e-01, -1.25531909e+00,\n",
       "        -3.72518047e-01,  1.06853661e-01, -3.50334829e-01,\n",
       "         3.33610865e-01,  5.14836457e-01,  1.26640963e+00,\n",
       "        -7.45941518e-02],\n",
       "       [ 2.17315262e+00, -2.17535204e+00,  1.06212483e+00,\n",
       "        -8.48947686e-01, -2.62926695e-01,  1.01798891e-02,\n",
       "         3.06479617e-02,  4.30899852e-01,  1.88196630e-01,\n",
       "        -2.42753965e-02,  6.74745079e-02, -4.63687671e-01,\n",
       "         3.62209625e-01],\n",
       "       [-4.35941378e-01,  2.16533043e+00, -7.56190019e-01,\n",
       "         1.36631048e+00,  3.28683896e-01,  6.33099978e-01,\n",
       "         8.30872159e-01, -6.80502681e-02,  6.87265533e-01,\n",
       "         3.50258414e-01,  2.36935770e-01,  3.58790908e-03,\n",
       "        -5.82441650e-03],\n",
       "       [-2.49518101e+00, -1.68027900e+00,  2.91074041e-01,\n",
       "         2.79008613e-01,  2.92745378e-01,  1.66731578e-01,\n",
       "         3.90317553e-02,  5.78168507e-01,  1.74356372e-01,\n",
       "        -1.15799737e-01,  3.60705472e-01, -2.49053136e-01,\n",
       "        -1.51881890e-01],\n",
       "       [ 1.62544994e+00,  1.62493628e+00,  1.44789898e+00,\n",
       "         5.76209637e-01,  5.72067860e-01, -2.71739261e-01,\n",
       "        -8.36335583e-01, -5.24499316e-01,  1.08576179e+00,\n",
       "        -3.51658759e-01, -8.70811867e-01, -3.19158137e-01,\n",
       "        -3.05885894e-01],\n",
       "       [-2.19504846e+00, -4.52778034e-01, -8.86350950e-01,\n",
       "        -4.99115565e-01, -4.67345441e-01, -1.10823461e+00,\n",
       "         5.74985802e-01, -6.60755323e-02,  5.60798429e-01,\n",
       "         6.72545395e-01,  1.01777947e-02,  3.70814291e-01,\n",
       "        -3.47163243e-01],\n",
       "       [ 1.76583111e+00,  4.08911868e-01,  8.44833304e-01,\n",
       "        -7.63580602e-02, -5.35801454e-01, -9.65570373e-01,\n",
       "         7.22297076e-01,  2.53627563e-01,  2.73162953e-01,\n",
       "         3.84840226e-01, -3.46085803e-01,  4.06193726e-01,\n",
       "        -3.17359767e-01],\n",
       "       [-2.25915415e+00, -2.18541157e+00,  4.96916216e-01,\n",
       "        -7.19708003e-01,  2.13407189e+00, -8.79018345e-01,\n",
       "        -3.34501286e-01,  8.62079361e-01, -4.92792589e-01,\n",
       "        -1.99124825e-01, -5.51344403e-01, -2.35638083e-02,\n",
       "         6.43022184e-01],\n",
       "       [ 6.79781735e-01, -2.90827063e-01, -8.83248907e-01,\n",
       "         1.28123711e+00, -1.52350523e-01, -5.21898446e-01,\n",
       "         1.09471324e+00,  8.61609856e-02,  4.28622989e-01,\n",
       "         1.63665379e-02,  8.95290255e-01,  8.21737575e-02,\n",
       "         6.30908737e-01],\n",
       "       [-2.33244768e+00,  1.05221308e+00, -2.00463380e+00,\n",
       "         9.53165511e-01, -4.49915569e-01, -1.61939373e-01,\n",
       "         7.56102318e-01, -6.19535824e-01, -3.04749146e-01,\n",
       "         3.39493158e-01, -3.58780043e-01, -2.80354606e-01,\n",
       "         2.85045227e-01],\n",
       "       [ 2.24868433e+00, -1.67667296e+00,  4.70342630e-01,\n",
       "        -1.24860373e+00, -7.88055504e-01, -3.26440323e-01,\n",
       "         1.52348966e-01, -2.59568062e-01,  6.56426793e-02,\n",
       "        -1.04140579e+00,  2.89116608e-01,  4.01688528e-01,\n",
       "         1.86147058e-02],\n",
       "       [-2.34951973e-01,  1.97014727e+00, -2.68791954e-01,\n",
       "         7.42895483e-01,  4.78653090e-01, -1.09848423e+00,\n",
       "         4.20968075e-01, -4.43865301e-02, -6.18877152e-01,\n",
       "         2.57606329e-01,  1.47680752e-01, -5.14647393e-01,\n",
       "         1.47318236e-01],\n",
       "       [-3.76122313e-01,  2.37534339e+00,  8.03468065e-01,\n",
       "        -6.53805606e-01, -3.91796582e-01, -2.74034807e-01,\n",
       "        -1.15779827e+00, -5.99100287e-01, -1.61926727e-02,\n",
       "        -5.83378735e-01, -2.54154010e-01, -4.79814428e-01,\n",
       "        -2.36413829e-01],\n",
       "       [-3.99207205e-01,  2.52133985e+00,  1.07714204e+00,\n",
       "        -7.86552048e-01, -1.16451821e+00, -5.66669279e-01,\n",
       "        -2.24580233e-01,  7.08356320e-01,  6.41876482e-01,\n",
       "        -3.96375753e-01,  2.31836651e-01,  2.61148137e-02,\n",
       "        -2.87207799e-01],\n",
       "       [ 2.69670282e+00, -9.34127525e-01, -9.14576700e-01,\n",
       "         2.33880627e-01, -3.81221523e-01, -9.46038691e-01,\n",
       "        -5.30988839e-01, -5.63093982e-02, -1.70229925e-01,\n",
       "         1.88165504e-01,  3.98579244e-03,  6.57753671e-01,\n",
       "        -1.39123733e-01],\n",
       "       [-4.27534579e-01,  2.05447865e+00,  1.12553938e+00,\n",
       "         1.06877921e-01, -6.60645079e-01, -1.11633585e+00,\n",
       "        -3.51381016e-01, -8.09921877e-01, -3.43053798e-01,\n",
       "         5.05724412e-01, -7.41026000e-02, -2.99912094e-02,\n",
       "        -1.34301836e-01],\n",
       "       [ 3.46559704e+00, -2.62914043e+00, -1.52098819e-01,\n",
       "        -6.31175928e-01, -1.33755258e+00, -1.34532739e-01,\n",
       "        -6.60887305e-01, -1.36787296e-01,  2.72557963e-01,\n",
       "        -8.09069301e-01,  9.60757740e-01,  1.78071011e-01,\n",
       "         6.44013841e-01],\n",
       "       [ 2.23738724e+00,  1.62783815e+00, -2.30467020e+00,\n",
       "         1.36763059e+00, -5.07796045e-01, -2.01156899e-01,\n",
       "        -1.38152153e+00,  5.13343095e-01, -9.19367396e-01,\n",
       "         1.47615535e-01, -7.21151100e-02,  3.36984858e-01,\n",
       "         2.09431287e-03],\n",
       "       [-1.42925078e+00,  1.30918706e+00, -7.35616340e-01,\n",
       "        -2.25740550e+00, -1.85322508e+00,  1.03579149e+00,\n",
       "         8.02932972e-02, -1.24639981e+00, -7.14518160e-01,\n",
       "        -3.64540417e-01,  1.60382964e-01, -6.24388981e-01,\n",
       "        -2.70254338e-02],\n",
       "       [-2.35053731e+00, -2.39619287e+00,  1.50805635e+00,\n",
       "         2.23518568e-01,  1.38087960e+00, -1.03006921e+00,\n",
       "         6.73052862e-01,  4.61704730e-01, -2.21821068e-01,\n",
       "        -6.90483990e-01,  1.42604546e-01,  2.51591412e-01,\n",
       "        -3.53767463e-01],\n",
       "       [-3.58484951e+00, -1.02207058e+00, -1.16613294e+00,\n",
       "        -1.72108382e-01, -4.63719422e-01, -6.84688924e-01,\n",
       "        -1.29490807e+00, -5.37671539e-01, -3.79692761e-01,\n",
       "         4.86176635e-02, -2.36012796e-01,  8.03094073e-01,\n",
       "        -2.24654395e-01],\n",
       "       [-2.86194525e+00, -1.63155855e+00, -8.06304681e-01,\n",
       "        -1.26866125e-01, -3.69364460e-01, -6.82040557e-01,\n",
       "        -7.74792500e-01,  8.86199641e-01, -2.73556967e-01,\n",
       "         1.92520261e-01,  1.63901775e-02,  6.69181964e-01,\n",
       "        -8.13293029e-02],\n",
       "       [-1.41802893e-03,  2.07773246e+00,  3.63711465e-01,\n",
       "        -4.71500347e-01,  8.09831016e-01,  1.33791437e-01,\n",
       "         1.15732834e-01,  4.46794621e-01, -4.74982784e-01,\n",
       "         8.05795395e-01, -9.83938975e-02,  5.32759979e-02,\n",
       "         2.46406076e-01],\n",
       "       [ 9.42186730e-01,  8.26054434e-01,  4.78009653e-01,\n",
       "        -4.92123375e-01, -3.13070955e-01,  3.71625117e-01,\n",
       "        -9.32451032e-01,  3.18908199e-02,  1.15484022e-01,\n",
       "        -9.51516808e-01, -7.93487252e-01, -3.03707058e-01,\n",
       "         4.20608918e-02],\n",
       "       [-1.20886577e+00,  2.10941279e+00, -2.12097919e-01,\n",
       "        -8.03143173e-02, -1.10519465e+00,  7.39244088e-01,\n",
       "        -2.44388477e-01, -1.98153179e-02,  5.11889860e-01,\n",
       "        -1.46627337e-01, -7.64866508e-01, -2.28138420e-01,\n",
       "         6.63604809e-03],\n",
       "       [ 2.46827762e+00, -1.22623827e+00,  4.53637445e-01,\n",
       "        -7.36204763e-02,  9.25869511e-01, -2.00565578e-01,\n",
       "        -6.00157736e-01,  6.36090307e-01,  4.26605716e-01,\n",
       "         1.01846305e-01,  2.95132231e-01, -8.04144557e-02,\n",
       "        -2.03562453e-01],\n",
       "       [ 2.25734176e+00, -2.98988692e-01, -1.08885955e+00,\n",
       "         2.29994970e-01, -5.43618074e-01, -3.93557272e-01,\n",
       "         3.02486128e-01,  3.85450012e-01,  3.24169435e-01,\n",
       "         6.40154421e-01, -1.01976373e-01,  2.73253075e-01,\n",
       "        -4.96553978e-01],\n",
       "       [-3.56622097e-01,  2.12874003e+00,  9.43338647e-01,\n",
       "         6.52258372e-01,  1.31644485e-01, -3.09123603e-01,\n",
       "        -6.86559917e-01,  5.23079312e-01, -3.11189965e-03,\n",
       "         8.67941265e-01, -1.71809717e-01, -4.71871864e-01,\n",
       "         3.38925633e-01],\n",
       "       [-2.46355399e+00, -5.59232012e-01, -9.05659084e-01,\n",
       "         1.14629638e-01,  4.63197808e-01,  4.68885656e-01,\n",
       "         6.01607498e-01,  2.22949031e-01,  7.81322057e-01,\n",
       "         7.86750374e-01,  4.78635103e-01, -7.75835994e-01,\n",
       "         1.51705151e-01],\n",
       "       [ 2.64926885e+00, -1.52509197e+00, -2.69300657e-01,\n",
       "        -4.59590963e-01, -1.81022028e-01, -5.03117770e-01,\n",
       "        -4.97299239e-01,  2.94639653e-01,  9.04150623e-01,\n",
       "        -3.84132576e-01,  1.03090382e+00,  1.36859976e-01,\n",
       "         4.49565429e-01],\n",
       "       [ 2.09546765e+00, -8.03259673e-01, -7.50413006e-01,\n",
       "        -1.65112819e-01, -1.29962534e+00, -4.84926053e-01,\n",
       "        -4.02674492e-03,  2.18046150e-01,  8.73756680e-01,\n",
       "        -5.27544210e-01,  1.26331828e-01,  1.26659717e-02,\n",
       "         5.91043652e-02],\n",
       "       [ 2.98753417e+00, -1.21383438e+00, -2.17926733e-01,\n",
       "         4.34299489e-01, -8.92844702e-02, -1.49184905e+00,\n",
       "         3.27053671e-01, -7.57646149e-01,  1.11660739e-01,\n",
       "        -3.01896132e-02, -4.96235787e-01, -1.55463027e-01,\n",
       "        -5.15645841e-02],\n",
       "       [-9.66830114e-01, -3.34072212e+00,  1.44837014e+00,\n",
       "         9.33445583e-01, -4.02453425e-01,  1.23562212e-01,\n",
       "        -3.30495653e+00,  1.23927018e+00, -5.40128170e-01,\n",
       "         6.68053006e-01, -3.60821068e-01,  1.49437590e-01,\n",
       "        -1.28704428e+00],\n",
       "       [-3.78262039e+00, -4.82760757e-01,  1.72894948e+00,\n",
       "         9.83599749e-01, -3.99332147e-01,  1.04301675e+00,\n",
       "         1.12678765e+00, -1.00510092e-01, -3.99551563e-02,\n",
       "        -4.47774454e-01,  6.25490772e-01, -2.65049964e-01,\n",
       "        -5.95563920e-02],\n",
       "       [ 2.22466338e+00,  1.37729791e+00, -5.27197776e-01,\n",
       "         8.57686509e-01,  8.12383328e-02, -7.94267056e-01,\n",
       "        -1.42616622e+00, -3.60382003e-01, -6.51764965e-01,\n",
       "        -4.40869250e-01,  4.64342572e-01, -5.68178732e-01,\n",
       "         3.79185529e-01],\n",
       "       [-1.52826941e+00, -2.34064107e+00,  7.59238602e-01,\n",
       "         8.11205466e-01, -5.38742362e-01, -6.52508812e-02,\n",
       "        -3.06101278e+00,  4.35397826e-01, -1.98294587e-01,\n",
       "         1.34346141e-01, -4.77723463e-01,  6.22355664e-02,\n",
       "        -1.20593013e+00],\n",
       "       [ 1.51266409e+00,  6.17082922e-01, -1.48295147e+00,\n",
       "        -7.16768207e-01, -5.36270828e-01, -1.73637499e-01,\n",
       "         2.79236426e-01, -1.64005229e-01,  1.46864208e-01,\n",
       "        -2.86351589e-01,  3.13203971e-01, -1.32711829e-01,\n",
       "         4.63931262e-01],\n",
       "       [ 1.96207102e-01,  2.28808440e+00, -8.29565749e-01,\n",
       "         7.74544289e-01,  3.90617919e-01,  3.96814083e-01,\n",
       "        -9.28721341e-01, -6.85739119e-02, -2.67477951e-01,\n",
       "         1.09600996e+00, -3.39099744e-01, -1.46678121e-01,\n",
       "        -1.98985787e-01],\n",
       "       [ 8.33742861e-01,  2.03212240e+00, -4.62876375e-01,\n",
       "        -8.53839458e-01, -8.66445871e-02, -2.37336021e-01,\n",
       "         2.04251287e-01,  1.82752076e-01, -4.94374836e-01,\n",
       "         1.84696373e-01, -5.15985222e-01,  2.71566035e-01,\n",
       "        -3.57677503e-01],\n",
       "       [-7.23357649e-01,  2.40680578e-01, -4.99486180e-01,\n",
       "        -2.11893770e+00, -1.32510940e+00,  2.26542044e-01,\n",
       "         2.87130306e-01, -1.14925986e+00, -9.78827909e-01,\n",
       "         5.81585110e-01,  1.59934283e-01, -1.22700345e+00,\n",
       "        -2.19528144e-01],\n",
       "       [-2.29105908e+00, -4.85164083e-01, -2.06507664e-01,\n",
       "         9.36676809e-01, -5.97848793e-01,  3.64049428e-01,\n",
       "         1.72618083e+00,  3.10752846e-01, -5.32813031e-01,\n",
       "        -2.26731946e-01,  3.12037021e-01, -3.31867122e-01,\n",
       "        -2.62729437e-01],\n",
       "       [ 2.52374733e+00, -9.60633158e-01,  9.57327212e-01,\n",
       "         8.07199279e-01, -4.22750390e-02,  3.01572418e-01,\n",
       "        -4.73139523e-01,  2.63608204e-01,  1.20546995e+00,\n",
       "        -5.08259537e-01, -3.79301583e-01,  1.49917612e-02,\n",
       "        -3.08377594e-02],\n",
       "       [ 8.35950752e-01,  2.17547678e+00, -1.92252720e+00,\n",
       "        -1.67986387e-01,  3.12354723e-01,  3.21644535e-01,\n",
       "         2.86021564e-01,  8.76844972e-02, -2.59864802e-01,\n",
       "        -2.50584754e-01,  1.09553051e+00,  6.83565417e-01,\n",
       "         3.94614659e-01],\n",
       "       [-1.07135301e+00,  1.00013787e+00,  2.74498276e+00,\n",
       "         1.26496890e+00,  6.56166843e-01,  1.39639203e-01,\n",
       "         1.34590841e+00,  2.46930631e-01, -1.61950009e-02,\n",
       "         2.47881572e-01,  1.19507936e-02, -4.67611298e-02,\n",
       "         1.43081345e-01],\n",
       "       [-2.56585081e+00, -4.76490070e-01, -1.14222759e+00,\n",
       "        -7.93111217e-01,  1.34048337e-01,  6.66287188e-01,\n",
       "        -1.84608354e+00, -2.97556384e-01,  1.89388592e-01,\n",
       "         9.53839116e-01, -6.61557830e-02, -1.88430505e-02,\n",
       "        -1.21916282e-01],\n",
       "       [ 2.82959285e+00, -7.73286200e-01,  6.59551210e-02,\n",
       "        -1.49091793e-01, -8.07268378e-01, -5.22196392e-01,\n",
       "         8.74261416e-02,  8.31163395e-01,  1.10002681e+00,\n",
       "        -5.79769567e-01, -4.33762855e-01,  4.75064032e-01,\n",
       "        -9.67309716e-02],\n",
       "       [ 4.02656483e-01,  1.91918883e+00, -2.68853785e+00,\n",
       "        -3.23145092e-01, -1.95770739e-01, -3.58472424e-01,\n",
       "        -6.21272495e-01,  8.91028688e-01, -9.33390776e-01,\n",
       "        -1.04279276e-02, -1.88817133e-01,  4.21894566e-01,\n",
       "         1.94621881e-01],\n",
       "       [ 2.71292714e+00, -1.45826344e+00, -5.14076624e-01,\n",
       "         2.92360533e-02,  3.42776218e-01, -1.34628059e-01,\n",
       "        -1.62237420e-01, -7.37780633e-02, -6.83998169e-01,\n",
       "         6.58528195e-01, -7.36520954e-02, -4.32149272e-02,\n",
       "        -2.26797955e-01],\n",
       "       [ 1.76096960e+00, -7.40013095e-01,  5.66000790e-02,\n",
       "        -1.70099181e-02, -1.09408566e+00, -9.05896421e-01,\n",
       "         1.83960788e-01, -1.01398886e+00,  7.11539655e-01,\n",
       "        -1.38082159e-02, -2.05721929e-01, -2.41340317e-01,\n",
       "        -1.15111963e-02],\n",
       "       [-2.63084540e+00, -2.25568896e+00, -7.19578904e-01,\n",
       "         8.53316254e-01, -4.10099652e-01,  1.34644495e+00,\n",
       "        -1.60871701e+00, -1.96805003e-01, -1.24789825e-01,\n",
       "         1.75117326e-01, -2.85495990e-01,  3.36706450e-01,\n",
       "        -3.31897156e-01],\n",
       "       [-2.96077839e+00, -4.34766384e-01, -8.88364123e-01,\n",
       "         2.55876435e-01, -1.22233305e+00,  5.49200717e-01,\n",
       "         4.99580694e-01,  6.45309205e-02, -3.82156437e-01,\n",
       "         4.18905191e-01,  2.23064495e-01, -1.03144986e-01,\n",
       "        -1.81157160e-01],\n",
       "       [ 4.62428145e-01,  2.02348610e+00, -7.73884354e-01,\n",
       "         3.53853335e-01, -2.82389241e-01, -5.20849241e-01,\n",
       "         1.05247064e-01,  1.77947070e-01,  2.78569094e-01,\n",
       "         8.35807919e-01,  6.25431913e-01,  6.60875859e-01,\n",
       "        -1.24037597e-01],\n",
       "       [ 1.39771409e+00,  7.63608326e-01, -1.41106547e+00,\n",
       "        -1.23840889e+00,  1.77649720e+00,  2.58603701e+00,\n",
       "        -7.53320241e-01,  1.58240030e-01,  2.92508917e-01,\n",
       "         4.97161953e-01, -6.92570768e-01, -3.08136115e-01,\n",
       "         6.14551190e-02],\n",
       "       [ 1.37103483e+00, -6.00373964e-01,  6.38226769e-01,\n",
       "        -1.08340212e+00, -5.10428422e-01, -3.81586865e-01,\n",
       "         4.86492135e-01, -8.79733577e-01, -1.09377759e-01,\n",
       "        -6.11177137e-01, -1.07675829e+00, -3.27672007e-01,\n",
       "        -1.37603330e-01],\n",
       "       [ 7.73472913e-01,  2.30261431e+00, -2.79622650e-01,\n",
       "         1.19713570e+00,  4.60131450e-01, -7.51653447e-02,\n",
       "         6.59651665e-01,  2.88617341e-01, -3.38129913e-01,\n",
       "        -4.23314142e-01, -5.56190610e-01,  2.46211313e-01,\n",
       "        -3.74473620e-01]])"
      ]
     },
     "execution_count": 12,
     "metadata": {},
     "output_type": "execute_result"
    }
   ],
   "source": [
    "pca.transform(X_test)"
   ]
  },
  {
   "cell_type": "code",
   "execution_count": 13,
   "id": "92548646",
   "metadata": {},
   "outputs": [
    {
     "data": {
      "text/plain": [
       "array([0.36351132, 0.18633855, 0.11962996, 0.07588251, 0.0699779 ,\n",
       "       0.04295276, 0.03620701, 0.02658605, 0.0220032 , 0.01905649,\n",
       "       0.01698521, 0.0132192 , 0.00764984])"
      ]
     },
     "execution_count": 13,
     "metadata": {},
     "output_type": "execute_result"
    }
   ],
   "source": [
    "pca.explained_variance_ratio_"
   ]
  },
  {
   "cell_type": "code",
   "execution_count": 14,
   "id": "0576c83b",
   "metadata": {},
   "outputs": [
    {
     "data": {
      "text/plain": [
       "array([0.36351132, 0.54984987, 0.66947983, 0.74536234, 0.81534024,\n",
       "       0.858293  , 0.89450001, 0.92108606, 0.94308926, 0.96214575,\n",
       "       0.97913096, 0.99235016, 1.        ])"
      ]
     },
     "execution_count": 14,
     "metadata": {},
     "output_type": "execute_result"
    }
   ],
   "source": [
    "pca.explained_variance_ratio_.cumsum()"
   ]
  },
  {
   "cell_type": "code",
   "execution_count": 15,
   "id": "2efc4a9e",
   "metadata": {},
   "outputs": [],
   "source": [
    "# Taking 10 features which will give 95% of the total variance"
   ]
  },
  {
   "cell_type": "code",
   "execution_count": 16,
   "id": "5618d220",
   "metadata": {},
   "outputs": [],
   "source": [
    "from sklearn.decomposition import PCA\n",
    "n_components = 10\n",
    "pca = PCA(n_components=n_components)\n",
    "X_train = pca.fit_transform(X_train)"
   ]
  },
  {
   "cell_type": "code",
   "execution_count": 17,
   "id": "6df0110e",
   "metadata": {},
   "outputs": [],
   "source": [
    "X_test = pca.transform(X_test)"
   ]
  },
  {
   "cell_type": "code",
   "execution_count": 18,
   "id": "24167279",
   "metadata": {},
   "outputs": [
    {
     "data": {
      "text/plain": [
       "array([0.36351132, 0.18633855, 0.11962996, 0.07588251, 0.0699779 ,\n",
       "       0.04295276, 0.03620701, 0.02658605, 0.0220032 , 0.01905649])"
      ]
     },
     "execution_count": 18,
     "metadata": {},
     "output_type": "execute_result"
    }
   ],
   "source": [
    "pca.explained_variance_ratio_"
   ]
  },
  {
   "cell_type": "code",
   "execution_count": 19,
   "id": "0dcee725",
   "metadata": {},
   "outputs": [
    {
     "data": {
      "image/png": "[encoded data removed]",
      "text/plain": [
       "<Figure size 640x480 with 1 Axes>"
      ]
     },
     "metadata": {},
     "output_type": "display_data"
    }
   ],
   "source": [
    "import matplotlib.pyplot as plt\n",
    "import numpy as np\n",
    "plt.scatter(X_train[:, 0], X_train[:, 1], c=np.array(y_train), cmap='viridis')\n",
    "plt.xlabel('Principal Component 1')\n",
    "plt.ylabel('Principal Component 2')\n",
    "plt.title('PCA Scatter Plot')\n",
    "plt.show()"
   ]
  },
  {
   "cell_type": "code",
   "execution_count": 20,
   "id": "eee93731",
   "metadata": {},
   "outputs": [
    {
     "name": "stderr",
     "output_type": "stream",
     "text": [
      "C:\\Users\\iaman\\AppData\\Local\\Programs\\Python\\Python311\\Lib\\site-packages\\sklearn\\cluster\\_kmeans.py:1412: FutureWarning: The default value of `n_init` will change from 10 to 'auto' in 1.4. Set the value of `n_init` explicitly to suppress the warning\n",
      "  super()._check_params_vs_input(X, default_n_init=10)\n"
     ]
    },
    {
     "data": {
      "text/html": [
       "<style>#sk-container-id-1 {color: black;}#sk-container-id-1 pre{padding: 0;}#sk-container-id-1 div.sk-toggleable {background-color: white;}#sk-container-id-1 label.sk-toggleable__label {cursor: pointer;display: block;width: 100%;margin-bottom: 0;padding: 0.3em;box-sizing: border-box;text-align: center;}#sk-container-id-1 label.sk-toggleable__label-arrow:before {content: \"▸\";float: left;margin-right: 0.25em;color: #696969;}#sk-container-id-1 label.sk-toggleable__label-arrow:hover:before {color: black;}#sk-container-id-1 div.sk-estimator:hover label.sk-toggleable__label-arrow:before {color: black;}#sk-container-id-1 div.sk-toggleable__content {max-height: 0;max-width: 0;overflow: hidden;text-align: left;background-color: #f0f8ff;}#sk-container-id-1 div.sk-toggleable__content pre {margin: 0.2em;color: black;border-radius: 0.25em;background-color: #f0f8ff;}#sk-container-id-1 input.sk-toggleable__control:checked~div.sk-toggleable__content {max-height: 200px;max-width: 100%;overflow: auto;}#sk-container-id-1 input.sk-toggleable__control:checked~label.sk-toggleable__label-arrow:before {content: \"▾\";}#sk-container-id-1 div.sk-estimator input.sk-toggleable__control:checked~label.sk-toggleable__label {background-color: #d4ebff;}#sk-container-id-1 div.sk-label input.sk-toggleable__control:checked~label.sk-toggleable__label {background-color: #d4ebff;}#sk-container-id-1 input.sk-hidden--visually {border: 0;clip: rect(1px 1px 1px 1px);clip: rect(1px, 1px, 1px, 1px);height: 1px;margin: -1px;overflow: hidden;padding: 0;position: absolute;width: 1px;}#sk-container-id-1 div.sk-estimator {font-family: monospace;background-color: #f0f8ff;border: 1px dotted black;border-radius: 0.25em;box-sizing: border-box;margin-bottom: 0.5em;}#sk-container-id-1 div.sk-estimator:hover {background-color: #d4ebff;}#sk-container-id-1 div.sk-parallel-item::after {content: \"\";width: 100%;border-bottom: 1px solid gray;flex-grow: 1;}#sk-container-id-1 div.sk-label:hover label.sk-toggleable__label {background-color: #d4ebff;}#sk-container-id-1 div.sk-serial::before {content: \"\";position: absolute;border-left: 1px solid gray;box-sizing: border-box;top: 0;bottom: 0;left: 50%;z-index: 0;}#sk-container-id-1 div.sk-serial {display: flex;flex-direction: column;align-items: center;background-color: white;padding-right: 0.2em;padding-left: 0.2em;position: relative;}#sk-container-id-1 div.sk-item {position: relative;z-index: 1;}#sk-container-id-1 div.sk-parallel {display: flex;align-items: stretch;justify-content: center;background-color: white;position: relative;}#sk-container-id-1 div.sk-item::before, #sk-container-id-1 div.sk-parallel-item::before {content: \"\";position: absolute;border-left: 1px solid gray;box-sizing: border-box;top: 0;bottom: 0;left: 50%;z-index: -1;}#sk-container-id-1 div.sk-parallel-item {display: flex;flex-direction: column;z-index: 1;position: relative;background-color: white;}#sk-container-id-1 div.sk-parallel-item:first-child::after {align-self: flex-end;width: 50%;}#sk-container-id-1 div.sk-parallel-item:last-child::after {align-self: flex-start;width: 50%;}#sk-container-id-1 div.sk-parallel-item:only-child::after {width: 0;}#sk-container-id-1 div.sk-dashed-wrapped {border: 1px dashed gray;margin: 0 0.4em 0.5em 0.4em;box-sizing: border-box;padding-bottom: 0.4em;background-color: white;}#sk-container-id-1 div.sk-label label {font-family: monospace;font-weight: bold;display: inline-block;line-height: 1.2em;}#sk-container-id-1 div.sk-label-container {text-align: center;}#sk-container-id-1 div.sk-container {/* jupyter's `normalize.less` sets `[hidden] { display: none; }` but bootstrap.min.css set `[hidden] { display: none !important; }` so we also need the `!important` here to be able to override the default hidden behavior on the sphinx rendered scikit-learn.org. See: https://github.com/scikit-learn/scikit-learn/issues/21755 */display: inline-block !important;position: relative;}#sk-container-id-1 div.sk-text-repr-fallback {display: none;}</style><div id=\"sk-container-id-1\" class=\"sk-top-container\"><div class=\"sk-text-repr-fallback\"><pre>KMeans(n_clusters=3)</pre><b>In a Jupyter environment, please rerun this cell to show the HTML representation or trust the notebook. <br />On GitHub, the HTML representation is unable to render, please try loading this page with nbviewer.org.</b></div><div class=\"sk-container\" hidden><div class=\"sk-item\"><div class=\"sk-estimator sk-toggleable\"><input class=\"sk-toggleable__control sk-hidden--visually\" id=\"sk-estimator-id-1\" type=\"checkbox\" checked><label for=\"sk-estimator-id-1\" class=\"sk-toggleable__label sk-toggleable__label-arrow\">KMeans</label><div class=\"sk-toggleable__content\"><pre>KMeans(n_clusters=3)</pre></div></div></div></div></div>"
      ],
      "text/plain": [
       "KMeans(n_clusters=3)"
      ]
     },
     "execution_count": 20,
     "metadata": {},
     "output_type": "execute_result"
    }
   ],
   "source": [
    "from sklearn.cluster import KMeans\n",
    "cluster = KMeans(n_clusters=3)\n",
    "cluster.fit(X_train, y_train)"
   ]
  },
  {
   "cell_type": "code",
   "execution_count": 21,
   "id": "b901df14",
   "metadata": {},
   "outputs": [],
   "source": [
    "from sklearn.cluster import KMeans"
   ]
  },
  {
   "cell_type": "code",
   "execution_count": 22,
   "id": "89a08ed6",
   "metadata": {},
   "outputs": [
    {
     "name": "stderr",
     "output_type": "stream",
     "text": [
      "C:\\Users\\iaman\\AppData\\Local\\Programs\\Python\\Python311\\Lib\\site-packages\\sklearn\\cluster\\_kmeans.py:1412: FutureWarning: The default value of `n_init` will change from 10 to 'auto' in 1.4. Set the value of `n_init` explicitly to suppress the warning\n",
      "  super()._check_params_vs_input(X, default_n_init=10)\n",
      "C:\\Users\\iaman\\AppData\\Local\\Programs\\Python\\Python311\\Lib\\site-packages\\sklearn\\cluster\\_kmeans.py:1412: FutureWarning: The default value of `n_init` will change from 10 to 'auto' in 1.4. Set the value of `n_init` explicitly to suppress the warning\n",
      "  super()._check_params_vs_input(X, default_n_init=10)\n",
      "C:\\Users\\iaman\\AppData\\Local\\Programs\\Python\\Python311\\Lib\\site-packages\\sklearn\\cluster\\_kmeans.py:1412: FutureWarning: The default value of `n_init` will change from 10 to 'auto' in 1.4. Set the value of `n_init` explicitly to suppress the warning\n",
      "  super()._check_params_vs_input(X, default_n_init=10)\n",
      "C:\\Users\\iaman\\AppData\\Local\\Programs\\Python\\Python311\\Lib\\site-packages\\sklearn\\cluster\\_kmeans.py:1412: FutureWarning: The default value of `n_init` will change from 10 to 'auto' in 1.4. Set the value of `n_init` explicitly to suppress the warning\n",
      "  super()._check_params_vs_input(X, default_n_init=10)\n",
      "C:\\Users\\iaman\\AppData\\Local\\Programs\\Python\\Python311\\Lib\\site-packages\\sklearn\\cluster\\_kmeans.py:1412: FutureWarning: The default value of `n_init` will change from 10 to 'auto' in 1.4. Set the value of `n_init` explicitly to suppress the warning\n",
      "  super()._check_params_vs_input(X, default_n_init=10)\n",
      "C:\\Users\\iaman\\AppData\\Local\\Programs\\Python\\Python311\\Lib\\site-packages\\sklearn\\cluster\\_kmeans.py:1412: FutureWarning: The default value of `n_init` will change from 10 to 'auto' in 1.4. Set the value of `n_init` explicitly to suppress the warning\n",
      "  super()._check_params_vs_input(X, default_n_init=10)\n",
      "C:\\Users\\iaman\\AppData\\Local\\Programs\\Python\\Python311\\Lib\\site-packages\\sklearn\\cluster\\_kmeans.py:1412: FutureWarning: The default value of `n_init` will change from 10 to 'auto' in 1.4. Set the value of `n_init` explicitly to suppress the warning\n",
      "  super()._check_params_vs_input(X, default_n_init=10)\n",
      "C:\\Users\\iaman\\AppData\\Local\\Programs\\Python\\Python311\\Lib\\site-packages\\sklearn\\cluster\\_kmeans.py:1412: FutureWarning: The default value of `n_init` will change from 10 to 'auto' in 1.4. Set the value of `n_init` explicitly to suppress the warning\n",
      "  super()._check_params_vs_input(X, default_n_init=10)\n",
      "C:\\Users\\iaman\\AppData\\Local\\Programs\\Python\\Python311\\Lib\\site-packages\\sklearn\\cluster\\_kmeans.py:1412: FutureWarning: The default value of `n_init` will change from 10 to 'auto' in 1.4. Set the value of `n_init` explicitly to suppress the warning\n",
      "  super()._check_params_vs_input(X, default_n_init=10)\n",
      "C:\\Users\\iaman\\AppData\\Local\\Programs\\Python\\Python311\\Lib\\site-packages\\sklearn\\cluster\\_kmeans.py:1412: FutureWarning: The default value of `n_init` will change from 10 to 'auto' in 1.4. Set the value of `n_init` explicitly to suppress the warning\n",
      "  super()._check_params_vs_input(X, default_n_init=10)\n"
     ]
    }
   ],
   "source": [
    "wcss=[]\n",
    "for k in range(1, 11):\n",
    "    kmeans = KMeans(n_clusters=k, init='k-means++')\n",
    "    kmeans.fit(X_train)\n",
    "    wcss.append(kmeans.inertia_)"
   ]
  },
  {
   "cell_type": "code",
   "execution_count": 23,
   "id": "0a99ae59",
   "metadata": {},
   "outputs": [
    {
     "data": {
      "text/plain": [
       "[1488.4394704223844,\n",
       " 1041.4218868950247,\n",
       " 798.7320112121373,\n",
       " 713.9156020271464,\n",
       " 663.7772704724387,\n",
       " 628.2287282411218,\n",
       " 590.8507483497083,\n",
       " 548.3177657110965,\n",
       " 505.859372628529,\n",
       " 481.1036302392802]"
      ]
     },
     "execution_count": 23,
     "metadata": {},
     "output_type": "execute_result"
    }
   ],
   "source": [
    "wcss"
   ]
  },
  {
   "cell_type": "code",
   "execution_count": 24,
   "id": "ce17db29",
   "metadata": {},
   "outputs": [
    {
     "data": {
      "image/png": "[encoded data removed]",
      "text/plain": [
       "<Figure size 640x480 with 1 Axes>"
      ]
     },
     "metadata": {},
     "output_type": "display_data"
    }
   ],
   "source": [
    "plt.plot(range(1, 11), wcss)\n",
    "plt.xticks(range(1, 11))\n",
    "plt.xlabel('Number of Clusters')\n",
    "plt.ylabel('WCSS')\n",
    "plt.show()"
   ]
  },
  {
   "cell_type": "code",
   "execution_count": 25,
   "id": "7d1c5687",
   "metadata": {},
   "outputs": [
    {
     "data": {
      "text/plain": [
       "3"
      ]
     },
     "execution_count": 25,
     "metadata": {},
     "output_type": "execute_result"
    }
   ],
   "source": [
    "from kneed import KneeLocator\n",
    "kl = KneeLocator(range(1, 11), wcss, curve='convex', direction='decreasing')\n",
    "kl.elbow"
   ]
  },
  {
   "cell_type": "code",
   "execution_count": 26,
   "id": "e157c5c3",
   "metadata": {},
   "outputs": [],
   "source": [
    "kmeans = KMeans(n_clusters =3, init='k-means++')"
   ]
  },
  {
   "cell_type": "code",
   "execution_count": 27,
   "id": "86fbcf23",
   "metadata": {},
   "outputs": [
    {
     "name": "stderr",
     "output_type": "stream",
     "text": [
      "C:\\Users\\iaman\\AppData\\Local\\Programs\\Python\\Python311\\Lib\\site-packages\\sklearn\\cluster\\_kmeans.py:1412: FutureWarning: The default value of `n_init` will change from 10 to 'auto' in 1.4. Set the value of `n_init` explicitly to suppress the warning\n",
      "  super()._check_params_vs_input(X, default_n_init=10)\n"
     ]
    }
   ],
   "source": [
    "y_labels = kmeans.fit_predict(X_train)"
   ]
  },
  {
   "cell_type": "code",
   "execution_count": 28,
   "id": "47c72a1d",
   "metadata": {},
   "outputs": [
    {
     "data": {
      "text/plain": [
       "<matplotlib.collections.PathCollection at 0x227c2494490>"
      ]
     },
     "execution_count": 28,
     "metadata": {},
     "output_type": "execute_result"
    },
    {
     "data": {
      "image/png": "[encoded data removed]",
      "text/plain": [
       "<Figure size 640x480 with 1 Axes>"
      ]
     },
     "metadata": {},
     "output_type": "display_data"
    }
   ],
   "source": [
    "plt.scatter(X_train[:, 0], X_train[:, 1], c=y_labels)"
   ]
  },
  {
   "cell_type": "code",
   "execution_count": 29,
   "id": "63016502",
   "metadata": {},
   "outputs": [
    {
     "data": {
      "text/plain": [
       "array([0, 0, 2, 0, 1, 0, 1, 2, 1, 2, 0, 2, 0, 2, 0, 1, 1, 1, 0, 1, 0, 1,\n",
       "       1, 2, 2, 2, 1, 1, 1, 0, 0, 1, 2, 0, 0, 0, 2, 2, 1, 2, 0, 1, 1, 1,\n",
       "       2, 0, 1, 1, 2, 0, 1, 0, 0, 2, 2, 1, 1, 0, 1])"
      ]
     },
     "execution_count": 29,
     "metadata": {},
     "output_type": "execute_result"
    }
   ],
   "source": [
    "y_test_labels = kmeans.predict(X_test)\n",
    "y_test_labels"
   ]
  },
  {
   "cell_type": "code",
   "execution_count": 30,
   "id": "7f04965e",
   "metadata": {},
   "outputs": [
    {
     "data": {
      "text/plain": [
       "<matplotlib.collections.PathCollection at 0x227c24d7510>"
      ]
     },
     "execution_count": 30,
     "metadata": {},
     "output_type": "execute_result"
    },
    {
     "data": {
      "image/png": "[encoded data removed]",
      "text/plain": [
       "<Figure size 640x480 with 1 Axes>"
      ]
     },
     "metadata": {},
     "output_type": "display_data"
    }
   ],
   "source": [
    "plt.scatter(X_test[:, 0], X_test[:, 1], c=y_test_labels)"
   ]
  },
  {
   "cell_type": "code",
   "execution_count": 31,
   "id": "e87244c1",
   "metadata": {},
   "outputs": [
    {
     "data": {
      "text/plain": [
       "0.29430704899207694"
      ]
     },
     "execution_count": 31,
     "metadata": {},
     "output_type": "execute_result"
    }
   ],
   "source": [
    "from sklearn.metrics import silhouette_score\n",
    "silhouette_score(X_train, kmeans.labels_)"
   ]
  },
  {
   "cell_type": "markdown",
   "id": "e39d7601",
   "metadata": {},
   "source": [
    "Interpretation of PCA Results:\n",
    "The explained variance ratio provides insights into how much variance in the original dataset is captured by each principal component. Looking at explained variance ratio array [0.36351132, 0.18633855, 0.11962996, 0.07588251, 0.0699779 , 0.04295276, 0.03620701, 0.02658605, 0.0220032 , 0.01905649], here's what we can interpret:\n",
    "\n",
    "- The first principal component (PC1) explains approximately 36.35% of the variance in the data.\n",
    "- The second principal component (PC2) explains around 18.63% of the variance.\n",
    "- The third principal component (PC3) explains about 11.96% of the variance.\n",
    "- ... and so on.\n",
    "\n",
    "We can see that the contribution of variance decreases as we move to higher-numbered components. This suggests that the first few principal components carry the most information, while the later ones capture less significant variation.\n",
    "\n",
    "Interpretation of K-Means Clustering Results:\n",
    "The silhouette score of 0.294 indicates the quality of the clusters formed by the K-Means algorithm. The silhouette score measures how close each data point in one cluster is to the points in the neighboring clusters. A score close to 1 indicates well-defined clusters, while a score near 0 indicates overlapping clusters.\n",
    "\n",
    "In our case, a silhouette score of 0.294 suggests that the clusters might not be very well-separated. This could mean that the data points are relatively closer to the boundary between clusters. While not extremely high, the score is still positive, indicating that there's some structure in the data that K-Means is able to capture.\n",
    "\n",
    "Combined Interpretation:\n",
    "When interpreting the results of PCA and K-Means together, you can consider the following:\n",
    "\n",
    "1. PCA Results: The first few principal components (e.g., PC1, PC2) contribute significantly to the data's variance. These components might correspond to the most meaningful features or patterns in your dataset.\n",
    "\n",
    "2. K-Means Results: The silhouette score of 0.294 suggests that while the clusters aren't perfectly distinct, they still exhibit some level of structure. This implies that the K-Means algorithm has found patterns or groupings within the data.\n",
    "\n",
    "Overall, the combination of PCA and K-Means can provide insights into how your data is distributed and whether distinct clusters can be identified. Remember that interpretation can be context-dependent, so it's essential to consider your domain knowledge and the goals of your analysis when drawing conclusions."
   ]
  }
 ],
 "metadata": {
  "kernelspec": {
   "display_name": "Python 3 (ipykernel)",
   "language": "python",
   "name": "python3"
  },
  "language_info": {
   "codemirror_mode": {
    "name": "ipython",
    "version": 3
   },
   "file_extension": ".py",
   "mimetype": "text/x-python",
   "name": "python",
   "nbconvert_exporter": "python",
   "pygments_lexer": "ipython3",
   "version": "3.11.4"
  }
 },
 "nbformat": 4,
 "nbformat_minor": 5
}
