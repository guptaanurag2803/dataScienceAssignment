{
 "cells": [
  {
   "cell_type": "code",
   "execution_count": 1,
   "id": "3d9895f9",
   "metadata": {},
   "outputs": [],
   "source": [
    "#1.\n",
    "#def keyword is used to create a function."
   ]
  },
  {
   "cell_type": "code",
   "execution_count": 2,
   "id": "5444de61",
   "metadata": {},
   "outputs": [
    {
     "data": {
      "text/plain": [
       "[1, 3, 5, 7, 9, 11, 13, 15, 17, 19, 21, 23, 25]"
      ]
     },
     "execution_count": 2,
     "metadata": {},
     "output_type": "execute_result"
    }
   ],
   "source": [
    "#function to return a list of odd numbers in the range of 1 to 25\n",
    "def odd():\n",
    "    return [i for i in range(1, 26) if i%2!=0]\n",
    "\n",
    "odd()"
   ]
  },
  {
   "cell_type": "code",
   "execution_count": 3,
   "id": "42f0569b",
   "metadata": {},
   "outputs": [],
   "source": [
    "#2. \n",
    "# *args is used to define a function with variable number of arguments\n",
    "# **kwargs is used to define a function with variable number of arguments in key-value pair"
   ]
  },
  {
   "cell_type": "code",
   "execution_count": 4,
   "id": "d309b8ac",
   "metadata": {},
   "outputs": [
    {
     "data": {
      "text/plain": [
       "(12, 34, 'anurag', ['h', 'e', 'l', 'l', 'o'])"
      ]
     },
     "execution_count": 4,
     "metadata": {},
     "output_type": "execute_result"
    }
   ],
   "source": [
    "#function for *args\n",
    "\n",
    "def test(*args):\n",
    "    return args\n",
    "\n",
    "test(12, 34, \"anurag\", ['h', 'e', 'l', 'l', 'o'])"
   ]
  },
  {
   "cell_type": "code",
   "execution_count": 5,
   "id": "f751111c",
   "metadata": {},
   "outputs": [
    {
     "data": {
      "text/plain": [
       "{'a': 12, 'b': ['h', 'e', 'l', 'l', 'o'], 'c': 'bye'}"
      ]
     },
     "execution_count": 5,
     "metadata": {},
     "output_type": "execute_result"
    }
   ],
   "source": [
    "#function for **kwargs\n",
    "\n",
    "def test1(**kwargs):\n",
    "    return kwargs\n",
    "\n",
    "test1(a = 12, b = ['h', 'e', 'l', 'l', 'o'], c = \"bye\")"
   ]
  },
  {
   "cell_type": "code",
   "execution_count": 6,
   "id": "ef59a84b",
   "metadata": {},
   "outputs": [],
   "source": [
    "#3.\n",
    "#In python language, iterator is an object which is used to iterate over iteratable objects like list, set, dictionary and tuples.\n",
    "# __iter__() and __next__() methods is used to initialise the iterator object and the method used for iteration."
   ]
  },
  {
   "cell_type": "code",
   "execution_count": 7,
   "id": "acb55e05",
   "metadata": {},
   "outputs": [
    {
     "name": "stdout",
     "output_type": "stream",
     "text": [
      "2\n",
      "4\n",
      "6\n",
      "8\n",
      "10\n"
     ]
    }
   ],
   "source": [
    "l = [2, 4, 6, 8, 10, 12, 14, 16, 18, 20]\n",
    "iterator = iter(l)\n",
    "\n",
    "for i in range(5):\n",
    "    print(next(iterator))"
   ]
  },
  {
   "cell_type": "code",
   "execution_count": 8,
   "id": "0eda66df",
   "metadata": {},
   "outputs": [],
   "source": [
    "#4.\n",
    "# A generator function is a function which is used to get a sequence of number. \n",
    "# A generator function uses yield keyword unlike normal functions which uses return keyword to produce output.\n",
    "# The output of a generator function is a generator object that can be iterated over to produce the values."
   ]
  },
  {
   "cell_type": "code",
   "execution_count": 9,
   "id": "a034b1a1",
   "metadata": {},
   "outputs": [
    {
     "name": "stdout",
     "output_type": "stream",
     "text": [
      "0\n",
      "1\n",
      "2\n",
      "3\n",
      "4\n"
     ]
    }
   ],
   "source": [
    "#example\n",
    "\n",
    "def test2(n):\n",
    "    i = 0\n",
    "    while n>i:\n",
    "        yield i\n",
    "        i+=1\n",
    "        \n",
    "for i in test2(5):\n",
    "    print(i)"
   ]
  },
  {
   "cell_type": "code",
   "execution_count": 10,
   "id": "bce0ba83",
   "metadata": {},
   "outputs": [
    {
     "name": "stdout",
     "output_type": "stream",
     "text": [
      "2\n",
      "3\n",
      "5\n",
      "7\n",
      "11\n",
      "13\n",
      "17\n",
      "19\n",
      "23\n",
      "29\n",
      "31\n",
      "37\n",
      "41\n",
      "43\n",
      "47\n",
      "53\n",
      "59\n",
      "61\n",
      "67\n",
      "71\n"
     ]
    }
   ],
   "source": [
    "#5.\n",
    "\n",
    "def prime():\n",
    "    i = 2\n",
    "    while i < 1000:\n",
    "        for j in range(2, i):\n",
    "            if i%j == 0:\n",
    "                break\n",
    "        else:\n",
    "            yield i\n",
    "        i+=1\n",
    "\n",
    "iterator = iter(prime())\n",
    "\n",
    "for i in range(20):\n",
    "    print(next(iterator))"
   ]
  },
  {
   "cell_type": "code",
   "execution_count": 11,
   "id": "182714e2",
   "metadata": {},
   "outputs": [
    {
     "name": "stdout",
     "output_type": "stream",
     "text": [
      "1\n",
      "1\n",
      "2\n",
      "3\n",
      "5\n",
      "8\n",
      "13\n",
      "21\n",
      "34\n",
      "55\n"
     ]
    }
   ],
   "source": [
    "#6.\n",
    "#python program to print the first 10 Fibonacci numbers using a while loop.\n",
    "a, b, i = 0, 1, 0\n",
    " \n",
    "while i<10:\n",
    "    print(b)\n",
    "    c = a + b\n",
    "    a = b\n",
    "    b = c\n",
    "    i += 1"
   ]
  },
  {
   "cell_type": "code",
   "execution_count": 12,
   "id": "462088ec",
   "metadata": {},
   "outputs": [
    {
     "data": {
      "text/plain": [
       "['p', 'w', 's', 'k', 'i', 'l', 'l', 's']"
      ]
     },
     "execution_count": 12,
     "metadata": {},
     "output_type": "execute_result"
    }
   ],
   "source": [
    "#7.\n",
    "s = 'pwskills'\n",
    "[i for i in s]"
   ]
  },
  {
   "cell_type": "code",
   "execution_count": 15,
   "id": "e1fdf07c",
   "metadata": {},
   "outputs": [
    {
     "name": "stdout",
     "output_type": "stream",
     "text": [
      "Enter a number: 11011\n",
      "11011 is a palindrome.\n"
     ]
    }
   ],
   "source": [
    "#8.\n",
    "c = int(input(\"Enter a number: \"))\n",
    "n = c\n",
    "reverse = 0\n",
    "while n>0:\n",
    "    reverse *= 10\n",
    "    reverse += n%10\n",
    "    n = n//10\n",
    "\n",
    "if c == reverse:\n",
    "    print(c, \"is a palindrome.\")\n",
    "else:\n",
    "    print(c, \"is not a palindrome.\")"
   ]
  },
  {
   "cell_type": "code",
   "execution_count": 14,
   "id": "fec9b1d1",
   "metadata": {},
   "outputs": [
    {
     "name": "stdout",
     "output_type": "stream",
     "text": [
      "[1, 3, 5, 7, 9, 11, 13, 15, 17, 19, 21, 23, 25, 27, 29, 31, 33, 35, 37, 39, 41, 43, 45, 47, 49, 51, 53, 55, 57, 59, 61, 63, 65, 67, 69, 71, 73, 75, 77, 79, 81, 83, 85, 87, 89, 91, 93, 95, 97, 99]\n"
     ]
    }
   ],
   "source": [
    "#9.\n",
    "li = [i for i in range(1, 101)]\n",
    "li1 = [i for i in li if i%2 != 0]\n",
    "print(li1)"
   ]
  },
  {
   "cell_type": "code",
   "execution_count": null,
   "id": "271c358d",
   "metadata": {},
   "outputs": [],
   "source": []
  }
 ],
 "metadata": {
  "kernelspec": {
   "display_name": "Python 3 (ipykernel)",
   "language": "python",
   "name": "python3"
  },
  "language_info": {
   "codemirror_mode": {
    "name": "ipython",
    "version": 3
   },
   "file_extension": ".py",
   "mimetype": "text/x-python",
   "name": "python",
   "nbconvert_exporter": "python",
   "pygments_lexer": "ipython3",
   "version": "3.10.5"
  }
 },
 "nbformat": 4,
 "nbformat_minor": 5
}
