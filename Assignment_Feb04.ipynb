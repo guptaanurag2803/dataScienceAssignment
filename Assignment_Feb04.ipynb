{
 "cells": [
  {
   "cell_type": "code",
   "execution_count": 1,
   "id": "9c9a1d7b",
   "metadata": {},
   "outputs": [
    {
     "name": "stdout",
     "output_type": "stream",
     "text": [
      "[('Virat Kohli', 24936), ('Jack Kallis', 25534), ('Ricky Ponting', 27483), ('Sachin Tendulkar', 34357)]\n"
     ]
    }
   ],
   "source": [
    "#1.\n",
    "l = [('Sachin Tendulkar', 34357), ('Ricky Ponting', 27483), ('Jack Kallis', 25534), ('Virat Kohli', 24936)]\n",
    "sort = list(sorted(l, key = lambda x : x[1]))\n",
    "print(sort)"
   ]
  },
  {
   "cell_type": "code",
   "execution_count": 2,
   "id": "ce37ea05",
   "metadata": {},
   "outputs": [
    {
     "name": "stdout",
     "output_type": "stream",
     "text": [
      "[1, 4, 9, 16, 25, 36, 49, 64, 81, 100]\n"
     ]
    }
   ],
   "source": [
    "#2.\n",
    "l1 = [1, 2, 3, 4, 5, 6, 7, 8, 9, 10]\n",
    "squares = list(map(lambda x : x**2, l1))\n",
    "print(squares)"
   ]
  },
  {
   "cell_type": "code",
   "execution_count": 3,
   "id": "05cafcf9",
   "metadata": {},
   "outputs": [
    {
     "name": "stdout",
     "output_type": "stream",
     "text": [
      "('1', '2', '3', '4', '5', '6', '7', '8', '9', '10')\n"
     ]
    }
   ],
   "source": [
    "#3.\n",
    "l2 = [1, 2, 3, 4, 5, 6, 7, 8, 9, 10]\n",
    "tup = tuple(map(lambda x : str(x), l2))\n",
    "print(tup)"
   ]
  },
  {
   "cell_type": "code",
   "execution_count": 4,
   "id": "0e488a26",
   "metadata": {},
   "outputs": [
    {
     "name": "stdout",
     "output_type": "stream",
     "text": [
      "15511210043330985984000000\n"
     ]
    }
   ],
   "source": [
    "#4.\n",
    "from functools import reduce\n",
    "l3 = [i for i in range(1, 26)]\n",
    "a = reduce(lambda x, y : x*y, l3)\n",
    "print(a)"
   ]
  },
  {
   "cell_type": "code",
   "execution_count": 5,
   "id": "cdc1d258",
   "metadata": {},
   "outputs": [
    {
     "name": "stdout",
     "output_type": "stream",
     "text": [
      "[6, 60, 90, 120]\n"
     ]
    }
   ],
   "source": [
    "#5.\n",
    "l4 = [2, 3, 6, 9, 27, 60, 90, 120, 55, 46]\n",
    "div = list(filter(lambda x : x % 2 == 0 and x % 3 == 0, l4))\n",
    "print(div)"
   ]
  },
  {
   "cell_type": "code",
   "execution_count": 6,
   "id": "006da264",
   "metadata": {},
   "outputs": [
    {
     "name": "stdout",
     "output_type": "stream",
     "text": [
      "['php', 'aba', 'radar', 'level']\n"
     ]
    }
   ],
   "source": [
    "#6.\n",
    "l5 = ['python', 'php', 'aba', 'radar', 'level']\n",
    "pal = list(filter(lambda x : x == x[::-1], l5))\n",
    "print(pal)"
   ]
  },
  {
   "cell_type": "code",
   "execution_count": null,
   "id": "697b867a",
   "metadata": {},
   "outputs": [],
   "source": []
  }
 ],
 "metadata": {
  "kernelspec": {
   "display_name": "Python 3 (ipykernel)",
   "language": "python",
   "name": "python3"
  },
  "language_info": {
   "codemirror_mode": {
    "name": "ipython",
    "version": 3
   },
   "file_extension": ".py",
   "mimetype": "text/x-python",
   "name": "python",
   "nbconvert_exporter": "python",
   "pygments_lexer": "ipython3",
   "version": "3.10.5"
  }
 },
 "nbformat": 4,
 "nbformat_minor": 5
}
