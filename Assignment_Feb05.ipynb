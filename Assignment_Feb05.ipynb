{
 "cells": [
  {
   "cell_type": "code",
   "execution_count": 1,
   "id": "34c6e543",
   "metadata": {},
   "outputs": [],
   "source": [
    "#1.\n",
    "# A class is a blueprint which is used to define objects of a specific type.\n",
    "# A object is a instance of class which is used to access the attributes and methods of it's class type.\n",
    "# Example: If there is a class school then it's object can be DAV, KV, DPS, etc."
   ]
  },
  {
   "cell_type": "code",
   "execution_count": 2,
   "id": "969d2573",
   "metadata": {},
   "outputs": [],
   "source": [
    "#2.\n",
    "#Four pillars of OOPs are inheritance, abstraction, encapsulation and polymorphism."
   ]
  },
  {
   "cell_type": "code",
   "execution_count": 3,
   "id": "4ab0b8e8",
   "metadata": {},
   "outputs": [
    {
     "name": "stdout",
     "output_type": "stream",
     "text": [
      "Hello! Anurag\n"
     ]
    }
   ],
   "source": [
    "#3.\n",
    "# __init__() function is used to initialise a python class. It is known as constructor.\n",
    "# __init__() is called automatically when a object is created of that class.\n",
    "# __init__() is used to take some data as an input when the boject of the class is created.\n",
    "\n",
    "#Example: \n",
    "\n",
    "class Hello:\n",
    "    \n",
    "    def __init__(self, name):\n",
    "        self.name = name\n",
    "        print(\"Hello!\", self.name)\n",
    "        \n",
    "anurag = Hello(\"Anurag\")"
   ]
  },
  {
   "cell_type": "code",
   "execution_count": 4,
   "id": "50a706e4",
   "metadata": {},
   "outputs": [],
   "source": [
    "#4.\n",
    "# self is used to represent an instance of class.\n",
    "# We can use self to access the attributes and methods of the class."
   ]
  },
  {
   "cell_type": "code",
   "execution_count": 5,
   "id": "8f067ecf",
   "metadata": {},
   "outputs": [],
   "source": [
    "#5.\n",
    "# The mechanism which enables a class to acquire properties and characteristics of another is called Inheritance."
   ]
  },
  {
   "cell_type": "code",
   "execution_count": 6,
   "id": "94fc9afc",
   "metadata": {},
   "outputs": [
    {
     "name": "stdout",
     "output_type": "stream",
     "text": [
      "Model:  Nexa vxq \n",
      "Color:  blue \n",
      "Price:  1500000\n"
     ]
    }
   ],
   "source": [
    "#Single Inheritance\n",
    "\n",
    "class Vehicle:\n",
    "    def __init__(self, model, color):\n",
    "        self.model = model\n",
    "        self.color = color\n",
    "    \n",
    "class Maruti(Vehicle):\n",
    "    def __init__(self, model, color, price):\n",
    "        super().__init__(model, color)\n",
    "        self.price = price\n",
    "        print(\"Model: \", self.model, \"\\nColor: \", self.color, \"\\nPrice: \", self.price)\n",
    "\n",
    "nexa = Maruti(\"Nexa vxq\", \"blue\", 1500000)        "
   ]
  },
  {
   "cell_type": "code",
   "execution_count": 7,
   "id": "e095947e",
   "metadata": {},
   "outputs": [
    {
     "name": "stdout",
     "output_type": "stream",
     "text": [
      "Name: Anurag Gupta \n",
      "Age: 21 \n",
      "Employee ID: 2010019 \n",
      "Salary: 200000\n"
     ]
    }
   ],
   "source": [
    "#Multiple inheritance\n",
    "\n",
    "class Person:\n",
    "    def __init__(self, name, age):\n",
    "        self.name = name\n",
    "        self.age = age\n",
    "\n",
    "class Employee:\n",
    "    def __init__(self, emp_id, salary):\n",
    "        self.emp_id = emp_id\n",
    "        self.salary = salary\n",
    "\n",
    "class Manager(Person, Employee):\n",
    "    def __init__(self, name, age, emp_id, salary):\n",
    "        Person.__init__(self, name, age)\n",
    "        Employee.__init__(self, emp_id, salary)\n",
    "        print(\"Name:\", self.name, \"\\nAge:\", self.age, \"\\nEmployee ID:\", self.emp_id, \"\\nSalary:\", self.salary)\n",
    "        \n",
    "Anurag = Manager(\"Anurag Gupta\", 21, 2010019, 200000)"
   ]
  },
  {
   "cell_type": "code",
   "execution_count": 8,
   "id": "e9a9104c",
   "metadata": {},
   "outputs": [
    {
     "name": "stdout",
     "output_type": "stream",
     "text": [
      "Area of Red cuboid: 750\n"
     ]
    }
   ],
   "source": [
    "#Multi-level inhertance\n",
    "\n",
    "class Shape:\n",
    "    def __init__(self, color):\n",
    "        self.color = color\n",
    "\n",
    "class Rectangle(Shape):\n",
    "    def __init__(self, color, length, breadth):\n",
    "        super().__init__(color)\n",
    "        self.length = length\n",
    "        self.breadth = breadth\n",
    "        \n",
    "class Cuboid(Rectangle):\n",
    "    def __init__(self, color, length, breadth, height):\n",
    "        super().__init__(color, length, breadth)\n",
    "        self.height = height\n",
    "        print(\"Area of\", color, \"cuboid:\", self.length*self.breadth*self.height)\n",
    "\n",
    "abc = Cuboid(\"Red\", 10, 15, 5)"
   ]
  },
  {
   "cell_type": "code",
   "execution_count": 9,
   "id": "b9b49264",
   "metadata": {},
   "outputs": [
    {
     "name": "stdout",
     "output_type": "stream",
     "text": [
      "Thar LX Black SUV Mahindra\n"
     ]
    }
   ],
   "source": [
    "#Hierarchical Inheritance\n",
    "\n",
    "class Vehicle:\n",
    "    def __init__(self, model, color):\n",
    "        self.model = model\n",
    "        self.color = color\n",
    "        \n",
    "class Fourwheeler:\n",
    "    def __init__(self, carType, brand):\n",
    "        self.carType = carType\n",
    "        self.brand = brand\n",
    "        \n",
    "class Car(Vehicle, Fourwheeler):\n",
    "    def __init__(self, model, color, carType, brand):\n",
    "        Vehicle.__init__(self, model, color)\n",
    "        Fourwheeler.__init__(self, carType, brand)\n",
    "        print(self.model, self.color, self.carType, self.brand)\n",
    "        \n",
    "Thar = Car(\"Thar LX\", \"Black\", \"SUV\", \"Mahindra\")"
   ]
  },
  {
   "cell_type": "code",
   "execution_count": 10,
   "id": "0db429e1",
   "metadata": {},
   "outputs": [
    {
     "name": "stdout",
     "output_type": "stream",
     "text": [
      "Brand:  Maruti \n",
      "Model:  Nexa vxq \n",
      "Color:  blue \n",
      "Car Type: Mini \n",
      "Price:  1500000\n"
     ]
    }
   ],
   "source": [
    "#Hybrid Inheritance\n",
    "\n",
    "class Vehicle:\n",
    "    def __init__(self, model, color):\n",
    "        self.model = model\n",
    "        self.color = color\n",
    "    \n",
    "\n",
    "class Fourwheeler:\n",
    "    def __init__(self, carType, brand):\n",
    "        self.carType = carType\n",
    "        self.brand = brand\n",
    "        \n",
    "class Car(Vehicle, Fourwheeler):\n",
    "    def __init__(self, model, color, carType, brand):\n",
    "        Vehicle.__init__(self, model, color)\n",
    "        Fourwheeler.__init__(self, carType, brand)\n",
    "\n",
    "class Maruti(Car):\n",
    "    def __init__(self, model, color, carType, price):\n",
    "        self.brand = \"Maruti\"\n",
    "        super().__init__(model, color, carType, self.brand)\n",
    "        self.price = price\n",
    "        print(\"Brand: \", self.brand, \"\\nModel: \", self.model, \"\\nColor: \", self.color, \"\\nCar Type:\", carType,\"\\nPrice: \", self.price)\n",
    "        \n",
    "nexa = Maruti(\"Nexa vxq\", \"blue\", \"Mini\", 1500000)        "
   ]
  },
  {
   "cell_type": "code",
   "execution_count": null,
   "id": "c2c1dcc2",
   "metadata": {},
   "outputs": [],
   "source": []
  }
 ],
 "metadata": {
  "kernelspec": {
   "display_name": "Python 3 (ipykernel)",
   "language": "python",
   "name": "python3"
  },
  "language_info": {
   "codemirror_mode": {
    "name": "ipython",
    "version": 3
   },
   "file_extension": ".py",
   "mimetype": "text/x-python",
   "name": "python",
   "nbconvert_exporter": "python",
   "pygments_lexer": "ipython3",
   "version": "3.10.5"
  }
 },
 "nbformat": 4,
 "nbformat_minor": 5
}
