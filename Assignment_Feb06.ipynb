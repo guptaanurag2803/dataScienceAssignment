{
 "cells": [
  {
   "cell_type": "code",
   "execution_count": 4,
   "id": "473f109f",
   "metadata": {},
   "outputs": [
    {
     "data": {
      "text/plain": [
       "4134711838987085478833841242112000"
      ]
     },
     "execution_count": 4,
     "metadata": {},
     "output_type": "execute_result"
    }
   ],
   "source": [
    "#1.\n",
    "list1 = [1,2,3,4, [44,55,66, True], False, (34,56,78,89,34), {1,2,3,3,2,1}, {1:34, \"key2\": [55, 67, 78, 89], 4: (45, 22, 61, 34)}, [56, 'data science'], 'Machine Learning']\n",
    "list2 = []\n",
    "\n",
    "from functools import reduce\n",
    "\n",
    "def product(l):\n",
    "    for i in l:\n",
    "        if type(i) == list or type(i) == tuple:\n",
    "            product(i)\n",
    "        elif  type(i) == set:\n",
    "            product(list(i))\n",
    "            \n",
    "        elif type(i) == dict:\n",
    "            a = list(i.keys())\n",
    "            b = i.values()\n",
    "            product(a)\n",
    "            product(b)\n",
    "        elif type(i) == int:\n",
    "            list2.append(i)\n",
    "    return reduce(lambda x, y: x*y, list2)\n",
    "    \n",
    "product(list1)"
   ]
  },
  {
   "cell_type": "code",
   "execution_count": 9,
   "id": "e1633992",
   "metadata": {},
   "outputs": [
    {
     "name": "stdout",
     "output_type": "stream",
     "text": [
      "r$dzmg$gl$yvxlnv$z$wzgz$hxrvmgrhg.\n"
     ]
    }
   ],
   "source": [
    "#2.\n",
    "message = \"I want to become a Data Scientist.\"\n",
    "encrypted_message = \"\"\n",
    "\n",
    "for i in message.lower():\n",
    "    if i == \" \":\n",
    "        encrypted_message += \"$\"\n",
    "    elif ord(i) >= 97 and ord(i) <= 122:\n",
    "        encrypted_message += chr(122 - ord(i) + 97)\n",
    "    else:\n",
    "        encrypted_message += i\n",
    "\n",
    "print(encrypted_message)"
   ]
  },
  {
   "cell_type": "code",
   "execution_count": 20,
   "id": "6abb4454",
   "metadata": {},
   "outputs": [
    {
     "name": "stdout",
     "output_type": "stream",
     "text": [
      "[1, 3, 4]\n"
     ]
    }
   ],
   "source": []
  },
  {
   "cell_type": "code",
   "execution_count": null,
   "id": "b0a24d02",
   "metadata": {},
   "outputs": [],
   "source": []
  }
 ],
 "metadata": {
  "kernelspec": {
   "display_name": "Python 3 (ipykernel)",
   "language": "python",
   "name": "python3"
  },
  "language_info": {
   "codemirror_mode": {
    "name": "ipython",
    "version": 3
   },
   "file_extension": ".py",
   "mimetype": "text/x-python",
   "name": "python",
   "nbconvert_exporter": "python",
   "pygments_lexer": "ipython3",
   "version": "3.10.5"
  }
 },
 "nbformat": 4,
 "nbformat_minor": 5
}
