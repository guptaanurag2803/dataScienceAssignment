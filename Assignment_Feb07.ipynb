{
 "cells": [
  {
   "cell_type": "code",
   "execution_count": 2,
   "id": "e9e69043",
   "metadata": {},
   "outputs": [],
   "source": [
    "#1.\n",
    "def isValid(s):\n",
    "    ul, ll, n, sc = 0, 0, 0, 0\n",
    "    for i in s:\n",
    "        if ord(i)>=65 and ord(i)<= 90:\n",
    "            ul+=1\n",
    "        elif ord(i)>=97 and ord(i)<=122:\n",
    "            ll+=1\n",
    "        elif ord(i)>=48 and ord(i)<=57:\n",
    "            n+=1\n",
    "        else:\n",
    "            sc+=1\n",
    "    if len(s)==10 and ul>=2 and ll>=2 and n>=1 and sc>=3:\n",
    "        return \"Valid Password\"\n",
    "    \n",
    "    else:\n",
    "        return \"Invalid Password\""
   ]
  },
  {
   "cell_type": "code",
   "execution_count": 13,
   "id": "1868de85",
   "metadata": {},
   "outputs": [
    {
     "name": "stdout",
     "output_type": "stream",
     "text": [
      "True\n"
     ]
    }
   ],
   "source": [
    "#2.\n",
    "#Check if the string starts with a particular letter\n",
    "\n",
    "string = \"Hello\"\n",
    "\n",
    "a = lambda x: string[0] == x\n",
    "print(a('H'))"
   ]
  },
  {
   "cell_type": "code",
   "execution_count": 31,
   "id": "035774a9",
   "metadata": {},
   "outputs": [
    {
     "data": {
      "text/plain": [
       "True"
      ]
     },
     "execution_count": 31,
     "metadata": {},
     "output_type": "execute_result"
    }
   ],
   "source": [
    "#Check if the string is numeric\n",
    "\n",
    "string = \"2314344213\"\n",
    "\n",
    "b = lambda s: s.replace('.','').isdigit()\n",
    "b(string)"
   ]
  },
  {
   "cell_type": "code",
   "execution_count": 33,
   "id": "fbf4aa01",
   "metadata": {},
   "outputs": [
    {
     "data": {
      "text/plain": [
       "[('orange', 80), ('mango', 99), ('grapes', 1000)]"
      ]
     },
     "execution_count": 33,
     "metadata": {},
     "output_type": "execute_result"
    }
   ],
   "source": [
    "#Sort a list of tuples having fruit names and their quantity. \n",
    "l = [(\"mango\",99),(\"orange\",80), (\"grapes\", 1000)]\n",
    "\n",
    "c = sorted(l, key = lambda x: x[1])\n",
    "c"
   ]
  },
  {
   "cell_type": "code",
   "execution_count": 37,
   "id": "fadff172",
   "metadata": {},
   "outputs": [
    {
     "data": {
      "text/plain": [
       "[1, 4, 9, 16, 25, 36, 49, 64, 81, 100]"
      ]
     },
     "execution_count": 37,
     "metadata": {},
     "output_type": "execute_result"
    }
   ],
   "source": [
    "#Find the squares of numbers from 1 to 10\n",
    "\n",
    "l = [i for i in range(1, 11)]\n",
    "\n",
    "l1=list(map(lambda x : x**2, l))\n",
    "l1"
   ]
  },
  {
   "cell_type": "code",
   "execution_count": 38,
   "id": "a77a83f3",
   "metadata": {},
   "outputs": [
    {
     "data": {
      "text/plain": [
       "[1.0,\n",
       " 1.2599210498948732,\n",
       " 1.4422495703074083,\n",
       " 1.5874010519681994,\n",
       " 1.7099759466766968,\n",
       " 1.8171205928321397,\n",
       " 1.912931182772389,\n",
       " 2.0,\n",
       " 2.080083823051904,\n",
       " 2.154434690031884]"
      ]
     },
     "execution_count": 38,
     "metadata": {},
     "output_type": "execute_result"
    }
   ],
   "source": [
    "#Find the cube root of numbers from 1 to 10\n",
    "\n",
    "l = [i for i in range(1, 11)]\n",
    "\n",
    "l1=list(map(lambda x : x**(1/3) , l))\n",
    "l1"
   ]
  },
  {
   "cell_type": "code",
   "execution_count": 45,
   "id": "5f3de28b",
   "metadata": {},
   "outputs": [
    {
     "data": {
      "text/plain": [
       "False"
      ]
     },
     "execution_count": 45,
     "metadata": {},
     "output_type": "execute_result"
    }
   ],
   "source": [
    "#Check if a given number is even\n",
    "\n",
    "d = lambda x : x%2 == 0\n",
    "d(5)"
   ]
  },
  {
   "cell_type": "code",
   "execution_count": 46,
   "id": "0bd37d9c",
   "metadata": {},
   "outputs": [
    {
     "data": {
      "text/plain": [
       "[1, 3, 5, 7, 9]"
      ]
     },
     "execution_count": 46,
     "metadata": {},
     "output_type": "execute_result"
    }
   ],
   "source": [
    "#Filter odd numbers from the given list.\n",
    "l2 = [1,2,3,4,5,6,7,8,9,10]\n",
    "\n",
    "l3 = list(filter(lambda x : x%2 != 0, l2))\n",
    "l3"
   ]
  },
  {
   "cell_type": "code",
   "execution_count": 49,
   "id": "0baf3bbf",
   "metadata": {},
   "outputs": [
    {
     "name": "stdout",
     "output_type": "stream",
     "text": [
      "[1, 2, 3, 4, 5, 6] [-1, -2, -3, -4, -5]\n"
     ]
    }
   ],
   "source": [
    "#Sort a list of integers into positive and negative integers lists.\n",
    "l4 = [1,2,3,4,5,6,-1,-2,-3,-4,-5,0]\n",
    "\n",
    "positive = list(filter(lambda x : x > 0, l4))\n",
    "negative = list(filter(lambda x : x < 0, l4))\n",
    "print(positive, negative)"
   ]
  },
  {
   "cell_type": "code",
   "execution_count": null,
   "id": "b3297ab6",
   "metadata": {},
   "outputs": [],
   "source": []
  }
 ],
 "metadata": {
  "kernelspec": {
   "display_name": "Python 3 (ipykernel)",
   "language": "python",
   "name": "python3"
  },
  "language_info": {
   "codemirror_mode": {
    "name": "ipython",
    "version": 3
   },
   "file_extension": ".py",
   "mimetype": "text/x-python",
   "name": "python",
   "nbconvert_exporter": "python",
   "pygments_lexer": "ipython3",
   "version": "3.10.5"
  }
 },
 "nbformat": 4,
 "nbformat_minor": 5
}
