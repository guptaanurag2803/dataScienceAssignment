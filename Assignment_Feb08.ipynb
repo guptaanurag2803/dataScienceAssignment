{
 "cells": [
  {
   "cell_type": "code",
   "execution_count": 1,
   "id": "507bb0e8",
   "metadata": {},
   "outputs": [],
   "source": [
    "#1.\n",
    "# Abstraction means providing essential information to the user and hiding the details from the user.\n",
    "\n",
    "# Example: When we watch tv, we use tv remote controller we change the channels using buttons\n",
    "# But we don't know that how channels are changing by pressing a button, what is happening in the background.\n",
    "# This is called Abstraction."
   ]
  },
  {
   "cell_type": "code",
   "execution_count": 2,
   "id": "bd66b2e4",
   "metadata": {},
   "outputs": [],
   "source": [
    "#2.\n",
    "\n",
    "# Abstraction means providing essential information to the user and hiding the details from the user.\n",
    "# Encapsulation is the method which is used to hide the data in a single unit.\n",
    "\n",
    "# Example: In a bank account, the are some private information like bank balance, account number, etc. \n",
    "# These information are need to be hide in a single bank account. This is called Encapsulation.\n",
    "# But when we deposit some money to account, it gets added to our previous bank balance.\n",
    "# We don't know how the balance is getting updated and what is the mechanism. This is called Abstraction."
   ]
  },
  {
   "cell_type": "code",
   "execution_count": 3,
   "id": "20ef6e67",
   "metadata": {},
   "outputs": [],
   "source": [
    "#3.\n",
    "# The 'abc' module in Python stands for \"Abstract Base Classes\".\n",
    "# It provides a way to define abstract base classes which are used to define interfaces that other classes can implement.\n",
    "# The abc module provides the 'ABC' class, which is used as a base class for your own abstract base classes.\n",
    "# By inheriting from 'ABC', your class becomes an abstract base class.\n",
    "# You can then define abstract methods using the '@abstractmethod' decorator.\n",
    "# These abstract methods are methods that must be implemented by any concrete class that inherits from your abstract base class."
   ]
  },
  {
   "cell_type": "code",
   "execution_count": 1,
   "id": "742b6fa4",
   "metadata": {},
   "outputs": [],
   "source": [
    "#4.\n",
    "# We can achieve data abstraction by making a variable private.\n",
    "# We can make a variable private by adding \"__\" (double underscore) before variable name.\n",
    "# We can access or change it's value using getters and setters.\n",
    "# We can also use abc module to import ABC class by inheriting which we can make abstract classes.\n",
    "# We can also use @abstractmethod decorater."
   ]
  },
  {
   "cell_type": "code",
   "execution_count": 2,
   "id": "29b8c5a9",
   "metadata": {},
   "outputs": [],
   "source": [
    "#5.\n",
    "# No, we can not create an instance of an abstract class because it is not complete, so it can,t be instantiated.\n",
    "# Abstract class are only used for providing a template for the "
   ]
  }
 ],
 "metadata": {
  "kernelspec": {
   "display_name": "Python 3 (ipykernel)",
   "language": "python",
   "name": "python3"
  },
  "language_info": {
   "codemirror_mode": {
    "name": "ipython",
    "version": 3
   },
   "file_extension": ".py",
   "mimetype": "text/x-python",
   "name": "python",
   "nbconvert_exporter": "python",
   "pygments_lexer": "ipython3",
   "version": "3.10.5"
  }
 },
 "nbformat": 4,
 "nbformat_minor": 5
}
