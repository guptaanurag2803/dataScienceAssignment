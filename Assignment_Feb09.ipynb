{
 "cells": [
  {
   "cell_type": "code",
   "execution_count": 1,
   "id": "f27742dd",
   "metadata": {},
   "outputs": [],
   "source": [
    "#1.\n",
    "class vehicle:\n",
    "    def __init__(self, name_of_vehicle, max_speed, average_of_vehicle):\n",
    "        self.name_of_vehicle = name_of_vehicle\n",
    "        self.max_speed = max_speed\n",
    "        self.average_of_vehicle = average_of_vehicle"
   ]
  },
  {
   "cell_type": "code",
   "execution_count": 2,
   "id": "30f41638",
   "metadata": {},
   "outputs": [],
   "source": [
    "#2.\n",
    "class car(vehicle):\n",
    "    def seating_capacity(self, seating_capacity):\n",
    "        self.seating_capacity = seating_capacity\n",
    "        return self.name_of_vehicle, seating_capacity"
   ]
  },
  {
   "cell_type": "code",
   "execution_count": 3,
   "id": "48a9c765",
   "metadata": {},
   "outputs": [],
   "source": [
    "car1 = car(\"Maruti\", 120, 40)"
   ]
  },
  {
   "cell_type": "code",
   "execution_count": 4,
   "id": "126df2c8",
   "metadata": {},
   "outputs": [
    {
     "data": {
      "text/plain": [
       "('Maruti', 6)"
      ]
     },
     "execution_count": 4,
     "metadata": {},
     "output_type": "execute_result"
    }
   ],
   "source": [
    "car1.seating_capacity(6)"
   ]
  },
  {
   "cell_type": "code",
   "execution_count": 5,
   "id": "8bccb4c3",
   "metadata": {},
   "outputs": [],
   "source": [
    "#3.\n",
    "# When a single class inherits attributes and methods from multiple base classes, it is called Multiple Inheritance."
   ]
  },
  {
   "cell_type": "code",
   "execution_count": 6,
   "id": "c3de3d1a",
   "metadata": {},
   "outputs": [
    {
     "name": "stdout",
     "output_type": "stream",
     "text": [
      "Name: Anurag Gupta \n",
      "Age: 21 \n",
      "Employee ID: 2010019 \n",
      "Salary: 200000\n"
     ]
    }
   ],
   "source": [
    "class Person:\n",
    "    def __init__(self, name, age):\n",
    "        self.name = name\n",
    "        self.age = age\n",
    "\n",
    "class Employee:\n",
    "    def __init__(self, emp_id, salary):\n",
    "        self.emp_id = emp_id\n",
    "        self.salary = salary\n",
    "\n",
    "class Manager(Person, Employee):\n",
    "    def __init__(self, name, age, emp_id, salary):\n",
    "        Person.__init__(self, name, age)\n",
    "        Employee.__init__(self, emp_id, salary)\n",
    "        print(\"Name:\", self.name, \"\\nAge:\", self.age, \"\\nEmployee ID:\", self.emp_id, \"\\nSalary:\", self.salary)\n",
    "        \n",
    "Anurag = Manager(\"Anurag Gupta\", 21, 2010019, 200000)"
   ]
  },
  {
   "cell_type": "code",
   "execution_count": 7,
   "id": "06872b35",
   "metadata": {},
   "outputs": [],
   "source": [
    "#4.\n",
    "\n",
    "# The method which is used to access a element of a class is called getter.\n",
    "# The method which is used to set the value of a element of a class is called setter."
   ]
  },
  {
   "cell_type": "code",
   "execution_count": 8,
   "id": "2cdec429",
   "metadata": {},
   "outputs": [],
   "source": [
    "class Marks:\n",
    "    def __init__(self, marks):\n",
    "        self.__marks = marks\n",
    "    \n",
    "    @property\n",
    "    def get_marks(self):\n",
    "        return self.__marks\n",
    "    \n",
    "    @get_marks.setter\n",
    "    def set_marks(self, marks):\n",
    "        if marks <= 36:\n",
    "            pass\n",
    "        else:\n",
    "            self.__marks = marks"
   ]
  },
  {
   "cell_type": "code",
   "execution_count": 9,
   "id": "b6159fd5",
   "metadata": {},
   "outputs": [],
   "source": [
    "m1 = Marks( 90)"
   ]
  },
  {
   "cell_type": "code",
   "execution_count": 10,
   "id": "02fc94d1",
   "metadata": {},
   "outputs": [
    {
     "data": {
      "text/plain": [
       "90"
      ]
     },
     "execution_count": 10,
     "metadata": {},
     "output_type": "execute_result"
    }
   ],
   "source": [
    "m1.get_marks"
   ]
  },
  {
   "cell_type": "code",
   "execution_count": 11,
   "id": "a2024aa6",
   "metadata": {},
   "outputs": [],
   "source": [
    "m1.set_marks = 95"
   ]
  },
  {
   "cell_type": "code",
   "execution_count": 12,
   "id": "db3dd47c",
   "metadata": {},
   "outputs": [
    {
     "data": {
      "text/plain": [
       "95"
      ]
     },
     "execution_count": 12,
     "metadata": {},
     "output_type": "execute_result"
    }
   ],
   "source": [
    "m1.get_marks"
   ]
  },
  {
   "cell_type": "code",
   "execution_count": 13,
   "id": "50ef8315",
   "metadata": {},
   "outputs": [],
   "source": [
    "#5.\n",
    "# When a different implementation of a method of a base class is provided in a derived class, it is called Method Overriding."
   ]
  },
  {
   "cell_type": "code",
   "execution_count": 14,
   "id": "604d748d",
   "metadata": {},
   "outputs": [],
   "source": [
    "class vehicle:\n",
    "    def wheels(self):\n",
    "        print(\"A vehicle can have multiple wheels.\")\n",
    "        \n",
    "class car(vehicle):\n",
    "    def wheels(self):\n",
    "        print(\"A car has four wheels.\")"
   ]
  },
  {
   "cell_type": "code",
   "execution_count": 15,
   "id": "3b795438",
   "metadata": {},
   "outputs": [
    {
     "name": "stdout",
     "output_type": "stream",
     "text": [
      "A vehicle can have multiple wheels.\n"
     ]
    }
   ],
   "source": [
    "veh = vehicle()\n",
    "veh.wheels()"
   ]
  },
  {
   "cell_type": "code",
   "execution_count": 16,
   "id": "cd36959e",
   "metadata": {},
   "outputs": [
    {
     "name": "stdout",
     "output_type": "stream",
     "text": [
      "A car has four wheels.\n"
     ]
    }
   ],
   "source": [
    "car = car()\n",
    "car.wheels()"
   ]
  },
  {
   "cell_type": "code",
   "execution_count": null,
   "id": "39e9f8d1",
   "metadata": {},
   "outputs": [],
   "source": []
  }
 ],
 "metadata": {
  "kernelspec": {
   "display_name": "Python 3 (ipykernel)",
   "language": "python",
   "name": "python3"
  },
  "language_info": {
   "codemirror_mode": {
    "name": "ipython",
    "version": 3
   },
   "file_extension": ".py",
   "mimetype": "text/x-python",
   "name": "python",
   "nbconvert_exporter": "python",
   "pygments_lexer": "ipython3",
   "version": "3.10.5"
  }
 },
 "nbformat": 4,
 "nbformat_minor": 5
}
