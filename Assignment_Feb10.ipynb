{
 "cells": [
  {
   "cell_type": "code",
   "execution_count": 1,
   "id": "24ae977a",
   "metadata": {},
   "outputs": [],
   "source": [
    "#1.\n",
    "\n",
    "# open() function is used to open file.\n",
    "# open() functions takes two parameters: filepath and mode\n",
    "\n",
    "# MODES OF OPENING A FILE:\n",
    "\n",
    "# \"r\"(read mode): This mode is used for reading the contents of an existing file.\n",
    "# It is the default mode of opening a file.\n",
    "\n",
    "# \"w\"(Write mode): This mode is used for writing to a file.\n",
    "# If specified file doesn't exist it will create the file with specified name.\n",
    "# If specified file exists it will overwrite the contents in file.\n",
    "\n",
    "# \"a\"(Append mode): This mode is used to append data to a file already exists.\n",
    "# If file doesn't exists it will create the file else add data at the end of existing file.\n",
    "\n",
    "# \"x\"(Exclusive creation mode): This mode is used to create a new file, but it will fail if the file already exists.\n",
    "\n",
    "#\"b\" (Binary mode): This mode is used when working with binary files such as image files or other non-text files.\n",
    "\n",
    "#\"t\" (Text mode): This mode is used when working with text files, which are the most common type of files in Python."
   ]
  },
  {
   "cell_type": "code",
   "execution_count": 2,
   "id": "01a7cf9d",
   "metadata": {},
   "outputs": [],
   "source": [
    "#2.\n",
    "\n",
    "# close() function is used to close a file which was opened earlier.\n",
    "\n",
    "# An open file consumes multiple system resources such as memory and processor time.\n",
    "# Also if a file is left opened in a program other program may not be able to access it.\n",
    "# It can also result in data corruption."
   ]
  },
  {
   "cell_type": "code",
   "execution_count": 3,
   "id": "f35b2b6e",
   "metadata": {},
   "outputs": [
    {
     "name": "stdout",
     "output_type": "stream",
     "text": [
      "I want to become a Data Scientist\n"
     ]
    }
   ],
   "source": [
    "#3.\n",
    "\n",
    "with open(\"sample.txt\", \"w\") as f:\n",
    "    f.write(\"I want to become a Data Scientist\")\n",
    "    \n",
    "with open(\"sample.txt\", \"r\") as f:\n",
    "    print(f.read())"
   ]
  },
  {
   "cell_type": "code",
   "execution_count": 4,
   "id": "1ffee096",
   "metadata": {},
   "outputs": [
    {
     "name": "stdout",
     "output_type": "stream",
     "text": [
      "Hello! I am Anurag.\n",
      "I want to become a Data Scientist.\n",
      "I am B.Tech Student.\n",
      "I know python Programming.\n"
     ]
    }
   ],
   "source": [
    "#4.\n",
    "\n",
    "#read(): reads all the content from file\n",
    "with open(\"test.txt\", \"r\") as f:\n",
    "    print(f.read())"
   ]
  },
  {
   "cell_type": "code",
   "execution_count": 5,
   "id": "2678ead9",
   "metadata": {},
   "outputs": [
    {
     "name": "stdout",
     "output_type": "stream",
     "text": [
      "Hello! I am Anurag.\n",
      "\n"
     ]
    }
   ],
   "source": [
    "#readline(): reads a single line from file.\n",
    "with open(\"test.txt\", \"r\") as f:\n",
    "    print(f.readline())"
   ]
  },
  {
   "cell_type": "code",
   "execution_count": 6,
   "id": "3da750ba",
   "metadata": {},
   "outputs": [
    {
     "name": "stdout",
     "output_type": "stream",
     "text": [
      "['Hello! I am Anurag.\\n', 'I want to become a Data Scientist.\\n', 'I am B.Tech Student.\\n', 'I know python Programming.']\n"
     ]
    }
   ],
   "source": [
    "#readlines(): reads all lines and gives list of lines as an output.\n",
    "with open(\"test.txt\", \"r\") as f:\n",
    "    print(f.readlines())"
   ]
  },
  {
   "cell_type": "code",
   "execution_count": 7,
   "id": "f8d1e4b5",
   "metadata": {},
   "outputs": [],
   "source": [
    "#5.\n",
    "\n",
    "# The with statement creates a block of code in which the file is opened and used, and after the block of code is executed, the file is automatically closed.\n",
    "\n",
    "# The advantage of using the with statement and open() together is that it simplifies the code and makes it more readable.\n",
    "# It also ensures that the file is always properly closed, which helps to avoid common errors such as forgetting to close the file or closing it too early."
   ]
  },
  {
   "cell_type": "code",
   "execution_count": 8,
   "id": "0027837e",
   "metadata": {},
   "outputs": [],
   "source": [
    "#6.\n",
    "\n",
    "# The write() function is used to write a string of characters to a file.\n",
    "# It takes a string as input and write it to the file.\n",
    "\n",
    "with open('example.txt', 'w') as f:\n",
    "    f.write('Hello!')"
   ]
  },
  {
   "cell_type": "code",
   "execution_count": 9,
   "id": "ba9feb80",
   "metadata": {},
   "outputs": [],
   "source": [
    "# The writelines() function is used to wite a sequence of string to a file.\n",
    "# It takes iterables as input, where each element in iterable is a string to be written to the file.\n",
    "\n",
    "with open('example.txt', 'w') as file:\n",
    "    lines = ['First line\\n', 'Second line\\n', 'Third line\\n']\n",
    "    file.writelines(lines)"
   ]
  },
  {
   "cell_type": "code",
   "execution_count": null,
   "id": "ba9dc66d",
   "metadata": {},
   "outputs": [],
   "source": []
  }
 ],
 "metadata": {
  "kernelspec": {
   "display_name": "Python 3 (ipykernel)",
   "language": "python",
   "name": "python3"
  },
  "language_info": {
   "codemirror_mode": {
    "name": "ipython",
    "version": 3
   },
   "file_extension": ".py",
   "mimetype": "text/x-python",
   "name": "python",
   "nbconvert_exporter": "python",
   "pygments_lexer": "ipython3",
   "version": "3.10.5"
  }
 },
 "nbformat": 4,
 "nbformat_minor": 5
}
