{
 "cells": [
  {
   "cell_type": "code",
   "execution_count": 1,
   "id": "20ed932b",
   "metadata": {},
   "outputs": [],
   "source": [
    "#1.\n",
    "\n",
    "# An exception is an event, where program is syntactically correct but the program results in an error during the execution.\n",
    "\n",
    "# Exceptions occurs when the proper syntax of the language is followed e.g. divide by zero, etc. \n",
    "# While syntax errors occurs when the proper syntax of the language is not followed e.g. improper indentation, etc."
   ]
  },
  {
   "cell_type": "code",
   "execution_count": 2,
   "id": "2bd86e83",
   "metadata": {},
   "outputs": [],
   "source": [
    "#2.\n",
    "\n",
    "# If an exception is not handled, it will result in an error, and the program will terminate.\n",
    "# The lines after the line that caused the exception will not be executed.\n",
    "\n",
    "# Example: When we divide a number by zero, it will give an division by zero error."
   ]
  },
  {
   "cell_type": "code",
   "execution_count": 3,
   "id": "76eb0a4c",
   "metadata": {},
   "outputs": [],
   "source": [
    "#3.\n",
    "\n",
    "# Try, except, finally and else statements are used to catch and handle exceptions in python."
   ]
  },
  {
   "cell_type": "code",
   "execution_count": 4,
   "id": "1386536a",
   "metadata": {},
   "outputs": [
    {
     "name": "stdout",
     "output_type": "stream",
     "text": [
      "a cannot be divide by b. division by zero\n",
      "Finished\n"
     ]
    }
   ],
   "source": [
    "a, b = 5, 0\n",
    "c = 0\n",
    "try:\n",
    "    c = a/b\n",
    "except Exception as e:\n",
    "    print(\"a cannot be divide by b.\", e)\n",
    "else:\n",
    "    print(c)\n",
    "finally:\n",
    "    print(\"Finished\")"
   ]
  },
  {
   "cell_type": "code",
   "execution_count": 5,
   "id": "8a47f029",
   "metadata": {},
   "outputs": [],
   "source": [
    "#4.\n",
    "\n",
    "#a. try and else\n",
    "# If we use try block to divide a number by 0, if condition satisfied except block will be executed.\n",
    "# If the divisor of the number is not 0, than exception will not be thrown and else block is executed.\n",
    "\n",
    "#b. finally\n",
    "# If we use try block to divide a number by 0, if we want to print value of the number divided by 0 whether exception occurs or not, we can put it into finally block.\n",
    "\n",
    "#c. raise\n",
    "# If we divide a number by 0, we can use raise to handle this and can give a custom message."
   ]
  },
  {
   "cell_type": "code",
   "execution_count": 6,
   "id": "a73ea39f",
   "metadata": {},
   "outputs": [],
   "source": [
    "#5.\n",
    "\n",
    "# Built-in exceptions are the exception which are generic in nature.\n",
    "# Custom exceptions are the exception which are more specific to a program.\n",
    "# We can define a custom exception by creating a class inheriting the Exception class.\n",
    "\n",
    "# Custom exceptions are more specific to a program.\n",
    "# It can be used to handle exceptions which may occur during the execution program.\n",
    "# It prevents exceptions to break the flow of program.\n",
    "\n",
    "# Example: In a program we need the age of the user.\n",
    "# Age cannot be negative or too high.\n",
    "# So, here we can use a custom exception to handle this."
   ]
  },
  {
   "cell_type": "code",
   "execution_count": 7,
   "id": "0777545f",
   "metadata": {},
   "outputs": [
    {
     "name": "stdout",
     "output_type": "stream",
     "text": [
      "Enter your balance: 232\n",
      "Balance is less than minimum balance.\n"
     ]
    }
   ],
   "source": [
    "#6.\n",
    "\n",
    "class minBalance(Exception):\n",
    "    def __init__(self, msg):\n",
    "        self.msg = msg\n",
    "        \n",
    "def balanceCheck(balance):\n",
    "    if balance < 5000:\n",
    "        raise minBalance(\"Balance is less than minimum balance.\")\n",
    "    else:\n",
    "        print(\"You have sufficient balance.\")\n",
    "        \n",
    "try:\n",
    "    balance = int(input(\"Enter your balance: \"))\n",
    "    balanceCheck(balance)\n",
    "except minBalance as e:\n",
    "    print(e)"
   ]
  }
 ],
 "metadata": {
  "kernelspec": {
   "display_name": "Python 3 (ipykernel)",
   "language": "python",
   "name": "python3"
  },
  "language_info": {
   "codemirror_mode": {
    "name": "ipython",
    "version": 3
   },
   "file_extension": ".py",
   "mimetype": "text/x-python",
   "name": "python",
   "nbconvert_exporter": "python",
   "pygments_lexer": "ipython3",
   "version": "3.10.5"
  }
 },
 "nbformat": 4,
 "nbformat_minor": 5
}
