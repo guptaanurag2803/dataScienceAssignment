{
 "cells": [
  {
   "cell_type": "code",
   "execution_count": 1,
   "id": "a236e0d2",
   "metadata": {},
   "outputs": [],
   "source": [
    "#1.\n",
    "\n",
    "# Multithreading is a technique of running multiple smaller sub-processes concurrently within a single process.\n",
    "\n",
    "# By using multiple threads, it becomes possible to split the workload across different threads and achieve better resource utilization.\n",
    "# It improves the performance of the programs which requires parallel processing.\n",
    "\n",
    "# Threading module is used to handle threads in python."
   ]
  },
  {
   "cell_type": "code",
   "execution_count": 2,
   "id": "2e57518a",
   "metadata": {},
   "outputs": [],
   "source": [
    "#2.\n",
    "\n",
    "# Threading module is used for multithreading, it helps to create and threads.\n",
    "\n",
    "# activeCount() function is used to get the total number of active threads in the current thread's context.\n",
    "# The function activeCount is a deprecated alias for this function.\n",
    "\n",
    "# currentThread() function is used to get the reference to the current thread object.\n",
    "# The function currentThread is a deprecated alias for this function.\n",
    "\n",
    "# enumerate() function is used to get a list of all thread objects currently active."
   ]
  },
  {
   "cell_type": "code",
   "execution_count": 3,
   "id": "aaf40224",
   "metadata": {},
   "outputs": [],
   "source": [
    "#3.\n",
    "\n",
    "# run()is used to start a new thread of execution.\n",
    "# When called on a Thread object, the run() method runs the code inside the thread's run() method.\n",
    "\n",
    "# start() method is used to start a new thread of execution.\n",
    "# When called on a Thread object, the start() method creates a new thread and calls the run() method of the object in that new thread.\n",
    "\n",
    "# join() method is used to wait for a thread to complete its execution.\n",
    "# When called on a Thread object, the join() method blocks the calling thread until the thread it's called on completes.\n",
    "\n",
    "# isAlive() method is used to check whether a thread is currently executing or not.\n",
    "# When called on a Thread object, the isAlive() method returns True if the thread is currently running and False otherwise."
   ]
  },
  {
   "cell_type": "code",
   "execution_count": 4,
   "id": "18e40efc",
   "metadata": {},
   "outputs": [],
   "source": [
    "#4.\n",
    "\n",
    "import threading\n",
    "\n",
    "def squares(n):\n",
    "    print(n**2)\n",
    "    \n",
    "def cubes(n):\n",
    "    print(n**3)\n",
    "    \n",
    "t = [threading.Thread(target = squares, args = (i,)) for i in range(1,11)]\n",
    "t1 = [threading.Thread(target = cubes, args = (i,)) for i in range(1,11)]"
   ]
  },
  {
   "cell_type": "code",
   "execution_count": 5,
   "id": "173f5f1a",
   "metadata": {},
   "outputs": [
    {
     "name": "stdout",
     "output_type": "stream",
     "text": [
      "1\n",
      "4\n",
      "9\n",
      "16\n",
      "25\n",
      "36\n",
      "49\n",
      "64\n",
      "81\n",
      "100\n"
     ]
    }
   ],
   "source": [
    "for i in t:\n",
    "    i.start()"
   ]
  },
  {
   "cell_type": "code",
   "execution_count": 6,
   "id": "76a170fa",
   "metadata": {},
   "outputs": [
    {
     "name": "stdout",
     "output_type": "stream",
     "text": [
      "1\n",
      "8\n",
      "27\n",
      "64\n",
      "125\n",
      "216\n",
      "343\n",
      "512\n",
      "729\n",
      "1000\n"
     ]
    }
   ],
   "source": [
    "for i in t1:\n",
    "    i.start()"
   ]
  },
  {
   "cell_type": "code",
   "execution_count": 7,
   "id": "04f7b0cb",
   "metadata": {},
   "outputs": [],
   "source": [
    "#5.\n",
    "\n",
    "# ADVANTAGES:\n",
    "# It increases the performance of the program.\n",
    "# It allows multiple threads to share the same resources such as memory and CPU time.\n",
    "# Breaks the program into smaller sub programs.\n",
    "\n",
    "\n",
    "# DISADVANTAGES:\n",
    "# It increases the code harder and complex to deubg.\n",
    "# It makes the code more difficult than normal code.\n",
    "# It can lead to resource contention when multiple threads try to access the same resources simultaneously."
   ]
  },
  {
   "cell_type": "code",
   "execution_count": 8,
   "id": "cc586977",
   "metadata": {},
   "outputs": [],
   "source": [
    "#6.\n",
    "\n",
    "# When two or more threads are blocked eaiting for each other to release a resource then deadlock occurs.\n",
    "\n",
    "# When two or more threads access shared resources in an unpredictable order, resulting in unexpected behavior.\n",
    "# This is the race condition."
   ]
  }
 ],
 "metadata": {
  "kernelspec": {
   "display_name": "Python 3 (ipykernel)",
   "language": "python",
   "name": "python3"
  },
  "language_info": {
   "codemirror_mode": {
    "name": "ipython",
    "version": 3
   },
   "file_extension": ".py",
   "mimetype": "text/x-python",
   "name": "python",
   "nbconvert_exporter": "python",
   "pygments_lexer": "ipython3",
   "version": "3.10.5"
  }
 },
 "nbformat": 4,
 "nbformat_minor": 5
}
