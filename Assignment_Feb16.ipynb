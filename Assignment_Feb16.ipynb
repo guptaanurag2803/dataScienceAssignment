{
 "cells": [
  {
   "cell_type": "code",
   "execution_count": 1,
   "id": "c9d713d4",
   "metadata": {},
   "outputs": [],
   "source": [
    "#1.\n",
    "\n",
    "# A database is a collection of data which is organised and can be accessed, managed, and updated easily.\n",
    "\n",
    "# SQL databases are relational databases while NoSQL databases are non-relational or distributed databases.\n",
    "# SQL requires a predefined schema while NoSQL has dynamic schema.\n",
    "# SQL databases are structured whereas NoSQL databases are unstructured.\n",
    "# SQL databases are table based whereas NoSQL databases are key-value pair based."
   ]
  },
  {
   "cell_type": "code",
   "execution_count": 2,
   "id": "6ceeb4e0",
   "metadata": {},
   "outputs": [],
   "source": [
    "#2.\n",
    "\n",
    "# DDL stands for Data Definition Language. DDL commands are used to create, modify or delete the schema of the database.\n",
    "\n",
    "# CREATE is used to create the database or it's objects and defining the structure of database.\n",
    "\n",
    "# DROP is used to delete the objects of the database.\n",
    "\n",
    "# ALTER is used to modify the structure of the database.\n",
    "\n",
    "# TRUNCATE is used to remove all records from a table, including all spaces allocated for the records are removed."
   ]
  },
  {
   "cell_type": "code",
   "execution_count": 3,
   "id": "3fe0bcb7",
   "metadata": {},
   "outputs": [],
   "source": [
    "#3.\n",
    "\n",
    "# DML stands for Data Manipulation Language. DML commands are used to insert, delete and manipulate data in the tables.\n",
    "\n",
    "# INSERT is used to insert data into the tables.\n",
    "\n",
    "# UPDATE is used to update the previously entered data in the table.\n",
    "\n",
    "# DELETE is used to delete records in the table."
   ]
  },
  {
   "cell_type": "code",
   "execution_count": 4,
   "id": "66fe5e2b",
   "metadata": {},
   "outputs": [],
   "source": [
    "#4.\n",
    "\n",
    "# DQL stands for Data Query Language. DQL commands are used to perform queries on the data within schema objects.\n",
    "\n",
    "# SELECT is used to retrieve data from the database."
   ]
  },
  {
   "cell_type": "code",
   "execution_count": 5,
   "id": "058f814a",
   "metadata": {},
   "outputs": [],
   "source": [
    "#5.\n",
    "\n",
    "# Primary Key is a attribute which can uniquely identify a tuple from a table.\n",
    "# It is always unique and can never be null.\n",
    "\n",
    "# Foreign Key is a attribute which is the primary key of another table.\n",
    "# It is not always unique and can be null."
   ]
  },
  {
   "cell_type": "code",
   "execution_count": 6,
   "id": "40173b2e",
   "metadata": {},
   "outputs": [
    {
     "ename": "ModuleNotFoundError",
     "evalue": "No module named 'mysql'",
     "output_type": "error",
     "traceback": [
      "\u001b[1;31m---------------------------------------------------------------------------\u001b[0m",
      "\u001b[1;31mModuleNotFoundError\u001b[0m                       Traceback (most recent call last)",
      "Cell \u001b[1;32mIn[6], line 3\u001b[0m\n\u001b[0;32m      1\u001b[0m \u001b[38;5;66;03m#6.\u001b[39;00m\n\u001b[1;32m----> 3\u001b[0m \u001b[38;5;28;01mimport\u001b[39;00m \u001b[38;5;21;01mmysql\u001b[39;00m\u001b[38;5;21;01m.\u001b[39;00m\u001b[38;5;21;01mconnector\u001b[39;00m\n\u001b[0;32m      4\u001b[0m mydb \u001b[38;5;241m=\u001b[39m mysql\u001b[38;5;241m.\u001b[39mconnector\u001b[38;5;241m.\u001b[39mconnect(\n\u001b[0;32m      5\u001b[0m   host\u001b[38;5;241m=\u001b[39m\u001b[38;5;124m\"\u001b[39m\u001b[38;5;124mlocalhost\u001b[39m\u001b[38;5;124m\"\u001b[39m,\n\u001b[0;32m      6\u001b[0m   user\u001b[38;5;241m=\u001b[39m\u001b[38;5;124m\"\u001b[39m\u001b[38;5;124mabc\u001b[39m\u001b[38;5;124m\"\u001b[39m,\n\u001b[0;32m      7\u001b[0m   password\u001b[38;5;241m=\u001b[39m\u001b[38;5;124m\"\u001b[39m\u001b[38;5;124mpassword\u001b[39m\u001b[38;5;124m\"\u001b[39m\n\u001b[0;32m      8\u001b[0m )\n\u001b[0;32m      9\u001b[0m \u001b[38;5;28mprint\u001b[39m(mydb)\n",
      "\u001b[1;31mModuleNotFoundError\u001b[0m: No module named 'mysql'"
     ]
    }
   ],
   "source": [
    "#6.\n",
    "\n",
    "import mysql.connector\n",
    "mydb = mysql.connector.connect(\n",
    "  host=\"localhost\",\n",
    "  user=\"abc\",\n",
    "  password=\"password\"\n",
    ")\n",
    "print(mydb)\n",
    "mycursor = mydb.cursor()\n",
    "mycursor.execute(\"SHOW DATABASES\")\n",
    "for x in mycursor:\n",
    "  print(x)"
   ]
  },
  {
   "cell_type": "code",
   "execution_count": 7,
   "id": "47f087b0",
   "metadata": {},
   "outputs": [],
   "source": [
    "# A cursor is an object which helps to execute the query and fetch the records from the database.\n",
    "\n",
    "# The execute() method helps us to execute the query and return records according to the query. "
   ]
  },
  {
   "cell_type": "code",
   "execution_count": 8,
   "id": "dcce8bdc",
   "metadata": {},
   "outputs": [],
   "source": [
    "#7.\n",
    "\n",
    "# Sequence follows from top to bottom:\n",
    "\n",
    "# FROM Tables are joined to get the base data.\n",
    "# WHERE The base data is filtered.\n",
    "# GROUP BY The filtered base data is grouped.\n",
    "# HAVING The grouped base data is filtered.\n",
    "# SELECT The final data is returned.\n",
    "# ORDER BY The final data is sorted.\n",
    "# LIMIT The returned data is limited to row count."
   ]
  },
  {
   "cell_type": "code",
   "execution_count": null,
   "id": "7afd21fb",
   "metadata": {},
   "outputs": [],
   "source": []
  }
 ],
 "metadata": {
  "kernelspec": {
   "display_name": "Python 3 (ipykernel)",
   "language": "python",
   "name": "python3"
  },
  "language_info": {
   "codemirror_mode": {
    "name": "ipython",
    "version": 3
   },
   "file_extension": ".py",
   "mimetype": "text/x-python",
   "name": "python",
   "nbconvert_exporter": "python",
   "pygments_lexer": "ipython3",
   "version": "3.11.1"
  }
 },
 "nbformat": 4,
 "nbformat_minor": 5
}
