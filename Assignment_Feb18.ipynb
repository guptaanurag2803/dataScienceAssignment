{
 "cells": [
  {
   "cell_type": "code",
   "execution_count": 1,
   "id": "396dc6d4",
   "metadata": {},
   "outputs": [],
   "source": [
    "#1.\n",
    "\n",
    "# API stands for Application Programming Interface. \n",
    "# An API is a set of protocols, routines, and tools for building software applications, which specifies how different software components should interact with each other.\n",
    "\n",
    "# Example: When we order something from a shopping app, the app developer can use an API from a payment gateway service.\n",
    "# Whenever we order something, the shopping app sends request to the payment gateway and asks for payment verfication.\n",
    "# After verification our order will be ready to complete."
   ]
  },
  {
   "cell_type": "code",
   "execution_count": 2,
   "id": "5572c545",
   "metadata": {},
   "outputs": [],
   "source": [
    "#2.\n",
    "\n",
    "# ADVANTAGES:\n",
    "# Increases efficiency\n",
    "# Cost Effective\n",
    "# Provides more flexibility\n",
    "# Easier Maintainance\n",
    "\n",
    "# DISADVANTAGES:\n",
    "# Increases dependency on third party services.\n",
    "# Increases complexity.\n",
    "# Can cause security issues\n",
    "# Less reliable"
   ]
  },
  {
   "cell_type": "code",
   "execution_count": 3,
   "id": "ba1df2a8",
   "metadata": {},
   "outputs": [],
   "source": [
    "#3.\n",
    "\n",
    "# Web API stands Web Application Programming Interface.\n",
    "# It is a set of protocols, rules, and tools for building software applications that communicate with each other over the internet.\n",
    "\n",
    "# API is a broad term that refers to a set of protocols, routines, and tools that developers use to build software applications.\n",
    "# On the other hand, a Web API is a type of API that is specifically designed to communicate over the internet using HTTP.\n",
    "\n",
    "# An API allows different software applications to communicate and exchange data with each other.\n",
    "#  Web APIs are used to build web-based applications and they allow different applications to exchange data over the internet in a standardized and platform-independent way.\n",
    "\n",
    "# So, while API can refer to any type of interface used for building software applications.\n",
    "# And a Web API specifically refers to an interface that is accessed over the internet using HTTP."
   ]
  },
  {
   "cell_type": "code",
   "execution_count": 4,
   "id": "a407d08c",
   "metadata": {},
   "outputs": [],
   "source": [
    "#4.\n",
    "\n",
    "# REST(Representational State Transfer) is an architectural style that uses HTTP (Hypertext Transfer Protocol) as its underlying communication protocol.\n",
    "# It is based on the principles of a client-server architecture, statelessness, and the use of standard HTTP methods (such as GET, POST, PUT, and DELETE) to perform different operations on resources.\n",
    "\n",
    "# SOAP(Simple Object Access Protocol) is a protocol used for exchanging structured data between applications over the internet.\n",
    "# It uses XML (Extensible Markup Language) as its message format and typically relies on other protocols such as HTTP, SMTP, or FTP for transport. \n",
    "\n",
    "# Shortcomings of SOAP API:\n",
    "# Less Scalable\n",
    "# More Complex\n",
    "# Can't be cached\n",
    "# Less Flexibility"
   ]
  },
  {
   "cell_type": "code",
   "execution_count": 5,
   "id": "ab52dede",
   "metadata": {},
   "outputs": [],
   "source": [
    "#5.\n",
    "\n",
    "# REST vs. SOAP:\n",
    "\n",
    "# REST uses HTTP protocol while SOAP uses XML and WSDL with HTTP, SMTP, TCP for data transfer.\n",
    "# REST is more simple while SOAP is complex.\n",
    "# REST is more scalable than SOAP.\n",
    "# REST can be cached while SOAP Can't be cached.\n",
    "# REST is heavier protocol than SOAP.\n",
    "# REST is less secure than SOAP."
   ]
  },
  {
   "cell_type": "code",
   "execution_count": null,
   "id": "c6a41562",
   "metadata": {},
   "outputs": [],
   "source": []
  }
 ],
 "metadata": {
  "kernelspec": {
   "display_name": "Python 3 (ipykernel)",
   "language": "python",
   "name": "python3"
  },
  "language_info": {
   "codemirror_mode": {
    "name": "ipython",
    "version": 3
   },
   "file_extension": ".py",
   "mimetype": "text/x-python",
   "name": "python",
   "nbconvert_exporter": "python",
   "pygments_lexer": "ipython3",
   "version": "3.11.1"
  }
 },
 "nbformat": 4,
 "nbformat_minor": 5
}
