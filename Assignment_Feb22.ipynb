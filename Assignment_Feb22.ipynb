{
 "cells": [
  {
   "cell_type": "code",
   "execution_count": 1,
   "id": "20e0451e",
   "metadata": {},
   "outputs": [],
   "source": [
    "#1.\n",
    "from selenium import webdriver\n",
    "from selenium.webdriver.chrome.service import Service\n",
    "from selenium.webdriver.common.by import By\n",
    "from bs4 import BeautifulSoup as bs\n",
    "import pandas as pd"
   ]
  },
  {
   "cell_type": "code",
   "execution_count": 2,
   "id": "0406b65f",
   "metadata": {},
   "outputs": [],
   "source": [
    "yt = \"https://www.youtube.com/@PW-Foundation/videos\""
   ]
  },
  {
   "cell_type": "code",
   "execution_count": 3,
   "id": "08d9fb8d",
   "metadata": {},
   "outputs": [],
   "source": [
    "op = webdriver.ChromeOptions()\n",
    "op.add_argument('headless')\n",
    "driver = webdriver.Chrome(options=op)\n",
    "driver.get(yt)\n",
    "driver.execute_script(\"window.scrollBy(0,500)\",\"\")"
   ]
  },
  {
   "cell_type": "code",
   "execution_count": 4,
   "id": "13a9acbd",
   "metadata": {},
   "outputs": [],
   "source": [
    "data = driver.find_elements(By.XPATH, \"//ytd-thumbnail[@class='style-scope ytd-rich-grid-media']\")\n"
   ]
  },
  {
   "cell_type": "code",
   "execution_count": 5,
   "id": "cad4ed79",
   "metadata": {},
   "outputs": [],
   "source": [
    "yt_link = []\n",
    "for i in range(5):\n",
    "    html = data[i].get_attribute('innerHTML')\n",
    "    html_bs = bs(html, 'html.parser')\n",
    "    link = 'https://www.youtube.com' + html_bs.a['href']\n",
    "    yt_link.append(link)"
   ]
  },
  {
   "cell_type": "code",
   "execution_count": 6,
   "id": "3759e52b",
   "metadata": {
    "scrolled": true
   },
   "outputs": [],
   "source": [
    "#2.\n",
    "thumbnail = []\n",
    "for i in range(5):\n",
    "    html = data[i].get_attribute('innerHTML')\n",
    "    htmlBS = bs(html, 'html.parser')\n",
    "    img = htmlBS.a.img[\"src\"]\n",
    "    thumbnail.append(img)"
   ]
  },
  {
   "cell_type": "code",
   "execution_count": 7,
   "id": "bb0d6186",
   "metadata": {},
   "outputs": [],
   "source": [
    "#3.\n",
    "data1 = driver.find_elements(By.XPATH, \"//div[@id='meta']\")"
   ]
  },
  {
   "cell_type": "code",
   "execution_count": 8,
   "id": "755609eb",
   "metadata": {},
   "outputs": [],
   "source": [
    "titles = []\n",
    "for i in range(5):\n",
    "    html = data1[i+1].get_attribute('innerHTML')\n",
    "    htmlBS = bs(html, 'html.parser')\n",
    "    title = htmlBS.h3.a['title']\n",
    "    titles.append(title)"
   ]
  },
  {
   "cell_type": "code",
   "execution_count": 9,
   "id": "206e5860",
   "metadata": {},
   "outputs": [],
   "source": [
    "#4.\n",
    "data1 = driver.find_elements(By.XPATH, \"//span[@class='inline-metadata-item style-scope ytd-video-meta-block']\")\n",
    "views = []\n",
    "for i in range(5):\n",
    "    html = data1[2*i].get_attribute('innerHTML')\n",
    "    htmlBS = bs(html, 'html.parser')\n",
    "    view = htmlBS\n",
    "    views.append(view)"
   ]
  },
  {
   "cell_type": "code",
   "execution_count": 10,
   "id": "4bedbe20",
   "metadata": {},
   "outputs": [
    {
     "name": "stderr",
     "output_type": "stream",
     "text": [
      "C:\\Users\\iaman\\AppData\\Local\\Temp\\ipykernel_288\\180565723.py:5: MarkupResemblesLocatorWarning: The input looks more like a filename than markup. You may want to open this file and pass the filehandle into Beautiful Soup.\n",
      "  htmlBS = bs(html, 'html.parser')\n"
     ]
    }
   ],
   "source": [
    "#5.\n",
    "times = []\n",
    "for i in range(5):\n",
    "    html = data1[2*i+1].get_attribute('innerHTML')\n",
    "    htmlBS = bs(html, 'html.parser')\n",
    "    time = htmlBS\n",
    "    times.append(time)\n",
    "    "
   ]
  },
  {
   "cell_type": "code",
   "execution_count": 11,
   "id": "d1d4e38e",
   "metadata": {},
   "outputs": [
    {
     "data": {
      "text/html": [
       "<div>\n",
       "<style scoped>\n",
       "    .dataframe tbody tr th:only-of-type {\n",
       "        vertical-align: middle;\n",
       "    }\n",
       "\n",
       "    .dataframe tbody tr th {\n",
       "        vertical-align: top;\n",
       "    }\n",
       "\n",
       "    .dataframe thead th {\n",
       "        text-align: right;\n",
       "    }\n",
       "</style>\n",
       "<table border=\"1\" class=\"dataframe\">\n",
       "  <thead>\n",
       "    <tr style=\"text-align: right;\">\n",
       "      <th></th>\n",
       "      <th>Link</th>\n",
       "      <th>Thumbnail</th>\n",
       "      <th>Title</th>\n",
       "      <th>Views</th>\n",
       "      <th>Time</th>\n",
       "    </tr>\n",
       "  </thead>\n",
       "  <tbody>\n",
       "    <tr>\n",
       "      <th>1</th>\n",
       "      <td>https://www.youtube.com/watch?v=hzwEXoQDNCs</td>\n",
       "      <td>https://i.ytimg.com/vi/hzwEXoQDNCs/hqdefault.j...</td>\n",
       "      <td>Aarambh Batch 2024 | For CBSE Class 11th Comme...</td>\n",
       "      <td>[8 waiting]</td>\n",
       "      <td>[Premieres 27/03/2023, 19:00]</td>\n",
       "    </tr>\n",
       "    <tr>\n",
       "      <th>2</th>\n",
       "      <td>https://www.youtube.com/watch?v=0s6hAsFGxYE</td>\n",
       "      <td>https://i.ytimg.com/vi/0s6hAsFGxYE/hqdefault.j...</td>\n",
       "      <td>India's NO.1 Batch for Class 10th - UDAAN ⚡ La...</td>\n",
       "      <td>[59K views]</td>\n",
       "      <td>[4 days ago]</td>\n",
       "    </tr>\n",
       "    <tr>\n",
       "      <th>3</th>\n",
       "      <td>https://www.youtube.com/watch?v=YXRyMc_noiE</td>\n",
       "      <td>https://i.ytimg.com/vi/YXRyMc_noiE/hqdefault.j...</td>\n",
       "      <td>India's Biggest Scholarship Test for Classes 8...</td>\n",
       "      <td>[72K views]</td>\n",
       "      <td>[5 days ago]</td>\n",
       "    </tr>\n",
       "    <tr>\n",
       "      <th>4</th>\n",
       "      <td>https://www.youtube.com/watch?v=PI1obes98Zc</td>\n",
       "      <td>https://i.ytimg.com/vi/PI1obes98Zc/hqdefault.j...</td>\n",
       "      <td>How to score 95%+ in class 10th? Complete year...</td>\n",
       "      <td>[265K views]</td>\n",
       "      <td>[2 weeks ago]</td>\n",
       "    </tr>\n",
       "    <tr>\n",
       "      <th>5</th>\n",
       "      <td>https://www.youtube.com/watch?v=16fUsD0M1-I</td>\n",
       "      <td>https://i.ytimg.com/vi/16fUsD0M1-I/hqdefault.j...</td>\n",
       "      <td>Last 4 Days Left For SST Exam || How To Manage...</td>\n",
       "      <td>[69K views]</td>\n",
       "      <td>[2 weeks ago]</td>\n",
       "    </tr>\n",
       "  </tbody>\n",
       "</table>\n",
       "</div>"
      ],
      "text/plain": [
       "                                          Link  \\\n",
       "1  https://www.youtube.com/watch?v=hzwEXoQDNCs   \n",
       "2  https://www.youtube.com/watch?v=0s6hAsFGxYE   \n",
       "3  https://www.youtube.com/watch?v=YXRyMc_noiE   \n",
       "4  https://www.youtube.com/watch?v=PI1obes98Zc   \n",
       "5  https://www.youtube.com/watch?v=16fUsD0M1-I   \n",
       "\n",
       "                                           Thumbnail  \\\n",
       "1  https://i.ytimg.com/vi/hzwEXoQDNCs/hqdefault.j...   \n",
       "2  https://i.ytimg.com/vi/0s6hAsFGxYE/hqdefault.j...   \n",
       "3  https://i.ytimg.com/vi/YXRyMc_noiE/hqdefault.j...   \n",
       "4  https://i.ytimg.com/vi/PI1obes98Zc/hqdefault.j...   \n",
       "5  https://i.ytimg.com/vi/16fUsD0M1-I/hqdefault.j...   \n",
       "\n",
       "                                               Title         Views  \\\n",
       "1  Aarambh Batch 2024 | For CBSE Class 11th Comme...   [8 waiting]   \n",
       "2  India's NO.1 Batch for Class 10th - UDAAN ⚡ La...   [59K views]   \n",
       "3  India's Biggest Scholarship Test for Classes 8...   [72K views]   \n",
       "4  How to score 95%+ in class 10th? Complete year...  [265K views]   \n",
       "5  Last 4 Days Left For SST Exam || How To Manage...   [69K views]   \n",
       "\n",
       "                            Time  \n",
       "1  [Premieres 27/03/2023, 19:00]  \n",
       "2                   [4 days ago]  \n",
       "3                   [5 days ago]  \n",
       "4                  [2 weeks ago]  \n",
       "5                  [2 weeks ago]  "
      ]
     },
     "execution_count": 11,
     "metadata": {},
     "output_type": "execute_result"
    }
   ],
   "source": [
    "d = {'Link': yt_link, 'Thumbnail':thumbnail, 'Title':titles, 'Views':views, 'Time':times}\n",
    " \n",
    "df = pd.DataFrame(d, index=[i for i in range(1,6)])\n",
    "df"
   ]
  },
  {
   "cell_type": "code",
   "execution_count": 12,
   "id": "eb572e43",
   "metadata": {},
   "outputs": [],
   "source": [
    "df.to_csv('ytData.csv')"
   ]
  }
 ],
 "metadata": {
  "kernelspec": {
   "display_name": "Python 3 (ipykernel)",
   "language": "python",
   "name": "python3"
  },
  "language_info": {
   "codemirror_mode": {
    "name": "ipython",
    "version": 3
   },
   "file_extension": ".py",
   "mimetype": "text/x-python",
   "name": "python",
   "nbconvert_exporter": "python",
   "pygments_lexer": "ipython3",
   "version": "3.11.1"
  }
 },
 "nbformat": 4,
 "nbformat_minor": 5
}
