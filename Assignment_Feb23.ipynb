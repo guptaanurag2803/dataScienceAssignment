{
 "cells": [
  {
   "cell_type": "code",
   "execution_count": 1,
   "id": "071aebaf",
   "metadata": {},
   "outputs": [],
   "source": [
    "#1.\n",
    "\n",
    "import pandas as pd\n",
    "[4, 8, 15, 16, 23, 42]\n",
    "s = pd.Series(l)\n",
    "\n",
    "print(s)"
   ]
  },
  {
   "cell_type": "code",
   "execution_count": null,
   "id": "84a4c337",
   "metadata": {},
   "outputs": [],
   "source": [
    "#2.\n",
    "\n",
    "import pandas as pd\n",
    "l = [i*10 for i in range(0,10)]\n",
    "s = pd.Series(l)\n",
    "\n",
    "print(s)"
   ]
  },
  {
   "cell_type": "code",
   "execution_count": null,
   "id": "f2185675",
   "metadata": {},
   "outputs": [],
   "source": [
    "#3.\n",
    "\n",
    "import pandas as pd\n",
    "d = {\"Name\": ['Alice', 'Bob', 'Claire'],\n",
    "    \"Age\":[25, 30, 27],\n",
    "    \"Gender\":['Female', 'Male', \"Female\"]}\n",
    "df = pd.DataFrame(d)\n",
    "\n",
    "print(df)"
   ]
  },
  {
   "cell_type": "code",
   "execution_count": null,
   "id": "ba628d03",
   "metadata": {},
   "outputs": [],
   "source": [
    "#4.\n",
    "\n",
    "# A dataframe is a two dimensional data structured in which each row and column has a label.\n",
    "# It can store data of different data type like string, int, float, etc.\n",
    "\n",
    "# Dataframe is different from series because a series is an indexed array.\n",
    "# Series is of single data type like string, int, float, etc.\n",
    "\n",
    "# Example:\n",
    "\n",
    "import pandas as pd\n",
    "\n",
    "\n",
    "d1 = {\n",
    "    \"S.No.\" : [1, 2, 3, 4],\n",
    "    \"Direction\" : ['North', 'East', 'West', 'South']\n",
    "}\n",
    "\n",
    "df1 = pd.DataFrame(d1)\n",
    "print(print(type(df1)))\n",
    "print(print(type(df1['Direction'])))\n"
   ]
  },
  {
   "cell_type": "code",
   "execution_count": null,
   "id": "8356a028",
   "metadata": {},
   "outputs": [],
   "source": [
    "#5.\n",
    "\n",
    "# head() function is used to get first five rows of the dataframe.\n",
    "# If we pass an integer variable n as argument to head() we get n first rows as output.\n",
    "\n",
    "# tail() function is used to get last five rows of the dataframe.\n",
    "# If we pass an integer variable n as argument to tail() we get n last rows as output.\n",
    "\n",
    "# describe() function is used to get statistics of data.\n",
    "# It includes the count, mean, standard deviation, minimum, maximum, and quartiles.\n",
    "\n",
    "# sort_values() function is used to sort dataframe by one or more column.\n",
    "\n",
    "# drop() is used to drop one or more columns or rows from a DataFrame. "
   ]
  },
  {
   "cell_type": "code",
   "execution_count": null,
   "id": "73fc2d63",
   "metadata": {},
   "outputs": [],
   "source": [
    "#6.\n",
    "\n",
    "# Series and dataframe can be mutated.\n",
    "# They can be modified by adding, deleting or changing their elements or columns, which makes them mutable."
   ]
  },
  {
   "cell_type": "code",
   "execution_count": null,
   "id": "15260866",
   "metadata": {},
   "outputs": [],
   "source": [
    "#7.\n",
    "\n",
    "import pandas as pd\n",
    "\n",
    "x = pd.Series(['Anurag', 'Aman', 'Ankit'])\n",
    "y = pd.Series([22, 20, 21])\n",
    "\n",
    "z = pd.DataFrame({'Name': x, 'Age':y})\n",
    "print(z)"
   ]
  },
  {
   "cell_type": "code",
   "execution_count": null,
   "id": "bfb8a9a0",
   "metadata": {},
   "outputs": [],
   "source": []
  }
 ],
 "metadata": {
  "kernelspec": {
   "display_name": "Python 3 (ipykernel)",
   "language": "python",
   "name": "python3"
  },
  "language_info": {
   "codemirror_mode": {
    "name": "ipython",
    "version": 3
   },
   "file_extension": ".py",
   "mimetype": "text/x-python",
   "name": "python",
   "nbconvert_exporter": "python",
   "pygments_lexer": "ipython3",
   "version": "3.11.1"
  }
 },
 "nbformat": 4,
 "nbformat_minor": 5
}
