{
 "cells": [
  {
   "cell_type": "code",
   "execution_count": 1,
   "id": "422ce8e6",
   "metadata": {},
   "outputs": [
    {
     "data": {
      "text/html": [
       "<div>\n",
       "<style scoped>\n",
       "    .dataframe tbody tr th:only-of-type {\n",
       "        vertical-align: middle;\n",
       "    }\n",
       "\n",
       "    .dataframe tbody tr th {\n",
       "        vertical-align: top;\n",
       "    }\n",
       "\n",
       "    .dataframe thead th {\n",
       "        text-align: right;\n",
       "    }\n",
       "</style>\n",
       "<table border=\"1\" class=\"dataframe\">\n",
       "  <thead>\n",
       "    <tr style=\"text-align: right;\">\n",
       "      <th></th>\n",
       "      <th>Name</th>\n",
       "      <th>Gender</th>\n",
       "      <th>Branch</th>\n",
       "    </tr>\n",
       "  </thead>\n",
       "  <tbody>\n",
       "    <tr>\n",
       "      <th>0</th>\n",
       "      <td>Anurag</td>\n",
       "      <td>Male</td>\n",
       "      <td>CSE</td>\n",
       "    </tr>\n",
       "    <tr>\n",
       "      <th>1</th>\n",
       "      <td>Aman</td>\n",
       "      <td>Male</td>\n",
       "      <td>ME</td>\n",
       "    </tr>\n",
       "    <tr>\n",
       "      <th>2</th>\n",
       "      <td>Ajay</td>\n",
       "      <td>Male</td>\n",
       "      <td>CE</td>\n",
       "    </tr>\n",
       "    <tr>\n",
       "      <th>3</th>\n",
       "      <td>Anshika</td>\n",
       "      <td>Female</td>\n",
       "      <td>CSE</td>\n",
       "    </tr>\n",
       "    <tr>\n",
       "      <th>4</th>\n",
       "      <td>Abhishek</td>\n",
       "      <td>Male</td>\n",
       "      <td>CE</td>\n",
       "    </tr>\n",
       "    <tr>\n",
       "      <th>5</th>\n",
       "      <td>Apoorva</td>\n",
       "      <td>Female</td>\n",
       "      <td>ME</td>\n",
       "    </tr>\n",
       "  </tbody>\n",
       "</table>\n",
       "</div>"
      ],
      "text/plain": [
       "       Name   Gender  Branch\n",
       "0    Anurag     Male     CSE\n",
       "1      Aman     Male      ME\n",
       "2      Ajay     Male      CE\n",
       "3   Anshika   Female     CSE\n",
       "4  Abhishek     Male      CE\n",
       "5   Apoorva   Female      ME"
      ]
     },
     "execution_count": 1,
     "metadata": {},
     "output_type": "execute_result"
    }
   ],
   "source": [
    "#1.\n",
    "\n",
    "import pandas as pd\n",
    "\n",
    "# read_csv() function is used to read data from a csv file.\n",
    "\n",
    "df = pd.read_csv('student.csv')\n",
    "df"
   ]
  },
  {
   "cell_type": "code",
   "execution_count": 2,
   "id": "421252e5",
   "metadata": {},
   "outputs": [
    {
     "data": {
      "text/html": [
       "<div>\n",
       "<style scoped>\n",
       "    .dataframe tbody tr th:only-of-type {\n",
       "        vertical-align: middle;\n",
       "    }\n",
       "\n",
       "    .dataframe tbody tr th {\n",
       "        vertical-align: top;\n",
       "    }\n",
       "\n",
       "    .dataframe thead th {\n",
       "        text-align: right;\n",
       "    }\n",
       "</style>\n",
       "<table border=\"1\" class=\"dataframe\">\n",
       "  <thead>\n",
       "    <tr style=\"text-align: right;\">\n",
       "      <th></th>\n",
       "      <th>Name</th>\n",
       "      <th>Gender</th>\n",
       "      <th>Branch</th>\n",
       "    </tr>\n",
       "  </thead>\n",
       "  <tbody>\n",
       "    <tr>\n",
       "      <th>count</th>\n",
       "      <td>6</td>\n",
       "      <td>6</td>\n",
       "      <td>6</td>\n",
       "    </tr>\n",
       "    <tr>\n",
       "      <th>unique</th>\n",
       "      <td>6</td>\n",
       "      <td>2</td>\n",
       "      <td>3</td>\n",
       "    </tr>\n",
       "    <tr>\n",
       "      <th>top</th>\n",
       "      <td>Anurag</td>\n",
       "      <td>Male</td>\n",
       "      <td>CSE</td>\n",
       "    </tr>\n",
       "    <tr>\n",
       "      <th>freq</th>\n",
       "      <td>1</td>\n",
       "      <td>4</td>\n",
       "      <td>2</td>\n",
       "    </tr>\n",
       "  </tbody>\n",
       "</table>\n",
       "</div>"
      ],
      "text/plain": [
       "          Name  Gender  Branch\n",
       "count        6       6       6\n",
       "unique       6       2       3\n",
       "top     Anurag    Male     CSE\n",
       "freq         1       4       2"
      ]
     },
     "execution_count": 2,
     "metadata": {},
     "output_type": "execute_result"
    }
   ],
   "source": [
    "# describe() function is used to get statistics of data.\n",
    "# It includes the count, mean, standard deviation, minimum, maximum, and quartiles.\n",
    "\n",
    "df.describe()"
   ]
  },
  {
   "cell_type": "code",
   "execution_count": 3,
   "id": "ed77bd88",
   "metadata": {},
   "outputs": [
    {
     "data": {
      "text/html": [
       "<div>\n",
       "<style scoped>\n",
       "    .dataframe tbody tr th:only-of-type {\n",
       "        vertical-align: middle;\n",
       "    }\n",
       "\n",
       "    .dataframe tbody tr th {\n",
       "        vertical-align: top;\n",
       "    }\n",
       "\n",
       "    .dataframe thead th {\n",
       "        text-align: right;\n",
       "    }\n",
       "</style>\n",
       "<table border=\"1\" class=\"dataframe\">\n",
       "  <thead>\n",
       "    <tr style=\"text-align: right;\">\n",
       "      <th></th>\n",
       "      <th>Name</th>\n",
       "      <th>Gender</th>\n",
       "      <th>Branch</th>\n",
       "    </tr>\n",
       "  </thead>\n",
       "  <tbody>\n",
       "    <tr>\n",
       "      <th>0</th>\n",
       "      <td>Anurag</td>\n",
       "      <td>Male</td>\n",
       "      <td>CSE</td>\n",
       "    </tr>\n",
       "    <tr>\n",
       "      <th>1</th>\n",
       "      <td>Aman</td>\n",
       "      <td>Male</td>\n",
       "      <td>ME</td>\n",
       "    </tr>\n",
       "  </tbody>\n",
       "</table>\n",
       "</div>"
      ],
      "text/plain": [
       "     Name  Gender  Branch\n",
       "0  Anurag    Male     CSE\n",
       "1    Aman    Male      ME"
      ]
     },
     "execution_count": 3,
     "metadata": {},
     "output_type": "execute_result"
    }
   ],
   "source": [
    "# head() function is used to get first five rows of the dataframe.\n",
    "# If we pass an integer variable n as argument to head() we get n first rows as output.\n",
    "\n",
    "\n",
    "df.head(2)"
   ]
  },
  {
   "cell_type": "code",
   "execution_count": 4,
   "id": "bd44447f",
   "metadata": {},
   "outputs": [
    {
     "data": {
      "text/html": [
       "<div>\n",
       "<style scoped>\n",
       "    .dataframe tbody tr th:only-of-type {\n",
       "        vertical-align: middle;\n",
       "    }\n",
       "\n",
       "    .dataframe tbody tr th {\n",
       "        vertical-align: top;\n",
       "    }\n",
       "\n",
       "    .dataframe thead th {\n",
       "        text-align: right;\n",
       "    }\n",
       "</style>\n",
       "<table border=\"1\" class=\"dataframe\">\n",
       "  <thead>\n",
       "    <tr style=\"text-align: right;\">\n",
       "      <th></th>\n",
       "      <th>Name</th>\n",
       "      <th>Gender</th>\n",
       "      <th>Branch</th>\n",
       "    </tr>\n",
       "  </thead>\n",
       "  <tbody>\n",
       "    <tr>\n",
       "      <th>4</th>\n",
       "      <td>Abhishek</td>\n",
       "      <td>Male</td>\n",
       "      <td>CE</td>\n",
       "    </tr>\n",
       "    <tr>\n",
       "      <th>5</th>\n",
       "      <td>Apoorva</td>\n",
       "      <td>Female</td>\n",
       "      <td>ME</td>\n",
       "    </tr>\n",
       "  </tbody>\n",
       "</table>\n",
       "</div>"
      ],
      "text/plain": [
       "       Name   Gender  Branch\n",
       "4  Abhishek     Male      CE\n",
       "5   Apoorva   Female      ME"
      ]
     },
     "execution_count": 4,
     "metadata": {},
     "output_type": "execute_result"
    }
   ],
   "source": [
    "# tail() function is used to get last five rows of the dataframe.\n",
    "# If we pass an integer variable n as argument to tail() we get n last rows as output.\n",
    "\n",
    "df.tail(2)"
   ]
  },
  {
   "cell_type": "code",
   "execution_count": 5,
   "id": "125c675f",
   "metadata": {},
   "outputs": [],
   "source": [
    "# DataFrame() function used to create a dataframe object.\n",
    "\n",
    "d = {\n",
    "    'Subject': ['Maths', 'Science', 'SST', 'Hindi', 'English', 'Sanskrit'],\n",
    "    'Marks' : [100, 96, 94, 89, 89, 86]\n",
    "}"
   ]
  },
  {
   "cell_type": "code",
   "execution_count": 6,
   "id": "1cb65b17",
   "metadata": {},
   "outputs": [
    {
     "name": "stdout",
     "output_type": "stream",
     "text": [
      "   A  B  C\n",
      "0  a  d  g\n",
      "1  b  e  h\n",
      "2  c  f  i\n",
      "   A  B  C\n",
      "1  a  d  g\n",
      "3  b  e  h\n",
      "5  c  f  i\n"
     ]
    }
   ],
   "source": [
    "#2.\n",
    "\n",
    "import pandas as pd\n",
    "\n",
    "def reindexer(df):\n",
    "    return df.reset_index(drop=True).set_index(pd.RangeIndex(start=1, step=2, stop=len(df)*2))\n",
    "\n",
    "d = {\n",
    "    'A' : ['a', 'b', 'c'],\n",
    "    'B' : ['d', 'e', 'f'],\n",
    "    'C' : ['g', 'h', 'i']\n",
    "}\n",
    "\n",
    "df = pd.DataFrame(d)\n",
    "print(df)\n",
    "df = reindexer(df)\n",
    "print(df)"
   ]
  },
  {
   "cell_type": "code",
   "execution_count": 7,
   "id": "e3464302",
   "metadata": {
    "scrolled": true
   },
   "outputs": [
    {
     "name": "stdout",
     "output_type": "stream",
     "text": [
      "134\n"
     ]
    }
   ],
   "source": [
    "#3.\n",
    "\n",
    "import pandas as pd\n",
    "\n",
    "def valueSum(df):\n",
    "    sum = 0\n",
    "    for i in df['Values'][0:3]:\n",
    "        sum += i\n",
    "    print(sum)\n",
    "    \n",
    "df = pd.DataFrame({\n",
    "    'Variable' : [\"x\", \"y\", \"z\"],\n",
    "    'Values' : [23, 45, 66]\n",
    "})\n",
    "\n",
    "valueSum(df)"
   ]
  },
  {
   "cell_type": "code",
   "execution_count": 8,
   "id": "9b7056de",
   "metadata": {},
   "outputs": [
    {
     "name": "stdout",
     "output_type": "stream",
     "text": [
      "                                 Text   Bool\n",
      "0  I want to become a Data Scientist.   True\n",
      "1                    I love PWSkills.  False\n",
      "2                       I love India.   True\n",
      "                                 Text   Bool  Word_Count\n",
      "0  I want to become a Data Scientist.   True         7.0\n",
      "1                    I love PWSkills.  False         3.0\n",
      "2                       I love India.   True         3.0\n"
     ]
    }
   ],
   "source": [
    "#4.\n",
    "\n",
    "import pandas as pd\n",
    "\n",
    "def wordCount(df):\n",
    "    for i in range(0, len(df['Text'])):\n",
    "        df.loc[i, 'Word_Count'] = len(df.loc[i, 'Text'].split())\n",
    "   \n",
    "    return df\n",
    "\n",
    "df = pd.DataFrame({\n",
    "    'Text' : ['I want to become a Data Scientist.', 'I love PWSkills.', 'I love India.'],\n",
    "    'Bool' : [True, False, True]\n",
    "})\n",
    "\n",
    "print(df)\n",
    "df = wordCount(df)\n",
    "print(df)"
   ]
  },
  {
   "cell_type": "code",
   "execution_count": 9,
   "id": "6e691d82",
   "metadata": {},
   "outputs": [
    {
     "name": "stdout",
     "output_type": "stream",
     "text": [
      "(3, 2)\n",
      "6\n"
     ]
    }
   ],
   "source": [
    "#5.\n",
    "\n",
    "# DataFrame.shape is used to get the shape of the DataFrame.\n",
    "# DataFrame.shape gives shape in the form of a tuple(row, column).\n",
    "\n",
    "# DataFrame.shape is used to get the total number of elements in a DataFrame.\n",
    "# The total element can be given by number of rows multiplied by number of columns.\n",
    "\n",
    "import pandas as pd\n",
    "\n",
    "df = pd.DataFrame({\n",
    "    'A' : ['a', 'b', 'c'],\n",
    "    'B' : [1, 2, 3]\n",
    "})\n",
    "\n",
    "print(df.shape)\n",
    "print(df.size)"
   ]
  },
  {
   "cell_type": "code",
   "execution_count": 10,
   "id": "7f8bdbb4",
   "metadata": {},
   "outputs": [
    {
     "name": "stdout",
     "output_type": "stream",
     "text": [
      "      Name Branch Batch  Year\n",
      "0   Anurag    CSE     A     3\n",
      "1  Anshika     ME     A     2\n",
      "2  Bhumika    CSE     B     3\n"
     ]
    }
   ],
   "source": [
    "#6.\n",
    "\n",
    "# We can open excel files using read_excel() functions from pandas.\n",
    "\n",
    "#Example:\n",
    "import pandas as pd\n",
    "\n",
    "df = pd.read_excel('Book1.xlsx')\n",
    "print(df)"
   ]
  },
  {
   "cell_type": "code",
   "execution_count": 18,
   "id": "598d5378",
   "metadata": {},
   "outputs": [
    {
     "name": "stdout",
     "output_type": "stream",
     "text": [
      "        Name                     Email        Username\n",
      "0     Anurag       iamanurag@gmail.com       iamanurag\n",
      "1      Harsh         hjharsh@gmail.com         hjharsh\n",
      "2  Deepanshu  deepanshusaini@gmail.com  deepanshusaini\n"
     ]
    }
   ],
   "source": [
    "#7.\n",
    "\n",
    "import pandas as pd\n",
    "\n",
    "def createUsername(df):\n",
    "    for i in range(0, len(df['Email'])): \n",
    "        df.loc[i, 'Username'] = df.loc[i, 'Email'].split('@')[0]\n",
    "    return df\n",
    "\n",
    "df = pd.DataFrame({\n",
    "    'Name' : ['Anurag', 'Harsh', 'Deepanshu'],\n",
    "    'Email' : ['iamanurag@gmail.com', 'hjharsh@gmail.com', 'deepanshusaini@gmail.com']\n",
    "})\n",
    "\n",
    "df = createUsername(df)\n",
    "print(df)"
   ]
  },
  {
   "cell_type": "code",
   "execution_count": 22,
   "id": "8519f7b0",
   "metadata": {},
   "outputs": [
    {
     "name": "stdout",
     "output_type": "stream",
     "text": [
      "   A  B   C\n",
      "3  8  5   1\n",
      "5  6  4  10\n",
      "7  6  1   5\n"
     ]
    }
   ],
   "source": [
    "#8.\n",
    "\n",
    "import pandas as pd\n",
    "\n",
    "def test(df1):\n",
    "    df2 = df1[(df1['A']>5) & (df1['B']<10)]\n",
    "    return df2\n",
    "\n",
    "df = pd.DataFrame({\n",
    "    'A' : [2, 5, 3, 8, 3, 6, 2, 6],\n",
    "    'B' : [2, 4, 22, 5, 11, 4, 3, 1],\n",
    "    'C' : [12, 43, 3, 1, 6, 10, 4, 5]\n",
    "})\n",
    "\n",
    "print(test(df))"
   ]
  },
  {
   "cell_type": "code",
   "execution_count": 26,
   "id": "cb953b7f",
   "metadata": {},
   "outputs": [
    {
     "name": "stdout",
     "output_type": "stream",
     "text": [
      "(44.666666666666664, 45.0, 21.501937897160182)\n"
     ]
    }
   ],
   "source": [
    "#9.\n",
    "\n",
    "import pandas as pd\n",
    "\n",
    "def stats(df):\n",
    "    mean = df['Values'].mean()\n",
    "    median = df['Values'].median()\n",
    "    std = df['Values'].std()\n",
    "    return mean, median, std\n",
    "    \n",
    "df = pd.DataFrame({\n",
    "    'Variable' : [\"x\", \"y\", \"z\"],\n",
    "    'Values' : [23, 45, 66]\n",
    "})\n",
    "\n",
    "print(stats(df))"
   ]
  },
  {
   "cell_type": "code",
   "execution_count": 33,
   "id": "fb473615",
   "metadata": {},
   "outputs": [
    {
     "name": "stdout",
     "output_type": "stream",
     "text": [
      "         Date  Sales  MovingAverage\n",
      "0  2023-01-01  20000   20000.000000\n",
      "1  2023-01-02  23000   21500.000000\n",
      "2  2023-01-03  21000   21333.333333\n",
      "3  2023-01-04  30000   23500.000000\n",
      "4  2023-01-05  40000   26800.000000\n",
      "5  2023-01-06  22000   26000.000000\n",
      "6  2023-01-07  19000   25000.000000\n",
      "7  2023-01-08  19500   24928.571429\n"
     ]
    }
   ],
   "source": [
    "#10.\n",
    "\n",
    "def movingAverage(df):\n",
    "    for i in range(len(df['Sales'])):\n",
    "        if i < 6:\n",
    "            df.loc[i, 'MovingAverage'] = df['Sales'][0: i+1].mean()\n",
    "        else:\n",
    "            df.loc[i, 'MovingAverage'] = df['Sales'][i-6: i+1].mean()\n",
    "    return df\n",
    "    \n",
    "df = pd.DataFrame({\n",
    "    'Date' : ['2023-01-01', '2023-01-02', '2023-01-03', '2023-01-04', '2023-01-05', '2023-01-06', '2023-01-07', '2023-01-08'],\n",
    "    'Sales' : [20000, 23000, 21000, 30000, 40000, 22000, 19000, 19500]\n",
    "})\n",
    "\n",
    "df = movingAverage(df)\n",
    "print(df)"
   ]
  },
  {
   "cell_type": "code",
   "execution_count": null,
   "id": "097cde70",
   "metadata": {},
   "outputs": [],
   "source": [
    "#10.\n",
    "\n",
    "def movingAverage(df):\n",
    "    for i in range(len(df['D'])):\n",
    "        \n",
    "    return df\n",
    "    \n",
    "df = pd.DataFrame({\n",
    "    'Date' : ['2023-01-01', '2023-01-02', '2023-01-03', '2023-01-04', '2023-01-05', '2023-01-06', '2023-01-07', '2023-01-08'],\n",
    "})\n",
    "\n",
    "df = movingAverage(df)\n",
    "print(df)"
   ]
  }
 ],
 "metadata": {
  "kernelspec": {
   "display_name": "Python 3 (ipykernel)",
   "language": "python",
   "name": "python3"
  },
  "language_info": {
   "codemirror_mode": {
    "name": "ipython",
    "version": 3
   },
   "file_extension": ".py",
   "mimetype": "text/x-python",
   "name": "python",
   "nbconvert_exporter": "python",
   "pygments_lexer": "ipython3",
   "version": "3.11.1"
  }
 },
 "nbformat": 4,
 "nbformat_minor": 5
}
