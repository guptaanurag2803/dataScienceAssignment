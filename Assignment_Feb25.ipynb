{
 "cells": [
  {
   "cell_type": "code",
   "execution_count": 1,
   "id": "ca2dc334",
   "metadata": {},
   "outputs": [],
   "source": [
    "import pandas as pd\n",
    "course_name = ['Data Science', 'Machine Learning', 'Big Data', 'Data Engineer']\n",
    "duration = [2,3,6,4]\n",
    "df = pd.DataFrame(data = {'course_name ': course_name, 'duration' : duration})"
   ]
  },
  {
   "cell_type": "code",
   "execution_count": 2,
   "id": "305b7c74",
   "metadata": {},
   "outputs": [
    {
     "name": "stdout",
     "output_type": "stream",
     "text": [
      "course_name     Machine Learning\n",
      "duration                       3\n",
      "Name: 1, dtype: object\n"
     ]
    }
   ],
   "source": [
    "#1.\n",
    "\n",
    "print(df.iloc[1])"
   ]
  },
  {
   "cell_type": "code",
   "execution_count": 3,
   "id": "787f1d9f",
   "metadata": {},
   "outputs": [
    {
     "data": {
      "text/html": [
       "<div>\n",
       "<style scoped>\n",
       "    .dataframe tbody tr th:only-of-type {\n",
       "        vertical-align: middle;\n",
       "    }\n",
       "\n",
       "    .dataframe tbody tr th {\n",
       "        vertical-align: top;\n",
       "    }\n",
       "\n",
       "    .dataframe thead th {\n",
       "        text-align: right;\n",
       "    }\n",
       "</style>\n",
       "<table border=\"1\" class=\"dataframe\">\n",
       "  <thead>\n",
       "    <tr style=\"text-align: right;\">\n",
       "      <th></th>\n",
       "      <th>course_name</th>\n",
       "      <th>duration</th>\n",
       "    </tr>\n",
       "  </thead>\n",
       "  <tbody>\n",
       "    <tr>\n",
       "      <th>1</th>\n",
       "      <td>Machine Learning</td>\n",
       "      <td>3</td>\n",
       "    </tr>\n",
       "    <tr>\n",
       "      <th>2</th>\n",
       "      <td>Big Data</td>\n",
       "      <td>6</td>\n",
       "    </tr>\n",
       "  </tbody>\n",
       "</table>\n",
       "</div>"
      ],
      "text/plain": [
       "       course_name   duration\n",
       "1  Machine Learning         3\n",
       "2          Big Data         6"
      ]
     },
     "execution_count": 3,
     "metadata": {},
     "output_type": "execute_result"
    }
   ],
   "source": [
    "#2.\n",
    "\n",
    "# loc selects rows and columns based on their labels and includes the stopping index in slicing.\n",
    "df.loc[1:2]"
   ]
  },
  {
   "cell_type": "code",
   "execution_count": 4,
   "id": "7f9f858b",
   "metadata": {},
   "outputs": [
    {
     "data": {
      "text/html": [
       "<div>\n",
       "<style scoped>\n",
       "    .dataframe tbody tr th:only-of-type {\n",
       "        vertical-align: middle;\n",
       "    }\n",
       "\n",
       "    .dataframe tbody tr th {\n",
       "        vertical-align: top;\n",
       "    }\n",
       "\n",
       "    .dataframe thead th {\n",
       "        text-align: right;\n",
       "    }\n",
       "</style>\n",
       "<table border=\"1\" class=\"dataframe\">\n",
       "  <thead>\n",
       "    <tr style=\"text-align: right;\">\n",
       "      <th></th>\n",
       "      <th>course_name</th>\n",
       "      <th>duration</th>\n",
       "    </tr>\n",
       "  </thead>\n",
       "  <tbody>\n",
       "    <tr>\n",
       "      <th>1</th>\n",
       "      <td>Machine Learning</td>\n",
       "      <td>3</td>\n",
       "    </tr>\n",
       "  </tbody>\n",
       "</table>\n",
       "</div>"
      ],
      "text/plain": [
       "       course_name   duration\n",
       "1  Machine Learning         3"
      ]
     },
     "execution_count": 4,
     "metadata": {},
     "output_type": "execute_result"
    }
   ],
   "source": [
    "# iloc selects rows and columns based on their integer positions and does not includes the stopping index in slicing.\n",
    "df.iloc[1:2]"
   ]
  },
  {
   "cell_type": "code",
   "execution_count": 5,
   "id": "37bbc2d0",
   "metadata": {},
   "outputs": [],
   "source": [
    "#3.\n",
    "new_df = df.reindex([3,0,1,2])"
   ]
  },
  {
   "cell_type": "code",
   "execution_count": 6,
   "id": "10fe9349",
   "metadata": {},
   "outputs": [
    {
     "name": "stdout",
     "output_type": "stream",
     "text": [
      "course_name     Big Data\n",
      "duration               6\n",
      "Name: 2, dtype: object\n",
      "course_name     Machine Learning\n",
      "duration                       3\n",
      "Name: 1, dtype: object\n"
     ]
    }
   ],
   "source": [
    "print(new_df.loc[2])\n",
    "print(new_df.iloc[2])"
   ]
  },
  {
   "cell_type": "code",
   "execution_count": 7,
   "id": "8fcd5299",
   "metadata": {},
   "outputs": [],
   "source": [
    "# new_df.loc[2] is giving 'Big Data' as output because of it's label, it's label is 2.\n",
    "# new_df.iloc[2] is giving 'Machine Learning' as output because of it's position is 2 (position starts from 0)."
   ]
  },
  {
   "cell_type": "code",
   "execution_count": 8,
   "id": "53bb100f",
   "metadata": {},
   "outputs": [],
   "source": [
    "import pandas as pd\n",
    "import numpy as np\n",
    "columns = ['column_1', 'column_2', 'column_3', 'column_4', 'column_5', 'column_6']\n",
    "indices = [1,2,3,4,5,6]\n",
    "#Creating a dataframe:\n",
    "df1 = pd.DataFrame(np.random.rand(6,6), columns = columns, index = indices)"
   ]
  },
  {
   "cell_type": "code",
   "execution_count": 9,
   "id": "42ec6bf9",
   "metadata": {},
   "outputs": [
    {
     "name": "stdout",
     "output_type": "stream",
     "text": [
      "   column_1  column_2  column_3  column_4  column_5  column_6\n",
      "1  0.809107  0.432220  0.561000  0.100345  0.897505  0.567075\n",
      "2  0.446605  0.956763  0.291886  0.394156  0.705324  0.836753\n",
      "3  0.413680  0.032564  0.802636  0.045412  0.580265  0.655967\n",
      "4  0.071591  0.533478  0.275722  0.853604  0.215827  0.221398\n",
      "5  0.784817  0.029823  0.282858  0.340310  0.200417  0.056575\n",
      "6  0.850531  0.321732  0.376885  0.940598  0.538855  0.793270\n"
     ]
    }
   ],
   "source": [
    "#4.\n",
    "print(df1)"
   ]
  },
  {
   "cell_type": "code",
   "execution_count": 10,
   "id": "b3b8feef",
   "metadata": {},
   "outputs": [
    {
     "name": "stdout",
     "output_type": "stream",
     "text": [
      "column_1    0.562722\n",
      "column_2    0.384430\n",
      "column_3    0.431831\n",
      "column_4    0.445737\n",
      "column_5    0.523032\n",
      "column_6    0.521839\n",
      "dtype: float64\n"
     ]
    }
   ],
   "source": [
    "#mean of each column\n",
    "print(df1.mean())"
   ]
  },
  {
   "cell_type": "code",
   "execution_count": 11,
   "id": "8c7c84dc",
   "metadata": {},
   "outputs": [
    {
     "name": "stdout",
     "output_type": "stream",
     "text": [
      "1    0.561209\n",
      "2    0.605248\n",
      "3    0.421754\n",
      "4    0.361937\n",
      "5    0.282467\n",
      "6    0.636978\n",
      "dtype: float64\n"
     ]
    }
   ],
   "source": [
    "#mean of each row\n",
    "print(df1.mean(axis=1))"
   ]
  },
  {
   "cell_type": "code",
   "execution_count": 12,
   "id": "3b4623f5",
   "metadata": {},
   "outputs": [
    {
     "name": "stdout",
     "output_type": "stream",
     "text": [
      "<bound method NDFrame._add_numeric_operations.<locals>.std of 1    0.432220\n",
      "2    0.956763\n",
      "3    0.032564\n",
      "4    0.533478\n",
      "5    0.029823\n",
      "6    0.321732\n",
      "Name: column_2, dtype: float64>\n"
     ]
    }
   ],
   "source": [
    "print(df1['column_2'].std)"
   ]
  },
  {
   "cell_type": "code",
   "execution_count": 13,
   "id": "ad4eb4f9",
   "metadata": {},
   "outputs": [],
   "source": [
    "#5.\n",
    "df1.loc[2, 'column_2'] = 'string'"
   ]
  },
  {
   "cell_type": "code",
   "execution_count": 14,
   "id": "38f8db79",
   "metadata": {},
   "outputs": [
    {
     "name": "stdout",
     "output_type": "stream",
     "text": [
      "unsupported operand type(s) for +: 'float' and 'str'\n"
     ]
    }
   ],
   "source": [
    "try:\n",
    "    print(df1['column_2'].mean())\n",
    "except Exception as e:\n",
    "    print(e)"
   ]
  },
  {
   "cell_type": "code",
   "execution_count": 15,
   "id": "4703dfb5",
   "metadata": {},
   "outputs": [
    {
     "data": {
      "text/plain": [
       "3.75"
      ]
     },
     "execution_count": 15,
     "metadata": {},
     "output_type": "execute_result"
    }
   ],
   "source": [
    "df[\"duration\"].mean()"
   ]
  },
  {
   "cell_type": "code",
   "execution_count": 16,
   "id": "957f4277",
   "metadata": {},
   "outputs": [],
   "source": [
    "# Here we are getting error because in 2 row of column_2 there is a string which is not a number.\n",
    "# Mean function can be applied only on numbers not on strings."
   ]
  },
  {
   "cell_type": "code",
   "execution_count": 17,
   "id": "e5620f43",
   "metadata": {},
   "outputs": [],
   "source": [
    "#6.\n",
    "# A window function is a function that allows you to perform calculations on a sliding window of data in a DataFrame or a Series.\n",
    "\n",
    "# Rolling functions: The rolling function is used to apply a function to a rolling window of data.\n",
    "# The rolling function has two main parameters: window and min_periods.\n",
    "# The window parameter specifies the size of the rolling window, while the min_periods parameter specifies the minimum number of non-NA values required to compute the result.\n",
    "\n",
    "# Expanding functions: The expanding function is used to apply a function to all the values in the DataFrame or Series up to the current point.\n",
    "# The expanding function has only one parameter, which is the min_periods parameter. The min_periods parameter specifies the minimum number of non-NA values required to compute the result.\n",
    "\n",
    "# Exponential weighted functions: The exponential weighted function is used to apply a weighted function to a rolling window of data.\n",
    "# The exponential weighted function has two main parameters: span and min_periods.\n",
    "# The span parameter specifies the size of the rolling window, while the min_periods parameter specifies the minimum number of non-NA values required to compute the result.\n",
    "\n",
    "# Cumulative functions: The cumulative function is used to apply a function to all the values in the DataFrame or Series up to the current point.\n",
    "# The cumulative function has only one parameter, which is the axis parameter.\n",
    "# The axis parameter specifies the direction in which the cumulative function is applied (i.e., row-wise or column-wise).\n",
    "\n",
    "# Groupby functions: The groupby function is used to apply a function to each group in a DataFrame or Series.\n",
    "# The groupby function has only one parameter, which is the groupby parameter.\n",
    "# The groupby parameter specifies the column or columns to group by."
   ]
  },
  {
   "cell_type": "code",
   "execution_count": 18,
   "id": "5a928a51",
   "metadata": {},
   "outputs": [
    {
     "name": "stdout",
     "output_type": "stream",
     "text": [
      "4\n",
      "2023\n"
     ]
    },
    {
     "name": "stderr",
     "output_type": "stream",
     "text": [
      "C:\\Users\\iaman\\AppData\\Local\\Temp\\ipykernel_12068\\3712550983.py:2: FutureWarning: The pandas.datetime class is deprecated and will be removed from pandas in a future version. Import from datetime module instead.\n",
      "  x = pd.datetime.now()\n"
     ]
    }
   ],
   "source": [
    "#7.\n",
    "x = pd.datetime.now()\n",
    "print(x.month)\n",
    "print(x.year)"
   ]
  },
  {
   "cell_type": "code",
   "execution_count": 19,
   "id": "d56e3f26",
   "metadata": {},
   "outputs": [
    {
     "name": "stdout",
     "output_type": "stream",
     "text": [
      "Date 1 (in the format YYYY-MM-DD) :2023-12-12\n",
      "Date 2 (in the format YYYY-MM-DD) :2012-06-12\n"
     ]
    }
   ],
   "source": [
    "#8.\n",
    "d1 = input('Date 1 (in the format YYYY-MM-DD) :')\n",
    "d2 = input('Date 2 (in the format YYYY-MM-DD) :')"
   ]
  },
  {
   "cell_type": "code",
   "execution_count": 20,
   "id": "fcbab600",
   "metadata": {},
   "outputs": [
    {
     "name": "stdout",
     "output_type": "stream",
     "text": [
      "4200 Days 0 hours 0 minutes\n"
     ]
    }
   ],
   "source": [
    "d1 = pd.to_datetime(d1)\n",
    "d2 = pd.to_datetime(d2)\n",
    "d3 = d1 - d2\n",
    "print(d3.days, 'Days', d3.seconds//3600, 'hours', d3.seconds//60, 'minutes')"
   ]
  },
  {
   "cell_type": "code",
   "execution_count": 21,
   "id": "733339cb",
   "metadata": {},
   "outputs": [
    {
     "name": "stdout",
     "output_type": "stream",
     "text": [
      "Enter the path of file:./student.csv\n",
      "Enter the column name:Name\n",
      "Enter the category order, separated by commas (e.g. 'low,medium,high'):Ajay,Anurag,Aman,Abhishek,Apoorva,Anshika\n"
     ]
    }
   ],
   "source": [
    "#9.\n",
    "\n",
    "p = input('Enter the path of file:')\n",
    "c = input('Enter the column name:')\n",
    "co = input(\"Enter the category order, separated by commas (e.g. 'low,medium,high'):\").split(\",\")"
   ]
  },
  {
   "cell_type": "code",
   "execution_count": 22,
   "id": "53570563",
   "metadata": {},
   "outputs": [
    {
     "name": "stdout",
     "output_type": "stream",
     "text": [
      "       Name   Gender  Branch\n",
      "2      Ajay     Male      CE\n",
      "0    Anurag     Male     CSE\n",
      "1      Aman     Male      ME\n",
      "4  Abhishek     Male      CE\n",
      "5   Apoorva   Female      ME\n",
      "3   Anshika   Female     CSE\n"
     ]
    }
   ],
   "source": [
    "df2 = pd.read_csv(p)\n",
    "df2[c] = pd.Categorical(df2[c], categories=co, ordered=True)\n",
    "df2 = df2.sort_values(c)\n",
    "print(df2)"
   ]
  },
  {
   "cell_type": "code",
   "execution_count": 23,
   "id": "9de98807",
   "metadata": {},
   "outputs": [
    {
     "name": "stdout",
     "output_type": "stream",
     "text": [
      "Enter the filepath:./sales.csv\n"
     ]
    }
   ],
   "source": [
    "#10.\n",
    "fp = input('Enter the filepath:')\n",
    "df3 = pd.read_csv(fp)"
   ]
  },
  {
   "cell_type": "code",
   "execution_count": 24,
   "id": "6439b41d",
   "metadata": {},
   "outputs": [
    {
     "name": "stderr",
     "output_type": "stream",
     "text": [
      "C:\\Users\\iaman\\AppData\\Local\\Temp\\ipykernel_12068\\1269817748.py:2: FutureWarning: The default value of numeric_only in DataFrameGroupBy.sum is deprecated. In a future version, numeric_only will default to False. Either specify numeric_only or select only columns which should be valid for the function.\n",
      "  df3 = df3.groupby(['category', 'sales_date']).sum().reset_index()\n"
     ]
    }
   ],
   "source": [
    "df3['sales_date'] = pd.to_datetime(df3['sales_date'])\n",
    "df3 = df3.groupby(['category', 'sales_date']).sum().reset_index()\n",
    "df3 = df3.pivot(index='sales_date', columns='category', values='sales_amount')"
   ]
  },
  {
   "cell_type": "code",
   "execution_count": 25,
   "id": "5f1caa5b",
   "metadata": {},
   "outputs": [
    {
     "data": {
      "text/plain": [
       "<Axes: xlabel='sales_date'>"
      ]
     },
     "execution_count": 25,
     "metadata": {},
     "output_type": "execute_result"
    },
    {
     "data": {
      "image/png": "[encoded data removed]",
      "text/plain": [
       "<Figure size 640x480 with 1 Axes>"
      ]
     },
     "metadata": {},
     "output_type": "display_data"
    }
   ],
   "source": [
    "df3.plot(kind='bar', stacked=True)"
   ]
  },
  {
   "cell_type": "code",
   "execution_count": 26,
   "id": "476f59aa",
   "metadata": {},
   "outputs": [
    {
     "name": "stdout",
     "output_type": "stream",
     "text": [
      "Enter filepath:./student_data.csv\n"
     ]
    }
   ],
   "source": [
    "#11.\n",
    "pf = input('Enter filepath:')\n",
    "df4 = pd.read_csv(pf)\n",
    "mean = df4['Test Score'].mean()"
   ]
  },
  {
   "cell_type": "code",
   "execution_count": 27,
   "id": "0591f8ab",
   "metadata": {},
   "outputs": [],
   "source": [
    "mean = df4['Test Score'].mean()\n",
    "median = df4['Test Score'].median()\n",
    "mode = ', '.join(map(str, df4['Test Score'].mode()))"
   ]
  },
  {
   "cell_type": "code",
   "execution_count": 28,
   "id": "55ef9f96",
   "metadata": {},
   "outputs": [
    {
     "name": "stdout",
     "output_type": "stream",
     "text": [
      "  Statistic Value\n",
      "0      Mean  83.5\n",
      "1    Median  85.0\n",
      "2      Mode    85\n"
     ]
    }
   ],
   "source": [
    "table = pd.DataFrame({\n",
    "    'Statistic': ['Mean', 'Median', 'Mode'],\n",
    "    'Value': [mean, median, mode]\n",
    "})\n",
    "print(table)"
   ]
  },
  {
   "cell_type": "code",
   "execution_count": null,
   "id": "67facff4",
   "metadata": {},
   "outputs": [],
   "source": []
  }
 ],
 "metadata": {
  "kernelspec": {
   "display_name": "Python 3 (ipykernel)",
   "language": "python",
   "name": "python3"
  },
  "language_info": {
   "codemirror_mode": {
    "name": "ipython",
    "version": 3
   },
   "file_extension": ".py",
   "mimetype": "text/x-python",
   "name": "python",
   "nbconvert_exporter": "python",
   "pygments_lexer": "ipython3",
   "version": "3.11.1"
  }
 },
 "nbformat": 4,
 "nbformat_minor": 5
}
