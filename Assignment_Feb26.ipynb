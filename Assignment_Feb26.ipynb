{
 "cells": [
  {
   "cell_type": "code",
   "execution_count": 1,
   "id": "613bd275",
   "metadata": {},
   "outputs": [],
   "source": [
    "import numpy as np\n",
    "list_ = [ '1' , '2' , '3' , '4' , '5' ]\n",
    "array_list = np.array(object = list_)"
   ]
  },
  {
   "cell_type": "code",
   "execution_count": 2,
   "id": "7407fd08",
   "metadata": {},
   "outputs": [
    {
     "name": "stdout",
     "output_type": "stream",
     "text": [
      "<class 'list'>\n",
      "<class 'numpy.ndarray'>\n"
     ]
    }
   ],
   "source": [
    "#1.\n",
    "\n",
    "# list_ is a list data type.\n",
    "# A list can have elements of any data type.\n",
    "\n",
    "# array_list is of array data type.\n",
    "# An array can have elements of only single data type\n",
    "\n",
    "print(type(list_))\n",
    "print(type(array_list))"
   ]
  },
  {
   "cell_type": "code",
   "execution_count": 3,
   "id": "04a2bd3f",
   "metadata": {},
   "outputs": [
    {
     "name": "stdout",
     "output_type": "stream",
     "text": [
      "list_ :\n",
      "1 - <class 'str'>\n",
      "2 - <class 'str'>\n",
      "3 - <class 'str'>\n",
      "4 - <class 'str'>\n",
      "5 - <class 'str'>\n",
      "array_list :\n",
      "1 - <class 'numpy.str_'>\n",
      "2 - <class 'numpy.str_'>\n",
      "3 - <class 'numpy.str_'>\n",
      "4 - <class 'numpy.str_'>\n",
      "5 - <class 'numpy.str_'>\n"
     ]
    }
   ],
   "source": [
    "#2.\n",
    "\n",
    "print('list_ :')\n",
    "for i in list_:\n",
    "    print(i, '-', type(i))\n",
    "    \n",
    "print('array_list :')\n",
    "for i in array_list:\n",
    "    print(i, '-', type(i))"
   ]
  },
  {
   "cell_type": "code",
   "execution_count": 4,
   "id": "e73c478f",
   "metadata": {},
   "outputs": [
    {
     "name": "stdout",
     "output_type": "stream",
     "text": [
      "list_ :\n",
      "1 - <class 'str'>\n",
      "2 - <class 'str'>\n",
      "3 - <class 'str'>\n",
      "4 - <class 'str'>\n",
      "5 - <class 'str'>\n",
      "array_list :\n",
      "1 - <class 'numpy.int32'>\n",
      "2 - <class 'numpy.int32'>\n",
      "3 - <class 'numpy.int32'>\n",
      "4 - <class 'numpy.int32'>\n",
      "5 - <class 'numpy.int32'>\n"
     ]
    }
   ],
   "source": [
    "#3.\n",
    "\n",
    "array_list = np.array(object = list_, dtype = int)\n",
    "\n",
    "# There will be no change in the data type of elements present in the list_.\n",
    "# But there will be change in the data type of elements present in the array_list.\n",
    "# All the elements of array_list are of integer type(int32).\n",
    "\n",
    "print('list_ :')\n",
    "for i in list_:\n",
    "    print(i, '-', type(i))\n",
    "    \n",
    "print('array_list :')\n",
    "for i in array_list:\n",
    "    print(i, '-', type(i))"
   ]
  },
  {
   "cell_type": "code",
   "execution_count": 5,
   "id": "5ffcf253",
   "metadata": {},
   "outputs": [],
   "source": [
    "import numpy as np\n",
    "num_list = [ [ 1 , 2 , 3 ] , [ 4 , 5 , 6 ] ]\n",
    "num_array = np.array(object = num_list)"
   ]
  },
  {
   "cell_type": "code",
   "execution_count": 6,
   "id": "dfbcce4e",
   "metadata": {},
   "outputs": [
    {
     "name": "stdout",
     "output_type": "stream",
     "text": [
      "Shape: (2, 3)\n",
      "Size: 6\n"
     ]
    }
   ],
   "source": [
    "#4.\n",
    "print('Shape:',np.shape(num_array))\n",
    "print('Size:',np.size(num_array))"
   ]
  },
  {
   "cell_type": "code",
   "execution_count": 7,
   "id": "f0fba872",
   "metadata": {},
   "outputs": [
    {
     "name": "stdout",
     "output_type": "stream",
     "text": [
      "[[0. 0. 0.]\n",
      " [0. 0. 0.]\n",
      " [0. 0. 0.]]\n"
     ]
    }
   ],
   "source": [
    "#5.\n",
    "arr = np.zeros((3,3))\n",
    "print(arr)"
   ]
  },
  {
   "cell_type": "code",
   "execution_count": 8,
   "id": "e30160ec",
   "metadata": {},
   "outputs": [
    {
     "name": "stdout",
     "output_type": "stream",
     "text": [
      "[[1. 0. 0. 0. 0.]\n",
      " [0. 1. 0. 0. 0.]\n",
      " [0. 0. 1. 0. 0.]\n",
      " [0. 0. 0. 1. 0.]\n",
      " [0. 0. 0. 0. 1.]]\n"
     ]
    }
   ],
   "source": [
    "#6. \n",
    "arr2 = np.eye(5)\n",
    "print(arr2)"
   ]
  },
  {
   "cell_type": "code",
   "execution_count": null,
   "id": "fbb7e6bb",
   "metadata": {},
   "outputs": [],
   "source": []
  }
 ],
 "metadata": {
  "kernelspec": {
   "display_name": "Python 3 (ipykernel)",
   "language": "python",
   "name": "python3"
  },
  "language_info": {
   "codemirror_mode": {
    "name": "ipython",
    "version": 3
   },
   "file_extension": ".py",
   "mimetype": "text/x-python",
   "name": "python",
   "nbconvert_exporter": "python",
   "pygments_lexer": "ipython3",
   "version": "3.11.1"
  }
 },
 "nbformat": 4,
 "nbformat_minor": 5
}
