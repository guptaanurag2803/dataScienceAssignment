{
 "cells": [
  {
   "cell_type": "code",
   "execution_count": 1,
   "id": "b59c4730",
   "metadata": {},
   "outputs": [],
   "source": [
    "# 1.\n",
    "\n",
    "# Statistics is the science of collecting, organising and analysing data.\n",
    "# Statistics is of two types :-\n",
    "# a. Descriptive Statistics\n",
    "# b. Inferential Statistics"
   ]
  },
  {
   "cell_type": "code",
   "execution_count": 2,
   "id": "7a074931",
   "metadata": {},
   "outputs": [],
   "source": [
    "# 2.\n",
    "\n",
    "# Statistics is of two types :-\n",
    "# a. Descriptive Statistics\n",
    "# Descriptive Statistics consists of organising and summarizing the data.\n",
    "# eg. measurement of central tendency (mean, median, mode)\n",
    "\n",
    "# b. Inferential Statistics\n",
    "# Inferential Statistics consists of using data you have to measure to form conclusion.\n",
    "# eg. hypothesis testing"
   ]
  },
  {
   "cell_type": "code",
   "execution_count": 3,
   "id": "dea1bda4",
   "metadata": {},
   "outputs": [],
   "source": [
    "# 3.\n",
    "\n",
    "# There are two types of data :\n",
    "\n",
    "\n",
    "# a. Quantitative Data\n",
    "# Quantitative Data is the numerical data on which we can perform mathematical operations like addition, subtraction, etc.\n",
    "# Quantitative Data is of two types :\n",
    "\n",
    "# i. Discrete Data\n",
    "# Discrete Data is the data having whole number value.\n",
    "# eg. total number of students in a class, number of employees in a office, etc.\n",
    "\n",
    "# ii. Continuous Data\n",
    "# Continuous Data is the data having any real number value.\n",
    "# eg. height, weight, etc.\n",
    "\n",
    "\n",
    "# b. Qualitative Data\n",
    "# Qualitative Data is the data in which the data is divided in different categories.\n",
    "# Qualitative Data is of two types :\n",
    "\n",
    "# i. Nominal Data\n",
    "# Nominal data is a categorical data in which we can not assign ranking or ranking is not required.\n",
    "# eg. mobile number, gender, etc.\n",
    "\n",
    "# ii. Ordinal Data\n",
    "# Ordinal data is a categorical data in which we can assign ranking or ranking is required.\n",
    "# eg. attendance of the students, customer feedback, etc."
   ]
  },
  {
   "cell_type": "code",
   "execution_count": 4,
   "id": "c174cfc7",
   "metadata": {},
   "outputs": [],
   "source": [
    "# 4.\n",
    "\n",
    "# (i) Grading in exam: A+, A, B+, B, C+, C, D, E : Qualitative data\n",
    "# (ii) Colour of mangoes: yellow, green, orange, red : Qualitative data\n",
    "# (iii) Height data of a class: [178.9, 179, 179.5, 176, 177.2, 178.3, 175.8,...] : Quantitative data\n",
    "# (iv) Number of mangoes exported by a farm: [500, 600, 478, 672, ...] : Quantitative data"
   ]
  },
  {
   "cell_type": "code",
   "execution_count": 5,
   "id": "e2720c90",
   "metadata": {},
   "outputs": [],
   "source": [
    "#5.\n",
    "\n",
    "# Levels of measurement : \n",
    "\n",
    "\n",
    "# a. Nominal scale data :\n",
    "# This is a qualitative or categorical data.\n",
    "# Order does not matter.\n",
    "# eg. gender\n",
    "\n",
    "# b. Ordinal scale data : \n",
    "# Ranking is important in this.\n",
    "# Order also matter\n",
    "# Difference cannot be measured.\n",
    "# eg. position of racers in a race\n",
    "\n",
    "# c. Interval scale data : \n",
    "# Order matter\n",
    "# Difference can be measured.\n",
    "# Ratio can't be measured\n",
    "# No true '0' starting point\n",
    "# eg. temperature \n",
    "\n",
    "# d. Ratio scale data :\n",
    "# Order matter\n",
    "# Difference can be measured.\n",
    "# Ratio can be measured\n",
    "# True '0' starting point exists\n",
    "# eg. marks of students in a class"
   ]
  },
  {
   "cell_type": "code",
   "execution_count": 6,
   "id": "f27e0bf5",
   "metadata": {},
   "outputs": [],
   "source": [
    "# 6.\n",
    "\n",
    "# Understanding the level of measurement is crucial when analyzing data because it determines the types of statistical analyses and operations that can be applied to the data, as well as the appropriate summary statistics to be used.\n",
    "\n",
    "# eg.\n",
    "# Let's consider a research study investigating the effectiveness of different teaching methods on student performance. \n",
    "# The study collects data on various variables, including the teaching method (nominal), student grades (interval), and student satisfaction ratings (ordinal)."
   ]
  },
  {
   "cell_type": "code",
   "execution_count": 7,
   "id": "0f289a80",
   "metadata": {},
   "outputs": [],
   "source": [
    "# 7.\n",
    "\n",
    "# In nominal data type order does not matter while in ordinal data type order matter.\n",
    "# Ranking can not be given in nominal data while ranling can be given in ordinal data."
   ]
  },
  {
   "cell_type": "code",
   "execution_count": 8,
   "id": "760e2e40",
   "metadata": {},
   "outputs": [],
   "source": [
    "# 8.\n",
    "\n",
    "# A box plot can be used to display data in terms of range."
   ]
  },
  {
   "cell_type": "code",
   "execution_count": 9,
   "id": "2a17f528",
   "metadata": {},
   "outputs": [],
   "source": [
    "# 9.\n",
    "\n",
    "# Descriptive Statistics:\n",
    "# Descriptive Statistics consists of organising and summarizing the data.\n",
    "# It focuses on organizing, presenting, and analyzing data in a meaningful and concise manner.\n",
    "# eg. We can find the average height(mean) and most common height(mode) of the students of a class\n",
    "\n",
    "# Inferential Statistics:\n",
    "# Inferential Statistics consists of using data you have to measure to form conclusion.\n",
    "# Inferential statistics involves drawing conclusions, making predictions, or generalizing findings from a sample to a larger population.\n",
    "# eg. We can make predictions based on sample data for whole population like in iris dataset we predict species based on different parameters."
   ]
  },
  {
   "cell_type": "code",
   "execution_count": 10,
   "id": "c99f7894",
   "metadata": {},
   "outputs": [],
   "source": [
    "# 10. \n",
    "\n",
    "# Some common measures of central tendency:\n",
    "\n",
    "# a. Mean : \n",
    "# Mean is the average value of a dataset.\n",
    "# It gives the typical average of the dataset and can be compared with extreme value.\n",
    "\n",
    "# b. Mode :\n",
    "# Mode is the most frequently occuring value of a dataset.\n",
    "# It can be used to identify the prominent or common values.\n",
    "\n",
    "# c. Median :\n",
    "# Median is the middle value in an ordered dataset.\n",
    "# It divides the  dataset into two equal halves.\n",
    "\n",
    "\n",
    "# Some common measures of variability:\n",
    "\n",
    "# a. Variance :\n",
    "# Variance measures the average squared deviation from the mean.\n",
    "# It quantifies the spread of the data points around the mean.\n",
    "\n",
    "# b. Standard Deviation :\n",
    "# The standard deviation is the square root of the variance.\n",
    "# It provides a measure of the average distance between each data point and the mean\n",
    "\n",
    "# c. Range : \n",
    "# The range is the difference between the maximum and minimum values in a dataset.\n",
    "# It provides a simple measure of the spread or dispersion of the data."
   ]
  }
 ],
 "metadata": {
  "kernelspec": {
   "display_name": "Python 3 (ipykernel)",
   "language": "python",
   "name": "python3"
  },
  "language_info": {
   "codemirror_mode": {
    "name": "ipython",
    "version": 3
   },
   "file_extension": ".py",
   "mimetype": "text/x-python",
   "name": "python",
   "nbconvert_exporter": "python",
   "pygments_lexer": "ipython3",
   "version": "3.11.3"
  }
 },
 "nbformat": 4,
 "nbformat_minor": 5
}
