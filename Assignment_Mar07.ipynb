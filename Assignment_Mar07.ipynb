{
 "cells": [
  {
   "cell_type": "code",
   "execution_count": 1,
   "id": "6afa9ff0",
   "metadata": {},
   "outputs": [],
   "source": [
    "#1.\n",
    "\n",
    "# Three measures of central tendency are mean, mode and median"
   ]
  },
  {
   "cell_type": "code",
   "execution_count": 2,
   "id": "7a0502d9",
   "metadata": {},
   "outputs": [],
   "source": [
    "# 2.\n",
    "\n",
    "# Mean: Mean is the average of all the datapoints.\n",
    "# Mean is very sensitive to the outliers i.e. outliers can change value of mean with large difference.\n",
    "\n",
    "# Median: It is the central value of ordered datapoints.\n",
    "# Median has less effect of the outliers.\n",
    "\n",
    "# Mode: It is the most frequently occuring datapoint.\n",
    "# The mode is useful for identifying the most common or popular category or value in a dataset"
   ]
  },
  {
   "cell_type": "code",
   "execution_count": 3,
   "id": "b1e0b9e7",
   "metadata": {},
   "outputs": [
    {
     "name": "stdout",
     "output_type": "stream",
     "text": [
      "Mean 177.01875\n",
      "Median 177.0\n",
      "Mode ModeResult(mode=array([177.]), count=array([3]))\n"
     ]
    },
    {
     "name": "stderr",
     "output_type": "stream",
     "text": [
      "C:\\Users\\iaman\\AppData\\Local\\Temp\\ipykernel_9472\\2201248717.py:10: FutureWarning: Unlike other reduction functions (e.g. `skew`, `kurtosis`), the default behavior of `mode` typically preserves the axis it acts along. In SciPy 1.11.0, this behavior will change: the default value of `keepdims` will become False, the `axis` over which the statistic is taken will be eliminated, and the value None will no longer be accepted. Set `keepdims` to True or False to avoid this warning.\n",
      "  print('Mode', stats.mode(a))\n"
     ]
    }
   ],
   "source": [
    "# 3.\n",
    "\n",
    "a = [178,177,176,177,178.2,178,175,179,180,175,178.9,176.2,177,172.5,178,176.5]\n",
    "\n",
    "import numpy as np\n",
    "from scipy import stats\n",
    "\n",
    "print('Mean',np.mean(a))\n",
    "print('Median', np.median(a))\n",
    "print('Mode', stats.mode(a))"
   ]
  },
  {
   "cell_type": "code",
   "execution_count": 4,
   "id": "5d650222",
   "metadata": {},
   "outputs": [
    {
     "name": "stdout",
     "output_type": "stream",
     "text": [
      "Standard Deviation 1.7885814036548633\n"
     ]
    }
   ],
   "source": [
    "#4.\n",
    "\n",
    "a = [178,177,176,177,178.2,178,175,179,180,175,178.9,176.2,177,172.5,178,176.5]\n",
    "\n",
    "import numpy as np\n",
    "\n",
    "print('Standard Deviation', np.std(a))"
   ]
  },
  {
   "cell_type": "code",
   "execution_count": 5,
   "id": "d2e56928",
   "metadata": {},
   "outputs": [],
   "source": [
    "# 5.\n",
    "\n",
    "# Range:\n",
    "# The range is the simplest measure of dispersion and represents the difference between the maximum and minimum values in a dataset.\n",
    "# It gives an idea of the spread of values from the lowest to the highest.\n",
    "\n",
    "# Variance:\n",
    "# The variance is a measure of the average squared deviation from the mean.\n",
    "# It quantifies the spread of data points around the mean value.\n",
    "# A higher variance indicates a greater dispersion of values, while a lower variance suggests the data points are closer to the mean.\n",
    "\n",
    "# Standard Deviation:\n",
    "# The standard deviation is the square root of the variance.\n",
    "# It provides a measure of dispersion that is in the same units as the original data.\n",
    "# It represents the average amount by which data points deviate from the mean."
   ]
  },
  {
   "cell_type": "code",
   "execution_count": 6,
   "id": "1371ab8d",
   "metadata": {},
   "outputs": [],
   "source": [
    "# 6.\n",
    "\n",
    "# A Venn diagram is a visual representation that uses overlapping circles or other shapes to illustrate the relationships between different sets or groups of objects or elements.\n",
    "# The main purpose of a Venn diagram is to show the similarities, differences, and intersections between different sets or categories."
   ]
  },
  {
   "cell_type": "code",
   "execution_count": 7,
   "id": "efb2d078",
   "metadata": {},
   "outputs": [
    {
     "name": "stdout",
     "output_type": "stream",
     "text": [
      "{2, 6}\n",
      "{0, 2, 3, 4, 5, 6, 7, 8, 10}\n"
     ]
    }
   ],
   "source": [
    "# 7.\n",
    "\n",
    "A = {2,3,4,5,6,7} \n",
    "B = {0,2,6,8,10}\n",
    "\n",
    "# i. \n",
    "print(A.intersection(B))\n",
    "\n",
    "# ii.\n",
    "print(A.union(B))"
   ]
  },
  {
   "cell_type": "code",
   "execution_count": 8,
   "id": "8c0d1ee1",
   "metadata": {},
   "outputs": [],
   "source": [
    "# 8.\n",
    "\n",
    "# Skewness is a statistical measure that describes the asymmetry or lack of symmetry in a probability distribution or dataset.\n",
    "# It indicates the extent to which the data is skewed or pulled away from a symmetric distribution."
   ]
  },
  {
   "cell_type": "code",
   "execution_count": 9,
   "id": "90c8e6fc",
   "metadata": {},
   "outputs": [],
   "source": [
    "# 9.\n",
    "\n",
    "# In a right-skewed distribution, the mean is typically greater than the median.\n",
    "# The median is less affected by extreme values in the right tail and tends to be closer to the center or lower values of the dataset."
   ]
  },
  {
   "cell_type": "code",
   "execution_count": 10,
   "id": "c302c151",
   "metadata": {},
   "outputs": [],
   "source": [
    "# 10.\n",
    "\n",
    "# Covariance:\n",
    "# Covariance measures the extent to which two variables vary together. \n",
    "# It quantifies the linear relationship between two variables.\n",
    "# Covariance can take on any value, positive or negative, depending on the direction of the relationship. \n",
    "# A positive covariance indicates that the variables tend to move in the same direction, while a negative covariance indicates an inverse relationship.\n",
    "\n",
    "# Correlation:\n",
    "# Correlation also measures the strength and direction of the linear relationship between two variables.\n",
    "# Correlation coefficients range between -1 and +1.\n",
    "# A correlation coefficient of +1 indicates a perfect positive linear relationship, -1 indicates a perfect negative linear relationship, and 0 indicates no linear relationship."
   ]
  },
  {
   "cell_type": "code",
   "execution_count": 11,
   "id": "f869c666",
   "metadata": {},
   "outputs": [],
   "source": [
    "# 11.\n",
    "\n",
    "# Sample mean = (x1 + x2 + x3 + ........ + xn)/n \n",
    "# where, x1, x2, x3, ...... , xn are n datapoints\n",
    "\n",
    "# Let dataset = ( 5, 6, 8, 9)\n",
    "# Sample mean = (5 + 6 + 8 + 9)/4 = 7"
   ]
  },
  {
   "cell_type": "code",
   "execution_count": 12,
   "id": "21204f75",
   "metadata": {},
   "outputs": [],
   "source": [
    "# 12.\n",
    "\n",
    "# For a normal distribution data, mean = median = mode"
   ]
  },
  {
   "cell_type": "code",
   "execution_count": 13,
   "id": "7cba459f",
   "metadata": {},
   "outputs": [],
   "source": [
    "# 13.\n",
    "\n",
    "# Covariance measures the degree and direction of the linear relationship between variables, but its interpretation is scale-dependent and not easily comparable.\n",
    "# Correlation, on the other hand, provides a standardized measure that is independent of scale, making it easier to interpret and compare.\n",
    "# Correlation coefficients range from -1 to +1, where -1 represents a perfect negative relationship, +1 represents a perfect positive relationship, and 0 indicates no linear relationship."
   ]
  },
  {
   "cell_type": "code",
   "execution_count": 14,
   "id": "278545d8",
   "metadata": {},
   "outputs": [],
   "source": [
    "# 14.\n",
    "\n",
    "# Outliers can significantly affect measures of central tendency and dispersion, distorting the overall analysis.\n",
    "# For instance, consider a dataset representing the salaries of employees in a company: $30,000, $40,000, $50,000, $60,000, and $1,000,000.\n",
    "# The presence of the extreme outlier salary of $1,000,000 would heavily influence the mean, pulling it towards the higher end and inaccurately representing the average salary.\n",
    "# In this case, the median would be a more reliable measure of central tendency, as it is less affected by outliers.\n",
    "# However, the outlier would still impact measures of dispersion such as the range, variance, and standard deviation, leading to an overestimation of the spread of salaries within the company.\n",
    "# It highlights the importance of identifying and appropriately handling outliers for accurate statistical analysis."
   ]
  }
 ],
 "metadata": {
  "kernelspec": {
   "display_name": "Python 3 (ipykernel)",
   "language": "python",
   "name": "python3"
  },
  "language_info": {
   "codemirror_mode": {
    "name": "ipython",
    "version": 3
   },
   "file_extension": ".py",
   "mimetype": "text/x-python",
   "name": "python",
   "nbconvert_exporter": "python",
   "pygments_lexer": "ipython3",
   "version": "3.11.3"
  }
 },
 "nbformat": 4,
 "nbformat_minor": 5
}
