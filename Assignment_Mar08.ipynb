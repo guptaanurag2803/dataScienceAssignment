{
 "cells": [
  {
   "cell_type": "code",
   "execution_count": 1,
   "id": "42ceac51",
   "metadata": {},
   "outputs": [],
   "source": [
    "#1.\n",
    "\n",
    "# A probability density function describes a probability distribution for a random, continuous variable.\n",
    "# We can use a probability density function to find the chances that the value of a random variable will occur within a range of values that you specify.\n"
   ]
  },
  {
   "cell_type": "code",
   "execution_count": 2,
   "id": "238d0c7e",
   "metadata": {},
   "outputs": [],
   "source": [
    "#2.\n",
    "\n",
    "# There are three types of probability distribution function, these are :\n",
    "# Probability mass function (pmf)\n",
    "# Probability density function (pdf)\n",
    "# Cumulative distribution function (cdf)"
   ]
  },
  {
   "cell_type": "code",
   "execution_count": 3,
   "id": "8f16ca25",
   "metadata": {},
   "outputs": [],
   "source": [
    "#3.\n",
    "\n",
    "import numpy as np\n",
    "\n",
    "def pdf(x, m, s):\n",
    "    return (np.exp**(-((x - m)/s)**2)/2)/(s*(2*np.pi)**(1/2))"
   ]
  },
  {
   "cell_type": "code",
   "execution_count": 4,
   "id": "eaa39bb8",
   "metadata": {},
   "outputs": [],
   "source": [
    "#4.\n",
    "\n",
    "# Properties of Binomial Distribution:\n",
    "\n",
    "# Works on Discrete Random Variable\n",
    "# Every experiment outcome is binary.\n",
    "# These  experiments are performed for n traces\n",
    "# If n = 1, then it will be a bernoulli distribution.\n",
    "\n",
    "# eg. tossing a coin 10 times, probability of getting a red card from a deck of card with replacement"
   ]
  },
  {
   "cell_type": "code",
   "execution_count": 5,
   "id": "25d0672f",
   "metadata": {},
   "outputs": [
    {
     "data": {
      "image/png": "[encoded data removed]",
      "text/plain": [
       "<Figure size 640x480 with 1 Axes>"
      ]
     },
     "metadata": {},
     "output_type": "display_data"
    }
   ],
   "source": [
    "#5.\n",
    "\n",
    "import matplotlib.pyplot as plt\n",
    "\n",
    "sample = np.random.binomial(n = 1, p = 0.4, size = 1000)\n",
    "plt.hist(sample, edgecolor = 'black')\n",
    "plt.xlabel('Probability')\n",
    "plt.ylabel('Frequency')\n",
    "plt.title('Histogram of binomial sample')\n",
    "plt.show()"
   ]
  },
  {
   "cell_type": "code",
   "execution_count": 6,
   "id": "ca4667df",
   "metadata": {},
   "outputs": [],
   "source": [
    "#6.\n",
    "\n",
    "import numpy as np\n",
    "\n",
    "def factorial(n):\n",
    "    if (n == 1 or n ==0):\n",
    "        return 1\n",
    "    else:\n",
    "        return factorial(n-1)*n\n",
    "    \n",
    "def poission_pmf(k, m):\n",
    "    return ((exp**(-m))*(m**k))/factorial(k)    "
   ]
  },
  {
   "cell_type": "code",
   "execution_count": 7,
   "id": "b2a93817",
   "metadata": {},
   "outputs": [],
   "source": [
    "#7.\n",
    "\n",
    "# In a Binomial distribution, there is a fixed number of trials (e.g. flip a coin 3 times) and each trial has two possible outcomes: success or failure.\n",
    "# The probability of success is constant for each trial.\n",
    "\n",
    "# In a Poisson distribution, there could be any number of events that occur during a certain time interval (e.g. how many customers will arrive at a store in a given hour?).\n",
    "# The probability of an event occurring is very small."
   ]
  },
  {
   "cell_type": "code",
   "execution_count": 8,
   "id": "4b71dfdb",
   "metadata": {},
   "outputs": [
    {
     "name": "stdout",
     "output_type": "stream",
     "text": [
      "Mean = 5.051\n",
      "Variance = 5.050399\n"
     ]
    }
   ],
   "source": [
    "#8.\n",
    "\n",
    "sample = np.random.poisson(lam = 5, size = 1000)\n",
    "print('Mean =', np.mean(sample))\n",
    "print('Variance =', np.var(sample))"
   ]
  },
  {
   "cell_type": "code",
   "execution_count": 9,
   "id": "95037296",
   "metadata": {},
   "outputs": [],
   "source": [
    "#9.\n",
    "\n",
    "# For the Binomial distribution, which describes the number of successes in a fixed number of independent Bernoulli trials with the same probability of success, the mean (μ) is given by the product of the number of trials (n) and the probability of success (p).\n",
    "# The variance (σ^2) of a Binomial distribution is given by the product of n, p, and (1-p).\n",
    "# Mathematically, it can be expressed as:\n",
    "\n",
    "# μ = n * p\n",
    "# σ^2 = n * p * (1 - p)\n",
    "\n",
    "# This relationship implies that as the probability of success (p) approaches 0 or 1, the variance of the Binomial distribution decreases.\n",
    "\n",
    "# On the other hand, for the Poisson distribution, which models the number of events occurring in a fixed interval of time or space, the mean (λ) and variance (σ^2) are both equal to λ.\n",
    "# In other words:\n",
    "\n",
    "# μ = λ\n",
    "# σ^2 = λ\n",
    "\n",
    "# This characteristic of the Poisson distribution suggests that the spread of the distribution is directly proportional to the mean.\n",
    "# Therefore, as the mean increases, the variability or dispersion of the Poisson distribution also increases."
   ]
  },
  {
   "cell_type": "code",
   "execution_count": null,
   "id": "10009769",
   "metadata": {},
   "outputs": [],
   "source": []
  }
 ],
 "metadata": {
  "kernelspec": {
   "display_name": "Python 3 (ipykernel)",
   "language": "python",
   "name": "python3"
  },
  "language_info": {
   "codemirror_mode": {
    "name": "ipython",
    "version": 3
   },
   "file_extension": ".py",
   "mimetype": "text/x-python",
   "name": "python",
   "nbconvert_exporter": "python",
   "pygments_lexer": "ipython3",
   "version": "3.11.3"
  }
 },
 "nbformat": 4,
 "nbformat_minor": 5
}
