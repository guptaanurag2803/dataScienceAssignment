{
 "cells": [
  {
   "cell_type": "code",
   "execution_count": 1,
   "id": "140c6e45",
   "metadata": {},
   "outputs": [],
   "source": [
    "#1.\n",
    "\n",
    "# Probability mass function :\n",
    "# A probability mass function describes a probability distribution for a random, discrete variable.\n",
    "# eg. rolling a dice\n",
    "\n",
    "# Probability density function :\n",
    "# A probability density function describes a probability distribution for a random, continuous variable.\n",
    "# eg. height of the students in a classroom"
   ]
  },
  {
   "cell_type": "code",
   "execution_count": 3,
   "id": "9a9b0820",
   "metadata": {},
   "outputs": [],
   "source": [
    "#2.\n",
    "\n",
    "# Cumulative Distribution Function :\n",
    "# The cumulative distribution function (CDF) of a probability distribution gives the probability that a random variable takes on a value less than or equal to a given value\n",
    "# In other words, it gives the cumulative probability distribution of a random variable.\n",
    "\n",
    "# eg.Suppose we have a random variable X representing the outcome of rolling a fair six-sided die.\n",
    "# The possible outcomes are integers from 1 to 6, and each outcome has an equal probability of 1/6.\n",
    "# Then the resulting cdf will be :\n",
    "# F(1) = P(x <= 1) = 1/6\n",
    "# F(2) = P(x <= 2) = 2/6\n",
    "# F(3) = P(x <= 3) = 3/6\n",
    "# F(4) = P(x <= 4) = 4/6\n",
    "# F(5) = P(x <= 5) = 5/6\n",
    "# F(6) = P(x <= 6) = 6/6\n",
    "\n",
    "# The CDF provides a useful representation of the distribution of a random variable.\n",
    "# It allows us to analyze the likelihood of observing values below a certain threshold and enables various statistical calculations. "
   ]
  },
  {
   "cell_type": "code",
   "execution_count": 4,
   "id": "4062014f",
   "metadata": {},
   "outputs": [],
   "source": [
    "#3.\n",
    "\n",
    "# Height of the students in a class, weight of the student in a class, etc. are examples of normal distribution.\n",
    "\n",
    "# The parameters of the normal distribution relate to its shape:\n",
    "\n",
    "# Mean : \n",
    "# The mean represents the central tendency or average of the distribution.\n",
    "# It determines the location of the peak or center of the bell curve.\n",
    "# Shifting the mean to the right or left results in a corresponding shift of the entire distribution.\n",
    "\n",
    "# Standard Deviation :\n",
    "# The standard deviation measures the spread or dispersion of the distribution.\n",
    "# A smaller standard deviation implies a narrower and taller curve, while a larger standard deviation leads to a broader and flatter curve.\n",
    "\n",
    "# Variance :\n",
    "# The variance is the square of the standard deviation and provides a measure of variability.\n",
    "# A higher variance indicates greater spread of data points around the mean."
   ]
  },
  {
   "cell_type": "code",
   "execution_count": null,
   "id": "287c3164",
   "metadata": {},
   "outputs": [],
   "source": [
    "#4.\n",
    "\n",
    "# The importance of the normal distribution lies in its wide applicability across various fields.\n",
    "# It serves as a fundamental model for many natural and social phenomena, facilitating statistical analysis and inference.\n",
    "# Normal distribution assumptions enable the use of parametric statistical tests, confidence intervals, and predictive modeling.\n",
    "# Additionally, it simplifies data interpretation and comparison, allows for the estimation of probabilities and percentiles, and provides a framework for risk analysis and decision-making.\n",
    "# Its ubiquity makes it a valuable tool in fields such as finance, quality control, biometrics, and social sciences, aiding in understanding and analyzing data with a well-defined and predictable pattern.\n",
    "\n",
    "# Some real life examples:\n",
    "# Birthweight of Babies\n",
    "# Height of males\n",
    "# Shoe Sizes\n",
    "# Blood Pressure"
   ]
  },
  {
   "cell_type": "code",
   "execution_count": 5,
   "id": "675c8ffd",
   "metadata": {},
   "outputs": [],
   "source": [
    "#5.\n",
    "\n",
    "# Bernoulli Distribution:\n",
    "# This distribution is used for discrete random variable and probability mass function is used.\n",
    "# Outcomes in bernoulli distribution are binary.\n",
    "# eg. tossing a coin\n",
    "\n",
    "# Bernoulli distribution is an special case of binomial distribution.\n",
    "# When in binomial distribution, number of trials are 1 then it is called Bernoulli Distribution.\n",
    "# Binomial distribution is used when the number of trials are more than 1."
   ]
  },
  {
   "cell_type": "code",
   "execution_count": 6,
   "id": "46dcd5ed",
   "metadata": {},
   "outputs": [],
   "source": [
    "#6.\n",
    "\n",
    "# mean = 50 \n",
    "# std_deviation = 10\n",
    "\n",
    "# z-score = (x - mean)/std_deviation = (x - 50)/10\n",
    "# z-score(60) = (60 - 50)/10 = 1\n",
    "\n",
    "# Area under curve (x>60) = 1 - area under curve (x<=60) = 1 - 0.8413 = 0.1587 = 15.87%"
   ]
  },
  {
   "cell_type": "code",
   "execution_count": 7,
   "id": "9e647fa1",
   "metadata": {},
   "outputs": [],
   "source": [
    "#7.\n",
    "\n",
    "# The uniform distribution is a probability distribution where all outcomes within a given range are equally likely.\n",
    "# It is characterized by a constant probability density function (PDF) over the specified interval.\n",
    "# It provides a straightforward and simple model for situations where all outcomes are equally probable within a defined range.\n",
    "\n",
    "# eg. The uniform distribution is rolling a fair six-sided die, where each face has an equal probability of appearing.\n",
    "# In this case, the minimum value (a) is 1 and the maximum value (b) is 6.\n",
    "# The PDF is flat and equal to 1/6 within the interval [1, 6]."
   ]
  },
  {
   "cell_type": "code",
   "execution_count": 8,
   "id": "5c71dfb2",
   "metadata": {},
   "outputs": [],
   "source": [
    "#8.\n",
    "\n",
    "# The Z-score, also known as the standard score, is a measure that quantifies the number of standard deviations an individual data point or observation is away from the mean of a distribution.\n",
    "# It standardizes data, allowing for comparisons and analysis across different distributions.\n",
    "\n",
    "# The formula for calculating the Z-score is:\n",
    "# Z = (X - μ) / σ\n",
    "\n",
    "# The importance of the Z-score lies in its ability to standardize data, enabling comparisons, identification of outliers, and analysis of probabilities and percentiles in relation to the mean.\n",
    "# It is a fundamental tool for statistical inference, hypothesis testing, and assessing the relative position of data points."
   ]
  },
  {
   "cell_type": "code",
   "execution_count": 9,
   "id": "1cfa7542",
   "metadata": {},
   "outputs": [],
   "source": [
    "#9.\n",
    "\n",
    "# The Central Limit Theorem (CLT) states that when independent random variables are summed or averaged, regardless of their underlying distribution, the resulting distribution tends to approximate a normal distribution as the sample size increases.\n",
    "# The CLT is of immense significance in statistics and data analysis.\n",
    "# It allows us to make reliable inferences about a population based on a sample, as the sample mean converges to the population mean and the sample distribution becomes approximately normal.\n",
    "# The CLT forms the foundation for many statistical techniques, hypothesis testing, confidence intervals, and enables the use of parametric statistical methods in a wide range of applications, even when the underlying data may not be normally distributed."
   ]
  },
  {
   "cell_type": "code",
   "execution_count": 10,
   "id": "0727f7ac",
   "metadata": {},
   "outputs": [],
   "source": [
    "#10.\n",
    "\n",
    "# The Central Limit Theorem (CLT) relies on a few assumptions:\n",
    "\n",
    "# Independence: The random variables being combined or averaged should be independent of each other.\n",
    "# Finite Variance: The random variables should have a finite variance, ensuring that the sample mean is well-defined.\n",
    "# Sample Size: As the sample size increases, the CLT becomes more applicable, leading to a better approximation of the normal distribution.\n",
    "\n",
    "# While violations of these assumptions may affect the accuracy of the approximation, the CLT remains robust and often still provides useful results even in cases where the assumptions are not strictly met."
   ]
  }
 ],
 "metadata": {
  "kernelspec": {
   "display_name": "Python 3 (ipykernel)",
   "language": "python",
   "name": "python3"
  },
  "language_info": {
   "codemirror_mode": {
    "name": "ipython",
    "version": 3
   },
   "file_extension": ".py",
   "mimetype": "text/x-python",
   "name": "python",
   "nbconvert_exporter": "python",
   "pygments_lexer": "ipython3",
   "version": "3.11.3"
  }
 },
 "nbformat": 4,
 "nbformat_minor": 5
}
