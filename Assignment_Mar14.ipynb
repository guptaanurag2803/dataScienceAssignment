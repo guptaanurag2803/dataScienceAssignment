{
 "cells": [
  {
   "cell_type": "code",
   "execution_count": 1,
   "id": "8e94c181",
   "metadata": {},
   "outputs": [],
   "source": [
    "#1.\n",
    "\n",
    "import numpy as np\n",
    "import scipy.stats as stat\n",
    "\n",
    "def f_test(a, b):\n",
    "    f_value = var(np.a)/var(np.b)\n",
    "    \n",
    "    df1 = len(a) - 1\n",
    "    df2 = len(b) - 1\n",
    "    \n",
    "    p_value = stat.f.sf(f_value, df1, df2)\n",
    "    \n",
    "    return f_value, p_value"
   ]
  },
  {
   "cell_type": "code",
   "execution_count": 2,
   "id": "5949255d",
   "metadata": {},
   "outputs": [],
   "source": [
    "#2.\n",
    "\n",
    "import scipy.stats as stat\n",
    "\n",
    "def f_critical(dfn, dfd):\n",
    "    significance_value = 0.05\n",
    "    critical_value = stat.f.ppf(significance_value, dfn, dfd)\n",
    "    return critical_value"
   ]
  },
  {
   "cell_type": "code",
   "execution_count": 3,
   "id": "945314df",
   "metadata": {},
   "outputs": [
    {
     "name": "stdout",
     "output_type": "stream",
     "text": [
      "F-value: 0.9068542633718678\n",
      "Degrees of Freedom (numerator): 99\n",
      "Degrees of Freedom (denominator): 99\n",
      "p-value: 0.686195180050343\n"
     ]
    }
   ],
   "source": [
    "#3.\n",
    "\n",
    "import numpy as np\n",
    "import scipy.stats as stat\n",
    "\n",
    "def perform_f_test(mean1, variance1, size1, mean2, variance2, size2):\n",
    "    sample1 = np.random.normal(loc=mean1, scale=np.sqrt(variance1), size=size1)\n",
    "    sample2 = np.random.normal(loc=mean2, scale=np.sqrt(variance2), size=size2)\n",
    "    \n",
    "    var1 = np.var(sample1, ddof=1)\n",
    "    var2 = np.var(sample2, ddof=1)\n",
    "\n",
    "    dfn = len(sample1) - 1\n",
    "    dfd = len(sample2) - 1\n",
    "\n",
    "    f_value = var1 / var2\n",
    "\n",
    "    p_value = stat.f.sf(f_value, dfn, dfd)\n",
    "\n",
    "    return f_value, dfn, dfd, p_value\n",
    "\n",
    "np.random.seed(42)\n",
    "mean1 = 0\n",
    "variance1 = 1\n",
    "size1 = 100\n",
    "mean2 = 0\n",
    "variance2 = 1\n",
    "size2 = 100\n",
    "\n",
    "f_value, dfn, dfd, p_value = perform_f_test(mean1, variance1, size1, mean2, variance2, size2)\n",
    "\n",
    "print(\"F-value:\", f_value)\n",
    "print(\"Degrees of Freedom (numerator):\", dfn)\n",
    "print(\"Degrees of Freedom (denominator):\", dfd)\n",
    "print(\"p-value:\", p_value)"
   ]
  },
  {
   "cell_type": "code",
   "execution_count": 4,
   "id": "0235c0fd",
   "metadata": {},
   "outputs": [
    {
     "name": "stdout",
     "output_type": "stream",
     "text": [
      "The variances are significantly different.\n"
     ]
    }
   ],
   "source": [
    "#4.\n",
    "\n",
    "import scipy.stats as stat\n",
    "\n",
    "variance1 = 10\n",
    "variance2 = 15\n",
    "\n",
    "sample_size = 12\n",
    "\n",
    "sample1 = np.random.normal(loc=0, scale=np.sqrt(variance1), size=sample_size)\n",
    "sample2 = np.random.normal(loc=0, scale=np.sqrt(variance2), size=sample_size)\n",
    "\n",
    "var1 = np.var(sample1)\n",
    "var2 = np.var(sample2)\n",
    "\n",
    "f_test = var1 / var2\n",
    "\n",
    "dfn = sample_size - 1\n",
    "dfd = sample_size - 1\n",
    "\n",
    "significance_value = 0.05\n",
    "\n",
    "critical_value = stat.f.ppf(significance_value, dfn, dfd)\n",
    "\n",
    "if critical_value < f_test:\n",
    "    print(\"The variances are significantly different.\")\n",
    "else:\n",
    "    print(\"The variances are not significantly different.\")"
   ]
  },
  {
   "cell_type": "code",
   "execution_count": 5,
   "id": "14a07734",
   "metadata": {},
   "outputs": [
    {
     "name": "stdout",
     "output_type": "stream",
     "text": [
      "The claimed variance is justified.\n"
     ]
    }
   ],
   "source": [
    "#5.\n",
    "\n",
    "import scipy.stats as stats\n",
    "\n",
    "claimed_variance = 0.005\n",
    "sample_variance = 0.006\n",
    "\n",
    "sample_size = 25\n",
    "\n",
    "f_statistic = sample_variance / claimed_variance\n",
    "\n",
    "df1 = sample_size - 1\n",
    "df2 = sample_size - 1\n",
    "\n",
    "p_value = 1 - stats.f.cdf(f_statistic, df1, df2)\n",
    "\n",
    "alpha = 0.01\n",
    "\n",
    "if p_value < alpha:\n",
    "    print(\"The claimed variance is not justified.\")\n",
    "else:\n",
    "    print(\"The claimed variance is justified.\")\n"
   ]
  },
  {
   "cell_type": "code",
   "execution_count": 6,
   "id": "8f702fdc",
   "metadata": {},
   "outputs": [
    {
     "name": "stdout",
     "output_type": "stream",
     "text": [
      "Mean: 1.25\n",
      "Variance: 0.7291666666666666\n"
     ]
    }
   ],
   "source": [
    "#6.\n",
    "\n",
    "def calculate_f_distribution_stats(df1, df2):\n",
    "    mean = df2 / (df2 - 2)\n",
    "    variance = (2 * df2**2 * (df1 + df2 - 2)) / (df1 * (df2 - 2)**2 * (df2 - 4))\n",
    "    return mean, variance\n",
    "\n",
    "numerator_df = 20\n",
    "denominator_df = 10\n",
    "\n",
    "mean, variance = calculate_f_distribution_stats(numerator_df, denominator_df)\n",
    "print(\"Mean:\", mean)\n",
    "print(\"Variance:\", variance)"
   ]
  },
  {
   "cell_type": "code",
   "execution_count": 7,
   "id": "db20a442",
   "metadata": {},
   "outputs": [
    {
     "name": "stdout",
     "output_type": "stream",
     "text": [
      "The variances are not significantly different.\n"
     ]
    }
   ],
   "source": [
    "#7.\n",
    "\n",
    "import scipy.stats as stats\n",
    "\n",
    "sample_variance1 = 25\n",
    "sample_variance2 = 20\n",
    "\n",
    "sample_size1 = 10\n",
    "sample_size2 = 15\n",
    "\n",
    "f_statistic = sample_variance1 / sample_variance2\n",
    "\n",
    "df1 = sample_size1 - 1\n",
    "df2 = sample_size2 - 1\n",
    "\n",
    "p_value = 2 * min(stats.f.cdf(f_statistic, df1, df2), 1 - stats.f.cdf(f_statistic, df1, df2))\n",
    "\n",
    "alpha = 0.10\n",
    "\n",
    "if p_value < alpha:\n",
    "    print(\"The variances are significantly different.\")\n",
    "else:\n",
    "    print(\"The variances are not significantly different.\")"
   ]
  },
  {
   "cell_type": "code",
   "execution_count": 8,
   "id": "26923c6a",
   "metadata": {},
   "outputs": [
    {
     "name": "stdout",
     "output_type": "stream",
     "text": [
      "The variances are not significantly different.\n"
     ]
    }
   ],
   "source": [
    "#8.\n",
    "\n",
    "import scipy.stats as stats\n",
    "\n",
    "restaurant_a = [24, 25, 28, 23, 22, 20, 27]\n",
    "restaurant_b = [31, 33, 35, 30, 32, 36]\n",
    "\n",
    "variance_a = stats.variation(restaurant_a, ddof=1)**2\n",
    "variance_b = stats.variation(restaurant_b, ddof=1)**2\n",
    "\n",
    "sample_size_a = len(restaurant_a)\n",
    "sample_size_b = len(restaurant_b)\n",
    "\n",
    "f_statistic = variance_a / variance_b\n",
    "\n",
    "df1 = sample_size_a - 1\n",
    "df2 = sample_size_b - 1\n",
    "\n",
    "p_value = 2 * min(stats.f.cdf(f_statistic, df1, df2), 1 - stats.f.cdf(f_statistic, df1, df2))\n",
    "\n",
    "alpha = 0.05\n",
    "\n",
    "if p_value < alpha:\n",
    "    print(\"The variances are significantly different.\")\n",
    "else:\n",
    "    print(\"The variances are not significantly different.\")"
   ]
  },
  {
   "cell_type": "code",
   "execution_count": 9,
   "id": "138192d2",
   "metadata": {},
   "outputs": [
    {
     "name": "stdout",
     "output_type": "stream",
     "text": [
      "The variances are not significantly different.\n"
     ]
    }
   ],
   "source": [
    "import scipy.stats as stats\n",
    "\n",
    "restaurant_a = [80, 85, 90, 92, 87, 83]\n",
    "restaurant_b = [75, 78, 82, 79, 81, 84.]\n",
    "\n",
    "variance_a = stats.variation(restaurant_a, ddof=1)**2\n",
    "variance_b = stats.variation(restaurant_b, ddof=1)**2\n",
    "\n",
    "sample_size_a = len(restaurant_a)\n",
    "sample_size_b = len(restaurant_b)\n",
    "\n",
    "f_statistic = variance_a / variance_b\n",
    "\n",
    "df1 = sample_size_a - 1\n",
    "df2 = sample_size_b - 1\n",
    "\n",
    "p_value = 2 * min(stats.f.cdf(f_statistic, df1, df2), 1 - stats.f.cdf(f_statistic, df1, df2))\n",
    "\n",
    "alpha = 0.01\n",
    "\n",
    "if p_value < alpha:\n",
    "    print(\"The variances are significantly different.\")\n",
    "else:\n",
    "    print(\"The variances are not significantly different.\")"
   ]
  }
 ],
 "metadata": {
  "kernelspec": {
   "display_name": "Python 3 (ipykernel)",
   "language": "python",
   "name": "python3"
  },
  "language_info": {
   "codemirror_mode": {
    "name": "ipython",
    "version": 3
   },
   "file_extension": ".py",
   "mimetype": "text/x-python",
   "name": "python",
   "nbconvert_exporter": "python",
   "pygments_lexer": "ipython3",
   "version": "3.11.4"
  }
 },
 "nbformat": 4,
 "nbformat_minor": 5
}
