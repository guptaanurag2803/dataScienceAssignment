{
 "cells": [
  {
   "cell_type": "code",
   "execution_count": null,
   "id": "9aae4b8b",
   "metadata": {},
   "outputs": [],
   "source": [
    "#1.\n",
    "\n",
    "# Min-Max scaling is a data normalization technique used in data preprocessing.\n",
    "# It rescales the data to a specified range, typically between 0 and 1 or -1 and 1.\n",
    "# It is achieved by subtracting the minimum value and dividing by the range of the data.\n",
    "\n",
    "# Formula can be given as:\n",
    "# (value - min_value)/(max_value - min_value)\n",
    "\n",
    "# where,\n",
    "# value = value which is to be normalized\n",
    "# min_value = minimum value of the feature\n",
    "# max_value = maximum value of the feature\n",
    "\n",
    "# For example, consider a dataset with features such as age (ranging from 20 to 60) and income (ranging from 20,000 to 100,000).\n",
    "# By applying Min-Max scaling, both features can be transformed to a common range (e.g., 0 to 1).\n",
    "# This scaling ensures that features with larger numeric ranges do not dominate the learning process.\n",
    "# Consequently, the scaled data can improve the performance of machine learning algorithms that are sensitive to the scale of the input data."
   ]
  },
  {
   "cell_type": "code",
   "execution_count": 16,
   "id": "448c0638",
   "metadata": {},
   "outputs": [],
   "source": [
    "#2.\n",
    "\n",
    "# The Unit Vector technique, or vector normalization, is a feature scaling method that scales data to have a unit norm or length of 1.\n",
    "# It involves dividing each data point by the Euclidean norm of the feature vector.\n",
    "# This ensures all vectors have the same scale and direction.\n",
    "# Unlike Min-Max scaling, which transforms data to a specific range, Unit Vector scaling emphasizes the relative importance of each feature rather than the absolute values.\n",
    "\n",
    "# For example, in a dataset with features like age, income, and education level.\n",
    "# Unit Vector scaling would normalize each feature vector to a unit length, making them comparable in terms of their direction and magnitude."
   ]
  },
  {
   "cell_type": "code",
   "execution_count": null,
   "id": "ab7ae854",
   "metadata": {},
   "outputs": [],
   "source": [
    "#3.\n",
    "\n",
    "# Principal Component Analysis, is a dimensionality reduction technique used to transform high-dimensional data into a lower-dimensional space while retaining the most important information.\n",
    "# It identifies the principal components, which are new orthogonal axes that capture the maximum variance in the data.\n",
    "# These components are ordered by their significance, and the lower-dimensional representation can be achieved by selecting the top components.\n",
    "\n",
    "# For example, given a dataset with multiple correlated features such as age, income, and education level.\n",
    "# PCA can be used to extract the most influential components that explain the majority of the variance in the data, reducing the dimensionality while preserving the most informative aspects."
   ]
  },
  {
   "cell_type": "code",
   "execution_count": null,
   "id": "c38795f3",
   "metadata": {},
   "outputs": [],
   "source": [
    "#4.\n",
    "\n",
    "# PCA plays a significant role in feature extraction.\n",
    "# It can be used as a feature extraction technique to transform high-dimensional data into a lower-dimensional representation by identifying the most important features.\n",
    "# By selecting the top principal components, which capture the maximum variance in the data, PCA effectively extracts the most informative features from the original dataset.\n",
    "# This reduced feature set can then be used for various tasks such as classification or clustering.\n",
    "\n",
    "# For example, in face recognition, PCA can extract key facial features from images, representing them with a lower-dimensional set of principal components.\n",
    "# Principal components which can be used for subsequent analysis or classification tasks."
   ]
  },
  {
   "cell_type": "code",
   "execution_count": null,
   "id": "9cee5233",
   "metadata": {},
   "outputs": [],
   "source": [
    "#5.\n",
    "\n",
    "# To preprocess the data for building a recommendation system, Min-Max scaling can be used on the features of price, rating, and delivery time.\n",
    "# By applying Min-Max scaling, each feature's values will be transformed to a common range, typically between 0 and 1.\n",
    "# This ensures that all features are on the same scale, preventing one feature from dominating the others.\n",
    "# It allows for fair comparisons and enables the recommendation system to consider the relative importance of each feature when making recommendations.\n",
    "\n",
    "# For example, a high price would not outweigh other important factors like rating and delivery time, resulting in a more balanced and effective recommendation system."
   ]
  },
  {
   "cell_type": "code",
   "execution_count": 18,
   "id": "3f4995bd",
   "metadata": {},
   "outputs": [],
   "source": [
    "#6.\n",
    "\n",
    "# To reduce the dimensionality of the dataset for predicting stock prices, PCA can be applied.\n",
    "# Then, PCA is used to extract the most significant components that capture the maximum variance in the data.\n",
    "# By selecting a lower number of principal components, the dimensionality is reduced while retaining the most informative aspects of the data.\n",
    "# This helps in reducing noise and redundancy, improving computational efficiency, and mitigating the curse of dimensionality.\n",
    "# It ultimately aiding in building a more efficient and accurate stock price prediction model."
   ]
  },
  {
   "cell_type": "code",
   "execution_count": 17,
   "id": "4e821c26",
   "metadata": {},
   "outputs": [
    {
     "data": {
      "text/plain": [
       "array([[-1.        ],\n",
       "       [-0.57894737],\n",
       "       [-0.05263158],\n",
       "       [ 0.47368421],\n",
       "       [ 1.        ]])"
      ]
     },
     "execution_count": 17,
     "metadata": {},
     "output_type": "execute_result"
    }
   ],
   "source": [
    "#7.\n",
    "\n",
    "from sklearn.preprocessing import MinMaxScaler\n",
    "\n",
    "data = [[1], [5], [10], [15], [20]]\n",
    "\n",
    "min_max = MinMaxScaler(feature_range = (-1, 1))\n",
    "min_max.fit_transform(data)"
   ]
  },
  {
   "cell_type": "code",
   "execution_count": null,
   "id": "7a932f63",
   "metadata": {},
   "outputs": [],
   "source": [
    "#8.\n",
    "\n",
    "# "
   ]
  }
 ],
 "metadata": {
  "kernelspec": {
   "display_name": "Python 3 (ipykernel)",
   "language": "python",
   "name": "python3"
  },
  "language_info": {
   "codemirror_mode": {
    "name": "ipython",
    "version": 3
   },
   "file_extension": ".py",
   "mimetype": "text/x-python",
   "name": "python",
   "nbconvert_exporter": "python",
   "pygments_lexer": "ipython3",
   "version": "3.11.4"
  }
 },
 "nbformat": 4,
 "nbformat_minor": 5
}
