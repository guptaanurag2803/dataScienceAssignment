{
 "cells": [
  {
   "cell_type": "code",
   "execution_count": 1,
   "id": "1c11cb15",
   "metadata": {},
   "outputs": [],
   "source": [
    "#1.\n",
    "\n",
    "# Ordinal Encoding:\n",
    "# Ordinal encoding assigns numeric codes to categories based on their order or ranking.\n",
    "# It preserves the ordinal relationship between the categories.\n",
    "# For example, in a variable \"Size\" with categories \"Small,\" \"Medium,\" and \"Large,\" ordinal encoding may assign values 1, 2, and 3, respectively.\n",
    "\n",
    "# Label Encoding:\n",
    "# Label encoding assigns unique numeric codes to each category without considering any order or ranking.\n",
    "# It does not preserve the ordinal relationship between the categories.\n",
    "# For example, in a variable \"Color\" with categories \"Red,\" \"Green,\" and \"Blue,\" label encoding may assign values 1, 2, and 3, respectively."
   ]
  },
  {
   "cell_type": "code",
   "execution_count": 2,
   "id": "b3cad804",
   "metadata": {},
   "outputs": [],
   "source": [
    "#2.\n",
    "\n",
    "# Target Guided Ordinal Encoding is a technique used to encode categorical variables based on their relationship with the target variable in a supervised machine learning project.\n",
    "\n",
    "# The process involves the following steps:\n",
    "# a. Calculate the mean or median of the target variable for each category.\n",
    "# b. Order the categories based on their target variable means or medians.\n",
    "# c. Assign ordinal codes to the categories based on their order.\n",
    "\n",
    "# For example, in a customer churn prediction project, we can use Target Guided Ordinal Encoding to encode the \"Region\" feature.\n",
    "# By calculating the churn rate (target variable) for each region and ordering the regions based on their churn rates, we can assign ordinal codes that reflect the likelihood of churn. \n",
    "# This encoding method captures the relationship between the categorical variable and the target variable, potentially improving the predictive power of the model when there is a correlation between the categorical feature and the target variable."
   ]
  },
  {
   "cell_type": "code",
   "execution_count": 3,
   "id": "3326cc38",
   "metadata": {},
   "outputs": [],
   "source": [
    "#3.\n",
    "\n",
    "# Covariance is a statistical measure that quantifies the relationship between two variables.\n",
    "# It indicates the degree to which changes in one variable correspond to changes in another variable. \n",
    "\n",
    "# Covariance is important in statistical analysis as it helps identify the direction (positive or negative) and strength of the relationship between variables.\n",
    "# It is used to understand the dependency and co-movements, detect patterns, and assess the linear association.\n",
    "\n",
    "# Covariance is calculated by taking the average of the product of the differences between each variable's value and their respective means.\n",
    "# The formula for covariance is:\n",
    "# Cov(X, Y) = Σ[(Xᵢ - μₓ)(Yᵢ - μᵧ)] / n\n",
    "# where X and Y are variables, μₓ and μᵧ are their respective means, and n is the number of data points."
   ]
  },
  {
   "cell_type": "code",
   "execution_count": 19,
   "id": "5ea0eb32",
   "metadata": {},
   "outputs": [
    {
     "name": "stdout",
     "output_type": "stream",
     "text": [
      "Encoded Color: [2 1 0]\n",
      "Encoded Size: [2 1 0]\n",
      "Encoded Material: [2 0 1]\n"
     ]
    }
   ],
   "source": [
    "#4.\n",
    "\n",
    "from sklearn.preprocessing import LabelEncoder\n",
    "\n",
    "Color = ['red', 'green', 'blue']\n",
    "Size = ['small', 'medium', 'large']\n",
    "Material = ['wood', 'metal', 'plastic']\n",
    "\n",
    "encoder = LabelEncoder()\n",
    "encoded_color = encoder.fit_transform(Color)\n",
    "encoded_size = encoder.fit_transform(Size)\n",
    "encoded_material = encoder.fit_transform(Material)\n",
    "\n",
    "print(\"Encoded Color:\", encoded_color)\n",
    "print(\"Encoded Size:\", encoded_size)\n",
    "print(\"Encoded Material:\", encoded_material)\n",
    "\n",
    "# In label encoding, each unique category is assigned a numeric label.\n",
    "# The label is assigned based on alphabetical order.\n",
    "# The fit_transform method of the LabelEncoder is used to fit the label encoder to the data and transform the categories into encoded labels.\n",
    "# The output shows the encoded labels for each categorical variable.\n",
    "# In this case, 'red', 'green', and 'blue' are encoded as 2, 1, and 0 respectively for Color.\n",
    "# In this case, 'small', 'medium', and 'large' are encoded as 2, 1, and 0 respectively for Size.\n",
    "# While 'wood', 'metal', and 'plastic' are encoded as 2, 1, and 0 respectively for the Material variable."
   ]
  },
  {
   "cell_type": "code",
   "execution_count": 21,
   "id": "6525c06c",
   "metadata": {},
   "outputs": [
    {
     "name": "stdout",
     "output_type": "stream",
     "text": [
      "[[4.63e+01 6.50e+04 1.95e+01]\n",
      " [6.50e+04 1.25e+08 3.50e+04]\n",
      " [1.95e+01 3.50e+04 1.00e+01]]\n"
     ]
    }
   ],
   "source": [
    "#7.\n",
    "\n",
    "# Taking example to calculate covariance\n",
    "\n",
    "import numpy as np\n",
    "\n",
    "age = np.array([32, 45, 28, 37, 41])\n",
    "income = np.array([50000, 60000, 40000, 55000, 70000])\n",
    "education_level = np.array([12, 16, 10, 14, 18])\n",
    "\n",
    "cov_matrix = np.cov([age, income, education_level])\n",
    "\n",
    "print(cov_matrix)\n",
    "\n",
    "\n",
    "# Interpreting the results:\n",
    "\n",
    "# The covariance between Age and Income is approximately 1.4e+04, indicating a positive relationship between the two variables.\n",
    "# As Age increases, Income tends to increase as well.\n",
    "\n",
    "# The covariance between Age and Education level is approximately 3.5, suggesting a weak positive relationship.\n",
    "\n",
    "# The covariance between Income and Education level is approximately 3.5e+04, indicating a positive relationship between the two variables."
   ]
  },
  {
   "cell_type": "code",
   "execution_count": 20,
   "id": "3a16486c",
   "metadata": {},
   "outputs": [],
   "source": [
    "#6.\n",
    "\n",
    "# For the given categorical variables in your machine learning project, I would recommend the following encoding methods:\n",
    "\n",
    "# Gender (Binary Categorical):\n",
    "# Since gender has only two categories (Male and Female), binary encoding can be used.\n",
    "# Assigning 0 to one category and 1 to the other allows the model to capture the gender information effectively.\n",
    "\n",
    "# Education Level (Ordinal Categorical):\n",
    "# Education level has multiple categories with a clear order (High School < Bachelor's < Master's < PhD).\n",
    "# Therefore, ordinal encoding is suitable.\n",
    "# Assigning numerical labels (e.g., 0, 1, 2, 3) to represent the increasing order of education levels preserves the inherent ordinal relationship.\n",
    "\n",
    "# Employment Status (Nominal Categorical):\n",
    "# Employment status has multiple categories with no inherent order. \n",
    "# For this type of variable, one-hot encoding is appropriate.\n",
    "# Creating separate binary variables for each category (e.g., Unemployed, Part-Time, Full-Time) allows the model to understand and analyze the different employment statuses without introducing any artificial ordering."
   ]
  },
  {
   "cell_type": "code",
   "execution_count": null,
   "id": "bef7e14d",
   "metadata": {},
   "outputs": [],
   "source": [
    "#7.\n",
    "\n",
    "# Taking example to calculate covariance:\n",
    "\n",
    "import numpy as np\n",
    "\n",
    "# Define the variables\n",
    "temperature = np.array([25, 28, 22, 24, 27])\n",
    "humidity = np.array([60, 65, 70, 62, 68])\n",
    "\n",
    "# Calculate the covariance\n",
    "covariance = np.cov(temperature, humidity)[0][1]\n",
    "\n",
    "# Print the covariance\n",
    "print(\"Covariance between Temperature and Humidity:\", covariance)\n",
    "\n",
    "\n",
    "Interpreting the results:\n",
    "The covariance between Temperature and Humidity is 4.7. Since the covariance is positive, it indicates a positive relationship between the two variables. This means that as Temperature increases, Humidity tends to increase as well, and vice versa. The magnitude of the covariance (4.7) represents the strength of the relationship, with larger values indicating a stronger association.\n",
    "\n",
    "It's important to note that covariance is sensitive to the scale of the variables, and the magnitude alone doesn't provide the complete picture of the relationship. Additionally, for categorical variables like Weather Condition and Wind Direction, calculating covariance is not meaningful since they don't have a natural numerical scale. In such cases, other statistical measures or techniques specific to categorical variables should be used for analysis."
   ]
  }
 ],
 "metadata": {
  "kernelspec": {
   "display_name": "Python 3 (ipykernel)",
   "language": "python",
   "name": "python3"
  },
  "language_info": {
   "codemirror_mode": {
    "name": "ipython",
    "version": 3
   },
   "file_extension": ".py",
   "mimetype": "text/x-python",
   "name": "python",
   "nbconvert_exporter": "python",
   "pygments_lexer": "ipython3",
   "version": "3.11.4"
  }
 },
 "nbformat": 4,
 "nbformat_minor": 5
}
