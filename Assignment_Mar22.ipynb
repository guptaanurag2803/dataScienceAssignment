{
 "cells": [
  {
   "cell_type": "code",
   "execution_count": 1,
   "id": "5d741406",
   "metadata": {},
   "outputs": [
    {
     "name": "stdout",
     "output_type": "stream",
     "text": [
      "           Time     Score\n",
      "Time   1.000000  0.810201\n",
      "Score  0.810201  1.000000\n"
     ]
    }
   ],
   "source": [
    "#1.\n",
    "\n",
    "import pandas as pd\n",
    "\n",
    "d = {\n",
    "    'Time' : [100, 120, 112, 125, 99, 106],\n",
    "    'Score' : [83, 85, 88, 97, 77, 87]\n",
    "}\n",
    "\n",
    "df = pd.DataFrame(data = d)\n",
    "\n",
    "corr = df.corr(method=\"pearson\")\n",
    "print(corr)\n",
    "\n",
    "# Interpreting the result:\n",
    "\n",
    "# The Pearson correlation coefficient (r) will be a value between -1 and 1.\n",
    "# If r is close to 1, it indicates a strong positive linear relationship between the time spent studying and the exam scores. As the time spent studying increases, the exam scores tend to increase as well.\n",
    "# If r is close to -1, it indicates a strong negative linear relationship. In this case, as the time spent studying increases, the exam scores tend to decrease.\n",
    "# If r is close to 0, it suggests a weak or no linear relationship between the two variables. The time spent studying does not have a significant impact on the exam scores."
   ]
  },
  {
   "cell_type": "code",
   "execution_count": 2,
   "id": "79b20bc7",
   "metadata": {},
   "outputs": [
    {
     "name": "stdout",
     "output_type": "stream",
     "text": [
      "                    sleep_time  satisfaction_level\n",
      "sleep_time             1.00000             0.60876\n",
      "satisfaction_level     0.60876             1.00000\n"
     ]
    }
   ],
   "source": [
    "#2.\n",
    "\n",
    "import pandas as pd\n",
    "\n",
    "d = {\n",
    "    'sleep_time' : [8, 7.5, 7, 7, 9, 10],\n",
    "    'satisfaction_level' : [7, 2, 4, 8, 10, 9]\n",
    "}\n",
    "\n",
    "df = pd.DataFrame(data = d)\n",
    "\n",
    "corr = df.corr(method=\"spearman\")\n",
    "print(corr)\n",
    "\n",
    "#  The interpretation of the result is as follows:\n",
    "\n",
    "# The Spearman's rank correlation coefficient (ρ) will be a value between -1 and 1.\n",
    "# If ρ is close to 1, it indicates a strong positive monotonic relationship between the amount of sleep and job satisfaction. This means that as the amount of sleep individuals get increases, their job satisfaction tends to increase as well (monotonically).\n",
    "# If ρ is close to -1, it indicates a strong negative monotonic relationship. In this case, as the amount of sleep increases, job satisfaction tends to decrease monotonically.\n",
    "# If ρ is close to 0, it suggests a weak or no monotonic relationship between the two variables. The amount of sleep does not have a significant impact on job satisfaction."
   ]
  },
  {
   "cell_type": "code",
   "execution_count": 8,
   "id": "b8321f71",
   "metadata": {},
   "outputs": [
    {
     "name": "stdout",
     "output_type": "stream",
     "text": [
      "Spearman :\n",
      "                 exercise_hours       bmi\n",
      "exercise_hours        1.000000  0.121556\n",
      "bmi                   0.121556  1.000000 \n",
      "\n",
      "\n",
      "Pearson :\n",
      "                 exercise_hours       bmi\n",
      "exercise_hours        1.000000  0.129771\n",
      "bmi                   0.129771  1.000000\n"
     ]
    }
   ],
   "source": [
    "#3.\n",
    "\n",
    "import pandas as pd\n",
    "import random\n",
    "\n",
    "random.seed(42)\n",
    "exercise_hours = [random.randint(1, 5) for i in range(50)]\n",
    "bmi = [random.uniform(18, 40) for i in range(50)]\n",
    "\n",
    "df = pd.DataFrame(data = {\n",
    "    'exercise_hours' : exercise_hours,\n",
    "    'bmi' : bmi\n",
    "})\n",
    "\n",
    "scorr = df.corr(method=\"spearman\")\n",
    "print('Spearman :\\n', scorr, '\\n\\n')\n",
    "\n",
    "pcorr = df.corr(method=\"pearson\")\n",
    "print('Pearson :\\n', pcorr)\n",
    "\n",
    "# Compare the coefficients and p-values:\n",
    "\n",
    "# If both the Pearson and Spearman coefficients are close to 1, it indicates a strong positive relationship between exercise hours and BMI, either linear or monotonic.\n",
    "# If both coefficients are close to -1, it indicates a strong negative relationship, either linear or monotonic.\n",
    "# If the Pearson coefficient is close to 1 while the Spearman coefficient is not, it suggests a strong linear relationship but not necessarily a monotonic one. This implies that the relationship between exercise hours and BMI is not consistently increasing or decreasing.\n",
    "# If the Spearman coefficient is close to 1 while the Pearson coefficient is not, it suggests a strong monotonic relationship but not necessarily a linear one. This implies that the relationship between exercise hours and BMI is consistently increasing or decreasing, but not necessarily at a constant rate."
   ]
  },
  {
   "cell_type": "code",
   "execution_count": 9,
   "id": "0631980f",
   "metadata": {},
   "outputs": [
    {
     "name": "stdout",
     "output_type": "stream",
     "text": [
      "Pearson :\n",
      "                    television_hours  physical_activity\n",
      "television_hours           1.000000          -0.070356\n",
      "physical_activity         -0.070356           1.000000\n"
     ]
    }
   ],
   "source": [
    "#4.\n",
    "\n",
    "import pandas as pd\n",
    "import random\n",
    "\n",
    "random.seed(31)\n",
    "television_hours = [random.randint(1, 12) for i in range(50)]\n",
    "physical_activity = [random.uniform(0, 10) for i in range(50)]\n",
    "\n",
    "df = pd.DataFrame(data = {\n",
    "    'television_hours' : television_hours,\n",
    "    'physical_activity' : physical_activity\n",
    "})\n",
    "\n",
    "pcorr = df.corr(method=\"pearson\")\n",
    "print('Pearson :\\n', pcorr)"
   ]
  },
  {
   "cell_type": "code",
   "execution_count": 19,
   "id": "de3fa88a",
   "metadata": {},
   "outputs": [
    {
     "name": "stdout",
     "output_type": "stream",
     "text": [
      "Covariance :\n",
      "                              Age  Soft drink Preference\n",
      "Age                    68.666667               5.133333\n",
      "Soft drink Preference   5.133333               0.666667 \n",
      "\n",
      "\n",
      "Spearman :\n",
      "                             Age  Soft drink Preference\n",
      "Age                    1.000000               0.833238\n",
      "Soft drink Preference  0.833238               1.000000 \n",
      "\n",
      "\n",
      "Pearson :\n",
      "                             Age  Soft drink Preference\n",
      "Age                    1.000000               0.758704\n",
      "Soft drink Preference  0.758704               1.000000\n"
     ]
    }
   ],
   "source": [
    "#5.\n",
    "\n",
    "import pandas as pd\n",
    "\n",
    "\n",
    "d = {\n",
    "    'Age' : [25, 42, 37, 19, 31, 28],\n",
    "    'Soft drink Preference' : ['coke', 'pepsi', 'mountain dew', 'coke', 'pepsi', 'coke']\n",
    "}\n",
    "df = pd.DataFrame(d)\n",
    "\n",
    "df['Soft drink Preference'] = df['Soft drink Preference'].map({'coke': 1, 'pepsi': 2, 'mountain dew': 3})\n",
    "\n",
    "cov = df.cov()\n",
    "print('Covariance :\\n', cov, '\\n\\n')\n",
    "\n",
    "scorr = df.corr(method=\"spearman\")\n",
    "print('Spearman :\\n', scorr, '\\n\\n')\n",
    "\n",
    "pcorr = df.corr(method=\"pearson\")\n",
    "print('Pearson :\\n', pcorr)"
   ]
  },
  {
   "cell_type": "code",
   "execution_count": 14,
   "id": "cadab55c",
   "metadata": {},
   "outputs": [
    {
     "data": {
      "text/plain": [
       "0            coke\n",
       "1           pepsi\n",
       "2    mountain dew\n",
       "3            coke\n",
       "4           pepsi\n",
       "5            coke\n",
       "Name: Soft drink Preference, dtype: object"
      ]
     },
     "execution_count": 14,
     "metadata": {},
     "output_type": "execute_result"
    }
   ],
   "source": [
    "#6.\n",
    "\n",
    "import pandas as pd\n",
    "from scipy.stats import pearsonr\n",
    "\n",
    "data = {\n",
    "    'Sales Calls per Day': [20, 25, 18, 30, 22, 19, 28, 24, 26, 21, 23, 27, 17, 15, 29, 16, 14, 31, 32, 33, 13, 35, 36, 37, 12, 11, 38, 40, 39, 34],\n",
    "    'Sales per Week': [5, 7, 4, 8, 6, 4, 7, 6, 7, 5, 6, 7, 4, 3, 7, 3, 2, 8, 9, 10, 2, 11, 12, 13, 2, 1, 14, 15, 13, 10]\n",
    "}\n",
    "\n",
    "df = pd.DataFrame(data)\n",
    "\n",
    "\n",
    "\n",
    "print(\"Pearson correlation coefficient:\", correlation_coefficient)"
   ]
  },
  {
   "cell_type": "code",
   "execution_count": null,
   "id": "9ccaa2a7",
   "metadata": {},
   "outputs": [],
   "source": []
  }
 ],
 "metadata": {
  "kernelspec": {
   "display_name": "Python 3 (ipykernel)",
   "language": "python",
   "name": "python3"
  },
  "language_info": {
   "codemirror_mode": {
    "name": "ipython",
    "version": 3
   },
   "file_extension": ".py",
   "mimetype": "text/x-python",
   "name": "python",
   "nbconvert_exporter": "python",
   "pygments_lexer": "ipython3",
   "version": "3.11.4"
  }
 },
 "nbformat": 4,
 "nbformat_minor": 5
}
